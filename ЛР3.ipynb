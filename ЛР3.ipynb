{
  "nbformat": 4,
  "nbformat_minor": 0,
  "metadata": {
    "colab": {
      "name": "ЛР3.ipynb",
      "provenance": [],
      "authorship_tag": "ABX9TyOwm0zQ3ORipx8XqLJNAmss",
      "include_colab_link": true
    },
    "kernelspec": {
      "name": "python3",
      "display_name": "Python 3"
    },
    "language_info": {
      "name": "python"
    }
  },
  "cells": [
    {
      "cell_type": "markdown",
      "metadata": {
        "id": "view-in-github",
        "colab_type": "text"
      },
      "source": [
        "<a href=\"https://colab.research.google.com/github/Viktory4121/MM/blob/main/%D0%9B%D0%A03.ipynb\" target=\"_parent\"><img src=\"https://colab.research.google.com/assets/colab-badge.svg\" alt=\"Open In Colab\"/></a>"
      ]
    },
    {
      "cell_type": "markdown",
      "source": [
        "### Лабораторная работа №3.\n",
        "#### Клеточные конечные автоматы.\n",
        "##### Вариант 11."
      ],
      "metadata": {
        "id": "u3aGZwVuMGKY"
      }
    },
    {
      "cell_type": "code",
      "execution_count": 1,
      "metadata": {
        "id": "mngaEr5-L_S5"
      },
      "outputs": [],
      "source": [
        "import numpy as np\n",
        "import pandas as pd\n",
        "import random\n",
        "import copy\n",
        "import math\n",
        "import statistics as s\n",
        "from prettytable import PrettyTable"
      ]
    },
    {
      "cell_type": "markdown",
      "source": [
        "#### Входные параметры:"
      ],
      "metadata": {
        "id": "m3Aqlu4eMjfj"
      }
    },
    {
      "cell_type": "code",
      "source": [
        ""
      ],
      "metadata": {
        "id": "sHv_qA7MMc0F"
      },
      "execution_count": null,
      "outputs": []
    }
  ]
}