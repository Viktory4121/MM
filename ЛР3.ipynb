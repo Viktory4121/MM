{
  "nbformat": 4,
  "nbformat_minor": 0,
  "metadata": {
    "colab": {
      "name": "ЛР3.ipynb",
      "provenance": [],
      "authorship_tag": "ABX9TyPDx+auCmzHagLQlrqHzFni",
      "include_colab_link": true
    },
    "kernelspec": {
      "name": "python3",
      "display_name": "Python 3"
    },
    "language_info": {
      "name": "python"
    }
  },
  "cells": [
    {
      "cell_type": "markdown",
      "metadata": {
        "id": "view-in-github",
        "colab_type": "text"
      },
      "source": [
        "<a href=\"https://colab.research.google.com/github/Viktory4121/MM/blob/main/%D0%9B%D0%A03.ipynb\" target=\"_parent\"><img src=\"https://colab.research.google.com/assets/colab-badge.svg\" alt=\"Open In Colab\"/></a>"
      ]
    },
    {
      "cell_type": "markdown",
      "source": [
        "### Лабораторная работа №3.\n",
        "#### Клеточные конечные автоматы.\n",
        "##### Вариант 11."
      ],
      "metadata": {
        "id": "u3aGZwVuMGKY"
      }
    },
    {
      "cell_type": "code",
      "execution_count": 5,
      "metadata": {
        "id": "mngaEr5-L_S5"
      },
      "outputs": [],
      "source": [
        "import numpy as np\n",
        "import pandas as pd\n",
        "import random\n",
        "import copy\n",
        "import math\n",
        "import itertools as it"
      ]
    },
    {
      "cell_type": "markdown",
      "source": [
        "#### Входные параметры:"
      ],
      "metadata": {
        "id": "m3Aqlu4eMjfj"
      }
    },
    {
      "cell_type": "code",
      "source": [
        "t = [i for i in range(1, 11)]"
      ],
      "metadata": {
        "id": "sHv_qA7MMc0F"
      },
      "execution_count": 29,
      "outputs": []
    },
    {
      "cell_type": "markdown",
      "source": [
        "#### Генерация основной части таблицы состояний:"
      ],
      "metadata": {
        "id": "49t-MQYgpRRz"
      }
    },
    {
      "cell_type": "code",
      "source": [
        "def generation_table_states():\n",
        "  #table = [[0 for j in range(5)] for i in range(32)]\n",
        "  table = pd.DataFrame(it.product([0,1], repeat=5))\n",
        "  table['x(t;c1;c2)'] = [0,0,0,0,0,0,0,0,0,0,0,1,1,1,1,1,1,1,1,1,1,1,0,0,0,0,0,0,0,0,0,0]\n",
        "  table.columns = ['x(t-1;c1;c2)', 'x(t-1; c1-1;c2)', 'x(t-1;c1+1;c2)', 'x(t-1;c1;c2-1)', 'x(t-1;c1;c2+1)', 'x(t;c1;c2)']\n",
        "  return table"
      ],
      "metadata": {
        "id": "AlftWb8fiMBz"
      },
      "execution_count": 34,
      "outputs": []
    },
    {
      "cell_type": "markdown",
      "source": [
        "#### Работа с таблицей состояний:"
      ],
      "metadata": {
        "id": "oug9TOggpYHT"
      }
    },
    {
      "cell_type": "code",
      "source": [
        ""
      ],
      "metadata": {
        "id": "sGgFVB_spfCA"
      },
      "execution_count": null,
      "outputs": []
    }
  ]
}