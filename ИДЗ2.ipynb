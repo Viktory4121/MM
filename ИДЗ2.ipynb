{
  "nbformat": 4,
  "nbformat_minor": 0,
  "metadata": {
    "colab": {
      "name": "ИДЗ2_ММ.ipynb",
      "provenance": [],
      "authorship_tag": "ABX9TyOg04y1MV1Po6sjSZCSeXZW",
      "include_colab_link": true
    },
    "kernelspec": {
      "name": "python3",
      "display_name": "Python 3"
    },
    "language_info": {
      "name": "python"
    }
  },
  "cells": [
    {
      "cell_type": "markdown",
      "metadata": {
        "id": "view-in-github",
        "colab_type": "text"
      },
      "source": [
        "<a href=\"https://colab.research.google.com/github/Viktory4121/MM/blob/main/%D0%98%D0%94%D0%972_%D0%9C%D0%9C.ipynb\" target=\"_parent\"><img src=\"https://colab.research.google.com/assets/colab-badge.svg\" alt=\"Open In Colab\"/></a>"
      ]
    },
    {
      "cell_type": "markdown",
      "metadata": {
        "id": "Nn3RhPXUVI1l"
      },
      "source": [
        "#ИДЗ 2. Вынужденные колебания материальной точки.\n",
        "###Вариант 8 + 9.\n",
        "\n",
        "Задание:\n",
        "В начальный момент времени груз массой m1, прикрепленный к вязкоупругой подвеске (обобщающая схема динамической системы изображена на рис. 2.2, а), находится в покое в гравитационном поле. В начальный момент\n",
        "времени t = 0 ему сообщается скорость v0, направленная вверх/вниз (см. варианты) и одновременно присоединяется масса m2 либо отсоединяется масса m3. Начальные возмущения вызывают колебательный процесс, который требуется описать и проанализировать.\n",
        "Требуется:\n",
        "- привести исходные данные анализируемой системы к эквивалентной\n",
        "схеме (см. рис.2.1, рис. 2.2);\n",
        "- направляя ось координат x вниз и выбирая начало отсчета в положении\n",
        "равновесия колеблющегося груза, записать уравнение движения;\n",
        "- сформулировать начальные условия для центра масс груза;\n",
        "- построить частное решение задачи Коши; \n",
        "- построить амплитудно-частотную характеристику при номинальном\n",
        "значении параметра вязкости µ, а также при значениях, отличающихся в десять раз в обе стороны, провести анализ и дать комментарии."
      ]
    },
    {
      "cell_type": "code",
      "metadata": {
        "id": "c-0dtxDpUWXH"
      },
      "source": [
        "import numpy as np\n",
        "import pandas as pd\n",
        "import matplotlib.pyplot as plt\n",
        "import math\n",
        "from sklearn.metrics import r2_score\n",
        "from sklearn.metrics import mean_squared_error\n",
        "%matplotlib inline"
      ],
      "execution_count": 1,
      "outputs": []
    },
    {
      "cell_type": "code",
      "metadata": {
        "id": "uCMCccCSVGCJ"
      },
      "source": [
        "#Вариант 8:\n",
        "#Жёсткость пружины (Н/см)\n",
        "c1 = 0.2\n",
        "c2 = 0.25\n",
        "c3 = 0.0\n",
        "\n",
        "#Вариант 9:\n",
        "#Масса груза (кг)\n",
        "m1 = 3.0\n",
        "m2 = 1.0\n",
        "m3 = 0.0\n",
        "#Коэффициент вязкости среды (кг/с)\n",
        "Mu = 1.2\n",
        "#Скорость (м/с)\n",
        "V0 = 1.0\n",
        "#Направление - вверх\n",
        "#Частота вынужденных колебаний (шт.)\n",
        "Omega = 12.0\n",
        "\n",
        "g = 9.81\n",
        "ksi0 = 0.07"
      ],
      "execution_count": 7,
      "outputs": []
    },
    {
      "cell_type": "code",
      "metadata": {
        "id": "9mUx6jzYZTtf"
      },
      "source": [
        "#Так как расположение 1 и 2 пружин - параллельно, то:\n",
        "c_eq = c1 + c2\n",
        "#при последовательном размещении используется формула:\n",
        "#c_eq = (c1 * c2) / (c1 + c2)\n",
        "\n",
        "#Аналогичным образом можно расчитать массу:\n",
        "m_eq = m1 + m2\n",
        "\n",
        "lambda_st = m_eq * g / c_eq\n",
        "b = mu / (2.0 * m_eq)\n",
        "k = c_eq / m_eq\n",
        "a0 = (ksi0 * c_eq) / m_eq\n",
        "\n"
      ],
      "execution_count": 8,
      "outputs": []
    },
    {
      "cell_type": "code",
      "metadata": {
        "id": "I6P5Z_L1ndn6"
      },
      "source": [
        ""
      ],
      "execution_count": null,
      "outputs": []
    }
  ]
}
