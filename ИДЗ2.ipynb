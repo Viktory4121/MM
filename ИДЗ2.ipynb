{
  "nbformat": 4,
  "nbformat_minor": 0,
  "metadata": {
    "colab": {
      "name": "ИДЗ2_ММ.ipynb",
      "provenance": [],
      "authorship_tag": "ABX9TyMuAvsjIeV8XO/LtLlc3Uw4",
      "include_colab_link": true
    },
    "kernelspec": {
      "name": "python3",
      "display_name": "Python 3"
    },
    "language_info": {
      "name": "python"
    }
  },
  "cells": [
    {
      "cell_type": "markdown",
      "metadata": {
        "id": "view-in-github",
        "colab_type": "text"
      },
      "source": [
        "<a href=\"https://colab.research.google.com/github/Viktory4121/MM/blob/main/%D0%98%D0%94%D0%972.ipynb\" target=\"_parent\"><img src=\"https://colab.research.google.com/assets/colab-badge.svg\" alt=\"Open In Colab\"/></a>"
      ]
    },
    {
      "cell_type": "markdown",
      "metadata": {
        "id": "Nn3RhPXUVI1l"
      },
      "source": [
        "#ИДЗ 2. Вынужденные колебания материальной точки.\n",
        "###Вариант 8 + 9.\n",
        "\n",
        "Задание:\n",
        "В начальный момент времени груз массой m1, прикрепленный к вязкоупругой подвеске (обобщающая схема динамической системы изображена на рис. 2.2, а), находится в покое в гравитационном поле. В начальный момент\n",
        "времени t = 0 ему сообщается скорость v0, направленная вверх/вниз (см. варианты) и одновременно присоединяется масса m2 либо отсоединяется масса m3. Начальные возмущения вызывают колебательный процесс, который требуется описать и проанализировать.\n",
        "Требуется:\n",
        "- привести исходные данные анализируемой системы к эквивалентной\n",
        "схеме (см. рис.2.1, рис. 2.2);\n",
        "- направляя ось координат x вниз и выбирая начало отсчета в положении\n",
        "равновесия колеблющегося груза, записать уравнение движения;\n",
        "- сформулировать начальные условия для центра масс груза;\n",
        "- построить частное решение задачи Коши; \n",
        "- построить амплитудно-частотную характеристику при номинальном\n",
        "значении параметра вязкости µ, а также при значениях, отличающихся в десять раз в обе стороны, провести анализ и дать комментарии."
      ]
    },
    {
      "cell_type": "code",
      "metadata": {
        "id": "c-0dtxDpUWXH"
      },
      "source": [
        "import numpy as np\n",
        "import pandas as pd\n",
        "import matplotlib.pyplot as plt\n",
        "import math\n",
        "from sklearn.metrics import r2_score\n",
        "from sklearn.metrics import mean_squared_error\n",
        "%matplotlib inline"
      ],
      "execution_count": 20,
      "outputs": []
    },
    {
      "cell_type": "code",
      "metadata": {
        "id": "uCMCccCSVGCJ"
      },
      "source": [
        "#Вариант 8:\n",
        "#Жёсткость пружины (Н/см)\n",
        "c1 = 0.2\n",
        "c2 = 0.25\n",
        "c3 = 0.0\n",
        "\n",
        "#Вариант 9:\n",
        "#Масса груза (кг)\n",
        "m1 = 3.0\n",
        "m2 = 1.0\n",
        "m3 = 0.0\n",
        "#Коэффициент вязкости среды (кг/с)\n",
        "mu = 1.2\n",
        "#Скорость (м/с)\n",
        "v0 = 1.0\n",
        "#Направление - вверх\n",
        "#Частота вынужденных колебаний (шт.)\n",
        "omega = 12.0\n",
        "\n",
        "g = 9.81\n",
        "ksi0 = 0.07"
      ],
      "execution_count": 21,
      "outputs": []
    },
    {
      "cell_type": "code",
      "metadata": {
        "id": "9mUx6jzYZTtf",
        "colab": {
          "base_uri": "https://localhost:8080/"
        },
        "outputId": "ba4de47d-1c77-4929-d6af-26ccb5a204f7"
      },
      "source": [
        "#Так как расположение 1 и 2 пружин - параллельно, то:\n",
        "c = c1 + c2\n",
        "#пружины 1 и 2 по отношению к 3 располагаются последовательно, тогда:\n",
        "#c = (c_eq * c3) / (c_eq + c3)\n",
        "print(\"c = \", c)\n",
        "\n",
        "#Аналогичным образом можно расчитать массу:\n",
        "m = m1 + m2 + m3\n",
        "print(\"m = \", m)\n",
        "\n",
        "lambda_st = m * g / c\n",
        "print(\"lambda_st = \", lambda_st)\n",
        "\n",
        "b = mu / (2.0 * m)\n",
        "print(\"b = \", b)\n",
        "\n",
        "k = c / m\n",
        "print(\"k = \", k)\n",
        "\n",
        "a0 = (ksi0 * c) / m\n",
        "print(\"a0 = \", a0)"
      ],
      "execution_count": 34,
      "outputs": [
        {
          "output_type": "stream",
          "name": "stdout",
          "text": [
            "c =  0.45\n",
            "m =  4.0\n",
            "lambda_st =  87.2\n",
            "b =  0.15\n",
            "k =  0.1125\n",
            "a0 =  0.007875000000000002\n"
          ]
        }
      ]
    },
    {
      "cell_type": "code",
      "metadata": {
        "id": "XWTgJ6btdB5-",
        "outputId": "59888c1a-c54d-4b4c-e4be-b576aeb3eb6b",
        "colab": {
          "base_uri": "https://localhost:8080/"
        }
      },
      "source": [
        "print(\"Утверждение, что в системе низкий уровень вязкости: \", (b**2 - k**2) < 0)\n",
        "#если true, то в системе происходят собственные колебания (низкий уровень вязкости)\n",
        "#если false, то при высокой вязкости среды, собственное движение представляет собой апериодический процесс"
      ],
      "execution_count": 41,
      "outputs": [
        {
          "output_type": "stream",
          "name": "stdout",
          "text": [
            "Утверждение, что в системе низкий уровень вязкости:  False\n"
          ]
        }
      ]
    },
    {
      "cell_type": "code",
      "metadata": {
        "colab": {
          "base_uri": "https://localhost:8080/"
        },
        "id": "x8_6QlHZT--E",
        "outputId": "3096a7ab-7d24-4730-b3ac-8680855a038a"
      },
      "source": [
        "delta = (k**2 - b**2)**2 + 4 * (b**2) * (omega**2)\n",
        "print(\"delta = \", delta)\n",
        "\n",
        "alpha = a0 * 2 * b * omega / delta\n",
        "print(\"alpha = \", alpha)\n",
        "\n",
        "beta = a0 * (k**2 - b**2) / delta\n",
        "print(\"beta = \", beta)"
      ],
      "execution_count": 35,
      "outputs": [
        {
          "output_type": "stream",
          "name": "stdout",
          "text": [
            "delta =  12.960096899414062\n",
            "alpha =  0.0021874836446077604\n",
            "beta =  -5.981400590724344e-06\n"
          ]
        }
      ]
    },
    {
      "cell_type": "code",
      "metadata": {
        "id": "I6P5Z_L1ndn6"
      },
      "source": [
        "#Переменная\n",
        "t = [i for i in range(0,101,1)]"
      ],
      "execution_count": 36,
      "outputs": []
    },
    {
      "cell_type": "code",
      "metadata": {
        "id": "qn7kFejTQANh"
      },
      "source": [
        "A = a0 / math.sqrt(delta)"
      ],
      "execution_count": 37,
      "outputs": []
    },
    {
      "cell_type": "code",
      "metadata": {
        "colab": {
          "base_uri": "https://localhost:8080/",
          "height": 283
        },
        "id": "z57UlYO2VNE6",
        "outputId": "dad27b25-ff26-4081-8364-573124609f69"
      },
      "source": [
        "cc = 5\n",
        "psi0 = 0.01\n",
        "phi0 = 0.02\n",
        "x_test = []\n",
        "\n",
        "for i in t:\n",
        "  x_test.append(cc * math.exp(-b*i) * math.sin(math.sqrt(abs(k**2 - b**2)) + psi0) + A * math.sin(omega * i + phi0))\n",
        "\n",
        "plt.plot(t, x_test, color = \"red\")"
      ],
      "execution_count": 51,
      "outputs": [
        {
          "output_type": "execute_result",
          "data": {
            "text/plain": [
              "[<matplotlib.lines.Line2D at 0x7febdbff8350>]"
            ]
          },
          "metadata": {},
          "execution_count": 51
        },
        {
          "output_type": "display_data",
          "data": {
            "image/png": "[encoded data removed]",
            "text/plain": [
              "<Figure size 432x288 with 1 Axes>"
            ]
          },
          "metadata": {
            "needs_background": "light"
          }
        }
      ]
    }
  ]
}