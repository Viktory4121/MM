{
  "nbformat": 4,
  "nbformat_minor": 0,
  "metadata": {
    "colab": {
      "name": "ИДЗ2_ММ.ipynb",
      "provenance": [],
      "authorship_tag": "ABX9TyMZ+OAnAeu29piqxuFt1kjf",
      "include_colab_link": true
    },
    "kernelspec": {
      "name": "python3",
      "display_name": "Python 3"
    },
    "language_info": {
      "name": "python"
    }
  },
  "cells": [
    {
      "cell_type": "markdown",
      "metadata": {
        "id": "view-in-github",
        "colab_type": "text"
      },
      "source": [
        "<a href=\"https://colab.research.google.com/github/Viktory4121/MM/blob/main/%D0%98%D0%94%D0%972.ipynb\" target=\"_parent\"><img src=\"https://colab.research.google.com/assets/colab-badge.svg\" alt=\"Open In Colab\"/></a>"
      ]
    },
    {
      "cell_type": "markdown",
      "metadata": {
        "id": "Nn3RhPXUVI1l"
      },
      "source": [
        "#ИДЗ 2. Вынужденные колебания материальной точки.\n",
        "###Вариант 8 + 9.\n",
        "\n",
        "Задание:\n",
        "В начальный момент времени груз массой m1, прикрепленный к вязкоупругой подвеске (обобщающая схема динамической системы изображена на рис. 2.2, а), находится в покое в гравитационном поле. В начальный момент\n",
        "времени t = 0 ему сообщается скорость v0, направленная вверх/вниз (см. варианты) и одновременно присоединяется масса m2 либо отсоединяется масса m3. Начальные возмущения вызывают колебательный процесс, который требуется описать и проанализировать.\n",
        "Требуется:\n",
        "- привести исходные данные анализируемой системы к эквивалентной\n",
        "схеме (см. рис.2.1, рис. 2.2);\n",
        "- направляя ось координат x вниз и выбирая начало отсчета в положении\n",
        "равновесия колеблющегося груза, записать уравнение движения;\n",
        "- сформулировать начальные условия для центра масс груза;\n",
        "- построить частное решение задачи Коши; \n",
        "- построить амплитудно-частотную характеристику при номинальном\n",
        "значении параметра вязкости µ, а также при значениях, отличающихся в десять раз в обе стороны, провести анализ и дать комментарии."
      ]
    },
    {
      "cell_type": "code",
      "metadata": {
        "id": "c-0dtxDpUWXH"
      },
      "source": [
        "import numpy as np\n",
        "import pandas as pd\n",
        "import matplotlib.pyplot as plt\n",
        "import math\n",
        "from sklearn.metrics import r2_score\n",
        "from sklearn.metrics import mean_squared_error\n",
        "%matplotlib inline"
      ],
      "execution_count": 20,
      "outputs": []
    },
    {
      "cell_type": "code",
      "metadata": {
        "id": "uCMCccCSVGCJ"
      },
      "source": [
        "#Вариант 8:\n",
        "#Жёсткость пружины (Н/см)\n",
        "c1 = 0.2\n",
        "c2 = 0.25\n",
        "c3 = 0.0\n",
        "\n",
        "#Вариант 9:\n",
        "#Масса груза (кг)\n",
        "m1 = 3.0\n",
        "m2 = 1.0\n",
        "m3 = 0.0\n",
        "#Коэффициент вязкости среды (кг/с)\n",
        "mu = 1.2\n",
        "#Скорость (м/с)\n",
        "v0 = 1.0\n",
        "#Направление - вверх\n",
        "#Частота вынужденных колебаний (шт.)\n",
        "omega = 12.0\n",
        "\n",
        "g = 9.81\n",
        "ksi0 = 0.07"
      ],
      "execution_count": 21,
      "outputs": []
    },
    {
      "cell_type": "code",
      "metadata": {
        "id": "9mUx6jzYZTtf",
        "outputId": "ba4de47d-1c77-4929-d6af-26ccb5a204f7",
        "colab": {
          "base_uri": "https://localhost:8080/"
        }
      },
      "source": [
        "#Так как расположение 1 и 2 пружин - параллельно, то:\n",
        "c = c1 + c2\n",
        "#пружины 1 и 2 по отношению к 3 располагаются последовательно, тогда:\n",
        "#c = (c_eq * c3) / (c_eq + c3)\n",
        "print(\"c = \", c)\n",
        "\n",
        "#Аналогичным образом можно расчитать массу:\n",
        "m = m1 + m2 + m3\n",
        "print(\"m = \", m)\n",
        "\n",
        "lambda_st = m * g / c\n",
        "print(\"lambda_st = \", lambda_st)\n",
        "\n",
        "b = mu / (2.0 * m)\n",
        "print(\"b = \", b)\n",
        "\n",
        "k = c / m\n",
        "print(\"k = \", k)\n",
        "\n",
        "a0 = (ksi0 * c) / m\n",
        "print(\"a0 = \", a0)"
      ],
      "execution_count": 34,
      "outputs": [
        {
          "output_type": "stream",
          "name": "stdout",
          "text": [
            "c =  0.45\n",
            "m =  4.0\n",
            "lambda_st =  87.2\n",
            "b =  0.15\n",
            "k =  0.1125\n",
            "a0 =  0.007875000000000002\n"
          ]
        }
      ]
    },
    {
      "cell_type": "code",
      "metadata": {
        "id": "x8_6QlHZT--E",
        "outputId": "3096a7ab-7d24-4730-b3ac-8680855a038a",
        "colab": {
          "base_uri": "https://localhost:8080/"
        }
      },
      "source": [
        "delta = (k**2 - b**2)**2 + 4 * (b**2) * (omega**2)\n",
        "print(\"delta = \", delta)\n",
        "\n",
        "alpha = a0 * 2 * b * omega / delta\n",
        "print(\"alpha = \", alpha)\n",
        "\n",
        "beta = a0 * (k**2 - b**2) / delta\n",
        "print(\"beta = \", beta)"
      ],
      "execution_count": 35,
      "outputs": [
        {
          "output_type": "stream",
          "name": "stdout",
          "text": [
            "delta =  12.960096899414062\n",
            "alpha =  0.0021874836446077604\n",
            "beta =  -5.981400590724344e-06\n"
          ]
        }
      ]
    },
    {
      "cell_type": "code",
      "metadata": {
        "id": "I6P5Z_L1ndn6"
      },
      "source": [
        "#Переменная\n",
        "t = [i for i in range(0,101,1)]"
      ],
      "execution_count": 36,
      "outputs": []
    },
    {
      "cell_type": "code",
      "metadata": {
        "id": "qn7kFejTQANh"
      },
      "source": [
        "A = a0 / math.sqrt(delta)"
      ],
      "execution_count": 37,
      "outputs": []
    },
    {
      "cell_type": "code",
      "metadata": {
        "id": "z57UlYO2VNE6",
        "outputId": "d90ec26b-4d31-4df4-8e06-f4753b65bfc4",
        "colab": {
          "base_uri": "https://localhost:8080/",
          "height": 235
        }
      },
      "source": [
        "cc = 5\n",
        "psi0 = 0.01\n",
        "phi0 = 0.02\n",
        "x_test = []\n",
        "\n",
        "for i in t:\n",
        "  x_test.append(cc * math.exp(-b*i) * math.sin(math.sqrt(k**2 - b**2) + psi0) + A * math.sin(omega * t + phi0))\n",
        "\n",
        "plt.plot(t, x_test, color = \"red\")"
      ],
      "execution_count": 27,
      "outputs": [
        {
          "output_type": "error",
          "ename": "ValueError",
          "evalue": "ignored",
          "traceback": [
            "\u001b[0;31m---------------------------------------------------------------------------\u001b[0m",
            "\u001b[0;31mValueError\u001b[0m                                Traceback (most recent call last)",
            "\u001b[0;32m<ipython-input-27-ba7cdba14265>\u001b[0m in \u001b[0;36m<module>\u001b[0;34m()\u001b[0m\n\u001b[1;32m      5\u001b[0m \u001b[0;34m\u001b[0m\u001b[0m\n\u001b[1;32m      6\u001b[0m \u001b[0;32mfor\u001b[0m \u001b[0mi\u001b[0m \u001b[0;32min\u001b[0m \u001b[0mt\u001b[0m\u001b[0;34m:\u001b[0m\u001b[0;34m\u001b[0m\u001b[0;34m\u001b[0m\u001b[0m\n\u001b[0;32m----> 7\u001b[0;31m   \u001b[0mx_test\u001b[0m\u001b[0;34m.\u001b[0m\u001b[0mappend\u001b[0m\u001b[0;34m(\u001b[0m\u001b[0mcc\u001b[0m \u001b[0;34m*\u001b[0m \u001b[0mmath\u001b[0m\u001b[0;34m.\u001b[0m\u001b[0mexp\u001b[0m\u001b[0;34m(\u001b[0m\u001b[0;34m-\u001b[0m\u001b[0mb\u001b[0m\u001b[0;34m*\u001b[0m\u001b[0mi\u001b[0m\u001b[0;34m)\u001b[0m \u001b[0;34m*\u001b[0m \u001b[0mmath\u001b[0m\u001b[0;34m.\u001b[0m\u001b[0msin\u001b[0m\u001b[0;34m(\u001b[0m\u001b[0mmath\u001b[0m\u001b[0;34m.\u001b[0m\u001b[0msqrt\u001b[0m\u001b[0;34m(\u001b[0m\u001b[0mk\u001b[0m\u001b[0;34m**\u001b[0m\u001b[0;36m2\u001b[0m \u001b[0;34m-\u001b[0m \u001b[0mb\u001b[0m\u001b[0;34m**\u001b[0m\u001b[0;36m2\u001b[0m\u001b[0;34m)\u001b[0m \u001b[0;34m+\u001b[0m \u001b[0mpsi0\u001b[0m\u001b[0;34m)\u001b[0m \u001b[0;34m+\u001b[0m \u001b[0mA\u001b[0m \u001b[0;34m*\u001b[0m \u001b[0mmath\u001b[0m\u001b[0;34m.\u001b[0m\u001b[0msin\u001b[0m\u001b[0;34m(\u001b[0m\u001b[0momega\u001b[0m \u001b[0;34m*\u001b[0m \u001b[0mt\u001b[0m \u001b[0;34m+\u001b[0m \u001b[0mphi0\u001b[0m\u001b[0;34m)\u001b[0m\u001b[0;34m)\u001b[0m\u001b[0;34m\u001b[0m\u001b[0;34m\u001b[0m\u001b[0m\n\u001b[0m\u001b[1;32m      8\u001b[0m \u001b[0;34m\u001b[0m\u001b[0m\n\u001b[1;32m      9\u001b[0m \u001b[0mplt\u001b[0m\u001b[0;34m.\u001b[0m\u001b[0mplot\u001b[0m\u001b[0;34m(\u001b[0m\u001b[0mt\u001b[0m\u001b[0;34m,\u001b[0m \u001b[0mx_test\u001b[0m\u001b[0;34m,\u001b[0m \u001b[0mcolor\u001b[0m \u001b[0;34m=\u001b[0m \u001b[0;34m\"red\"\u001b[0m\u001b[0;34m)\u001b[0m\u001b[0;34m\u001b[0m\u001b[0;34m\u001b[0m\u001b[0m\n",
            "\u001b[0;31mValueError\u001b[0m: math domain error"
          ]
        }
      ]
    }
  ]
}