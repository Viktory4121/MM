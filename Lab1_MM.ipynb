{
  "nbformat": 4,
  "nbformat_minor": 0,
  "metadata": {
    "colab": {
      "name": "Lab1_MM.ipynb",
      "provenance": [],
      "collapsed_sections": [],
      "authorship_tag": "ABX9TyO05KOCt8xxfq5lVHLLC5wC",
      "include_colab_link": true
    },
    "kernelspec": {
      "name": "python3",
      "display_name": "Python 3"
    },
    "language_info": {
      "name": "python"
    }
  },
  "cells": [
    {
      "cell_type": "markdown",
      "metadata": {
        "id": "view-in-github",
        "colab_type": "text"
      },
      "source": [
        "<a href=\"https://colab.research.google.com/github/Viktory4121/MM/blob/main/Lab1_MM.ipynb\" target=\"_parent\"><img src=\"https://colab.research.google.com/assets/colab-badge.svg\" alt=\"Open In Colab\"/></a>"
      ]
    },
    {
      "cell_type": "markdown",
      "metadata": {
        "id": "q2CVgH5USBwa"
      },
      "source": [
        "#### Лабораторная работа №1. Конечные автоматы Мили и Мура.\n",
        "Вариант 11"
      ]
    },
    {
      "cell_type": "code",
      "metadata": {
        "id": "0PVxx7gNQnVf"
      },
      "source": [
        "import numpy as np\n",
        "import random\n",
        "import copy\n",
        "from prettytable import PrettyTable"
      ],
      "execution_count": 134,
      "outputs": []
    },
    {
      "cell_type": "code",
      "metadata": {
        "id": "sAFeW8vEoO4-",
        "colab": {
          "base_uri": "https://localhost:8080/"
        },
        "outputId": "fc0521ab-aa07-48fb-f0f3-272279a778fa"
      },
      "source": [
        "#Для 2х входов, 2х выходов и 2х состояний\n",
        "print('Ввести данные самостоятельно (+) или использовать данные 11 варианта (Enter)?')\n",
        "answer = input()\n",
        "\n",
        "if answer == '+':\n",
        "  print('Введите вход v1:')\n",
        "  v1 = list(input())\n",
        "  print('Введите вход v2:')\n",
        "  v2 = list(input())\n",
        "  print('Введите состояние x1:')\n",
        "  x1 = list(input())\n",
        "  print('Введите состояние x1:')\n",
        "  x2 = list(input())\n",
        "  print('Введите выход y1:')\n",
        "  y1 = list(input())\n",
        "  print('Введите выход y1:')\n",
        "  y2 = list(input())\n",
        "else:\n",
        "  #входы\n",
        "  v1 = '01'\n",
        "  v2 = 'АБВГ'\n",
        "  #состояния\n",
        "  x1 = '01'\n",
        "  x2 = 'АБВГ'\n",
        "  #выходы\n",
        "  y1 = 'АБВГ'\n",
        "  y2 = 'АБВГ'"
      ],
      "execution_count": 135,
      "outputs": [
        {
          "name": "stdout",
          "output_type": "stream",
          "text": [
            "Ввести данные самостоятельно (+) или использовать данные 11 варианта (Enter)?\n",
            "\n"
          ]
        }
      ]
    },
    {
      "cell_type": "markdown",
      "metadata": {
        "id": "-EQXNrPvM4CP"
      },
      "source": [
        "#### Переходы для автоматов Мили и Мура."
      ]
    },
    {
      "cell_type": "code",
      "metadata": {
        "colab": {
          "base_uri": "https://localhost:8080/"
        },
        "id": "gMzTMs3vFs8b",
        "outputId": "35dce717-0dbb-4b3b-948b-64e17a10812d"
      },
      "source": [
        "pos_inputs = []\n",
        "for i in range(len(v1)):\n",
        "  for j in range(len(v2)):\n",
        "    pos_inputs.append(v1[i] + v2[j])\n",
        "print('Возможные входы:', pos_inputs)\n",
        "\n",
        "pos_states = []\n",
        "for i in range(len(x1)):\n",
        "  for j in range(len(x2)):\n",
        "    pos_states.append(x1[i] + x2[j])\n",
        "print('Возможные состояния:', pos_states)\n",
        "\n",
        "pos_outputs = []\n",
        "for i in range(len(y1)):\n",
        "  for j in range(len(y2)):\n",
        "    pos_outputs.append(y1[i] + y2[j])\n",
        "print('Возможные выходы:', pos_outputs)"
      ],
      "execution_count": 190,
      "outputs": [
        {
          "output_type": "stream",
          "name": "stdout",
          "text": [
            "Возможные входы: ['0А', '0Б', '0В', '0Г', '1А', '1Б', '1В', '1Г']\n",
            "Возможные состояния: ['0А', '0Б', '0В', '0Г', '1А', '1Б', '1В', '1Г']\n",
            "Возможные выходы: ['АА', 'АБ', 'АВ', 'АГ', 'БА', 'ББ', 'БВ', 'БГ', 'ВА', 'ВБ', 'ВВ', 'ВГ', 'ГА', 'ГБ', 'ГВ', 'ГГ']\n"
          ]
        }
      ]
    },
    {
      "cell_type": "code",
      "metadata": {
        "colab": {
          "base_uri": "https://localhost:8080/"
        },
        "id": "pGzs7c6-Wg0p",
        "outputId": "9f4b5a5a-1186-4120-abbf-38ab7019a48d"
      },
      "source": [
        "#Вывод таблицы переходов\n",
        "print('Таблица переходов Мили и Мура')\n",
        "transition_table = PrettyTable()\n",
        "trans_tab = [['0'] * len(pos_inputs)] * len(pos_states)\n",
        "\n",
        "columns = pos_states.copy()\n",
        "columns.insert(0, \"v1,v2/x'1,x'2\")\n",
        "transition_table.field_names = columns\n",
        "\n",
        "for i in range(len(pos_inputs)):\n",
        "  for j in range(len(pos_states)):\n",
        "    trans_tab[i][j] = random.choice(pos_inputs)\n",
        "\n",
        "  transition_table.add_row([pos_inputs[i], trans_tab[i][0], trans_tab[i][1],\n",
        "                            trans_tab[i][2], trans_tab[i][3], trans_tab[i][4],\n",
        "                            trans_tab[i][5], trans_tab[i][6], trans_tab[i][7]])\n",
        "\n",
        "columns.clear()\n",
        "print(transition_table)"
      ],
      "execution_count": 191,
      "outputs": [
        {
          "output_type": "stream",
          "name": "stdout",
          "text": [
            "Таблица переходов Мили и Мура\n",
            "+---------------+----+----+----+----+----+----+----+----+\n",
            "| v1,v2/x'1,x'2 | 0А | 0Б | 0В | 0Г | 1А | 1Б | 1В | 1Г |\n",
            "+---------------+----+----+----+----+----+----+----+----+\n",
            "|       0А      | 1Г | 0Г | 0А | 0А | 0Б | 1В | 0Г | 0Г |\n",
            "|       0Б      | 1Г | 1В | 0Б | 1Б | 0Г | 0Б | 1Г | 0В |\n",
            "|       0В      | 1Г | 0Г | 1Б | 0Г | 1В | 0А | 1В | 0Б |\n",
            "|       0Г      | 0В | 0А | 0Б | 1Г | 0Г | 0Б | 1Г | 0Г |\n",
            "|       1А      | 0А | 0В | 1Г | 1А | 0Б | 1Г | 1Г | 0В |\n",
            "|       1Б      | 1А | 1А | 1А | 1В | 0Г | 0А | 0Г | 1Б |\n",
            "|       1В      | 0Б | 0А | 0В | 1В | 1А | 1А | 0Г | 0Г |\n",
            "|       1Г      | 1А | 1А | 1Б | 1Г | 1Б | 1Б | 0В | 0В |\n",
            "+---------------+----+----+----+----+----+----+----+----+\n"
          ]
        }
      ]
    },
    {
      "cell_type": "markdown",
      "metadata": {
        "id": "JruCp-5FgNLi"
      },
      "source": [
        "#### Выходы для автомата Мили."
      ]
    },
    {
      "cell_type": "code",
      "metadata": {
        "colab": {
          "base_uri": "https://localhost:8080/"
        },
        "id": "x20soJGSfLMu",
        "outputId": "e71b0241-9c7c-46ba-f8e2-34a0124d9a38"
      },
      "source": [
        "#Вывод таблицы выходов Мили\n",
        "print('Таблица выходов для Мили')\n",
        "output_table = PrettyTable()\n",
        "out_tab = [['0'] * len(pos_inputs)] * len(pos_states)\n",
        "\n",
        "columns2 = pos_states.copy()\n",
        "columns2.insert(0, \"v1,v2/x'1,x'2\")\n",
        "output_table.field_names = columns2\n",
        "\n",
        "for i in range(len(pos_inputs)):\n",
        "  for j in range(len(pos_states)):\n",
        "    out_tab[i][j] = random.choice(pos_outputs)\n",
        "  output_table.add_row([pos_inputs[i], out_tab[i][0], out_tab[i][1],\n",
        "                            out_tab[i][2], out_tab[i][3], out_tab[i][4],\n",
        "                            out_tab[i][5], out_tab[i][6], out_tab[i][7]])\n",
        "\n",
        "columns2.clear()\n",
        "print(output_table)"
      ],
      "execution_count": 192,
      "outputs": [
        {
          "output_type": "stream",
          "name": "stdout",
          "text": [
            "Таблица выходов для Мили\n",
            "+---------------+----+----+----+----+----+----+----+----+\n",
            "| v1,v2/x'1,x'2 | 0А | 0Б | 0В | 0Г | 1А | 1Б | 1В | 1Г |\n",
            "+---------------+----+----+----+----+----+----+----+----+\n",
            "|       0А      | ВА | ВГ | БГ | ВА | БА | АБ | АГ | АА |\n",
            "|       0Б      | АА | АА | ВА | АВ | АБ | ГВ | АБ | АА |\n",
            "|       0В      | ВВ | БВ | ВГ | ББ | АБ | ВВ | БА | АА |\n",
            "|       0Г      | ГА | АГ | ВА | ГБ | ГВ | ВБ | ВА | ВА |\n",
            "|       1А      | ББ | ГВ | ВВ | АА | ГБ | БА | АВ | ВА |\n",
            "|       1Б      | АА | АГ | ВА | ВГ | АГ | ВВ | ГБ | ВБ |\n",
            "|       1В      | БА | БГ | ББ | БГ | БА | БА | ВВ | ГВ |\n",
            "|       1Г      | БА | ВБ | БВ | ВВ | ГА | ГГ | АГ | ВГ |\n",
            "+---------------+----+----+----+----+----+----+----+----+\n"
          ]
        }
      ]
    },
    {
      "cell_type": "markdown",
      "metadata": {
        "id": "KShQJjB2krNZ"
      },
      "source": [
        "#### Отмеченная таблица переходов для автомата Мура."
      ]
    },
    {
      "cell_type": "code",
      "metadata": {
        "colab": {
          "base_uri": "https://localhost:8080/"
        },
        "id": "-SeKMclTkZTR",
        "outputId": "18ffa09f-4066-46dc-a8fb-e0e1c0a983ad"
      },
      "source": [
        "#Вывод отмеченной таблицы переходов Мура\n",
        "print('Отмеченная таблица переходов для Мура')\n",
        "marked_transition_table = PrettyTable()\n",
        "\n",
        "columns3 = pos_states.copy()\n",
        "columns3.insert(0, \"v1,v2/x'1,x'2\")\n",
        "marked_transition_table.field_names = columns3\n",
        "\n",
        "for i in range(len(pos_inputs)):\n",
        "  marked_transition_table.add_row([pos_inputs[i], trans_tab[i][0], trans_tab[i][1],\n",
        "                            trans_tab[i][2], trans_tab[i][3], trans_tab[i][4],\n",
        "                            trans_tab[i][5], trans_tab[i][6], trans_tab[i][7]])\n",
        "marked_transition_table.add_row(['','','','','','','','',''])\n",
        "\n",
        "input_y = ['0'] * len(pos_states)\n",
        "for i in range(len(pos_states)):\n",
        "  input_y[i] = random.choice(pos_outputs)\n",
        "marked_transition_table.add_row(['y1,y1', input_y[0], input_y[1], input_y[2],\n",
        "                                 input_y[3], input_y[4], input_y[5], input_y[6], input_y[7]])\n",
        "\n",
        "columns3.clear()\n",
        "print(marked_transition_table)"
      ],
      "execution_count": 193,
      "outputs": [
        {
          "output_type": "stream",
          "name": "stdout",
          "text": [
            "Отмеченная таблица переходов для Мура\n",
            "+---------------+----+----+----+----+----+----+----+----+\n",
            "| v1,v2/x'1,x'2 | 0А | 0Б | 0В | 0Г | 1А | 1Б | 1В | 1Г |\n",
            "+---------------+----+----+----+----+----+----+----+----+\n",
            "|       0А      | 1А | 1А | 1Б | 1Г | 1Б | 1Б | 0В | 0В |\n",
            "|       0Б      | 1А | 1А | 1Б | 1Г | 1Б | 1Б | 0В | 0В |\n",
            "|       0В      | 1А | 1А | 1Б | 1Г | 1Б | 1Б | 0В | 0В |\n",
            "|       0Г      | 1А | 1А | 1Б | 1Г | 1Б | 1Б | 0В | 0В |\n",
            "|       1А      | 1А | 1А | 1Б | 1Г | 1Б | 1Б | 0В | 0В |\n",
            "|       1Б      | 1А | 1А | 1Б | 1Г | 1Б | 1Б | 0В | 0В |\n",
            "|       1В      | 1А | 1А | 1Б | 1Г | 1Б | 1Б | 0В | 0В |\n",
            "|       1Г      | 1А | 1А | 1Б | 1Г | 1Б | 1Б | 0В | 0В |\n",
            "|               |    |    |    |    |    |    |    |    |\n",
            "|     y1,y1     | БВ | БГ | ВВ | БА | ББ | ГГ | ВГ | АГ |\n",
            "+---------------+----+----+----+----+----+----+----+----+\n"
          ]
        }
      ]
    },
    {
      "cell_type": "markdown",
      "metadata": {
        "id": "VoVafUZc5yb8"
      },
      "source": [
        "#### Выходы для интерпретирующего автомата Мили."
      ]
    },
    {
      "cell_type": "code",
      "metadata": {
        "colab": {
          "base_uri": "https://localhost:8080/"
        },
        "id": "jN2gSESP54IW",
        "outputId": "84a18db2-ddc8-4be0-c906-055ef7e661ac"
      },
      "source": [
        "#Вывод таблицы для интерпретирующего Мили\n",
        "print('Таблица выходов для интерпретирующего автомата Мили')\n",
        "interpretive_output_table = PrettyTable()\n",
        "int_out_tab = [['0'] * len(pos_inputs)] * len(pos_states)\n",
        "\n",
        "columns4 = pos_states.copy()\n",
        "columns4.insert(0, \"v1,v2/x'1,x'2\")\n",
        "interpretive_output_table.field_names = columns4\n",
        "\n",
        "for i in range(len(pos_inputs)):\n",
        "  for j in range(len(pos_states)):\n",
        "    if out_tab[i][j] in input_y:\n",
        "      int_out_tab[i][j] = out_tab[i][j]\n",
        "    else: int_out_tab[i][j] = '--'\n",
        "  interpretive_output_table.add_row([pos_inputs[i], int_out_tab[i][0], int_out_tab[i][1],\n",
        "                            int_out_tab[i][2], int_out_tab[i][3], int_out_tab[i][4],\n",
        "                            int_out_tab[i][5], int_out_tab[i][6], int_out_tab[i][7]])\n",
        "\n",
        "columns4.clear()\n",
        "print(interpretive_output_table)"
      ],
      "execution_count": 194,
      "outputs": [
        {
          "output_type": "stream",
          "name": "stdout",
          "text": [
            "Таблица выходов для интерпретирующего автомата Мили\n",
            "+---------------+----+----+----+----+----+----+----+----+\n",
            "| v1,v2/x'1,x'2 | 0А | 0Б | 0В | 0Г | 1А | 1Б | 1В | 1Г |\n",
            "+---------------+----+----+----+----+----+----+----+----+\n",
            "|       0А      | БА | -- | БВ | ВВ | -- | ГГ | АГ | ВГ |\n",
            "|       0Б      | БА | -- | БВ | ВВ | -- | ГГ | АГ | ВГ |\n",
            "|       0В      | БА | -- | БВ | ВВ | -- | ГГ | АГ | ВГ |\n",
            "|       0Г      | БА | -- | БВ | ВВ | -- | ГГ | АГ | ВГ |\n",
            "|       1А      | БА | -- | БВ | ВВ | -- | ГГ | АГ | ВГ |\n",
            "|       1Б      | БА | -- | БВ | ВВ | -- | ГГ | АГ | ВГ |\n",
            "|       1В      | БА | -- | БВ | ВВ | -- | ГГ | АГ | ВГ |\n",
            "|       1Г      | БА | -- | БВ | ВВ | -- | ГГ | АГ | ВГ |\n",
            "+---------------+----+----+----+----+----+----+----+----+\n"
          ]
        }
      ]
    }
  ]
}