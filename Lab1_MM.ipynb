{
  "nbformat": 4,
  "nbformat_minor": 0,
  "metadata": {
    "colab": {
      "name": "Lab1_MM.ipynb",
      "provenance": [],
      "collapsed_sections": [],
      "authorship_tag": "ABX9TyNqhxpjJCwu+zQnDxdSnWO0",
      "include_colab_link": true
    },
    "kernelspec": {
      "name": "python3",
      "display_name": "Python 3"
    },
    "language_info": {
      "name": "python"
    }
  },
  "cells": [
    {
      "cell_type": "markdown",
      "metadata": {
        "id": "view-in-github",
        "colab_type": "text"
      },
      "source": [
        "<a href=\"https://colab.research.google.com/github/Viktory4121/MM/blob/main/Lab1_MM.ipynb\" target=\"_parent\"><img src=\"https://colab.research.google.com/assets/colab-badge.svg\" alt=\"Open In Colab\"/></a>"
      ]
    },
    {
      "cell_type": "markdown",
      "metadata": {
        "id": "q2CVgH5USBwa"
      },
      "source": [
        "#### Лабораторная работа №1. Конечные автоматы Мили и Мура.\n",
        "Вариант 11"
      ]
    },
    {
      "cell_type": "code",
      "metadata": {
        "id": "0PVxx7gNQnVf"
      },
      "source": [
        "import numpy as np\n",
        "import random\n",
        "import copy\n",
        "from prettytable import PrettyTable"
      ],
      "execution_count": 195,
      "outputs": []
    },
    {
      "cell_type": "code",
      "metadata": {
        "id": "sAFeW8vEoO4-"
      },
      "source": [
        "#входы\n",
        "v1 = '01'\n",
        "v2 = 'АБВГ'\n",
        "#состояния\n",
        "x1 = '01'\n",
        "x2 = 'АБВГ'\n",
        "#выходы\n",
        "y1 = 'АБВГ'\n",
        "y2 = 'АБВГ'"
      ],
      "execution_count": 196,
      "outputs": []
    },
    {
      "cell_type": "markdown",
      "metadata": {
        "id": "-EQXNrPvM4CP"
      },
      "source": [
        "#### Переходы для автоматов Мили и Мура."
      ]
    },
    {
      "cell_type": "code",
      "metadata": {
        "colab": {
          "base_uri": "https://localhost:8080/"
        },
        "id": "gMzTMs3vFs8b",
        "outputId": "6c13c938-7b19-4199-b772-82657c0440c8"
      },
      "source": [
        "pos_inputs = []\n",
        "for i in range(len(v1)):\n",
        "  for j in range(len(v2)):\n",
        "    pos_inputs.append(v1[i] + v2[j])\n",
        "print('Возможные входы:', pos_inputs)\n",
        "\n",
        "pos_states = []\n",
        "for i in range(len(x1)):\n",
        "  for j in range(len(x2)):\n",
        "    pos_states.append(x1[i] + x2[j])\n",
        "print('Возможные состояния:', pos_states)\n",
        "\n",
        "pos_outputs = []\n",
        "for i in range(len(y1)):\n",
        "  for j in range(len(y2)):\n",
        "    pos_outputs.append(y1[i] + y2[j])\n",
        "print('Возможные выходы:', pos_outputs)"
      ],
      "execution_count": 197,
      "outputs": [
        {
          "output_type": "stream",
          "name": "stdout",
          "text": [
            "Возможные входы: ['0А', '0Б', '0В', '0Г', '1А', '1Б', '1В', '1Г']\n",
            "Возможные состояния: ['0А', '0Б', '0В', '0Г', '1А', '1Б', '1В', '1Г']\n",
            "Возможные выходы: ['АА', 'АБ', 'АВ', 'АГ', 'БА', 'ББ', 'БВ', 'БГ', 'ВА', 'ВБ', 'ВВ', 'ВГ', 'ГА', 'ГБ', 'ГВ', 'ГГ']\n"
          ]
        }
      ]
    },
    {
      "cell_type": "code",
      "metadata": {
        "colab": {
          "base_uri": "https://localhost:8080/"
        },
        "id": "pGzs7c6-Wg0p",
        "outputId": "8294523b-bd29-4c9b-ddb9-b797943a5e3e"
      },
      "source": [
        "#Вывод таблицы переходов\n",
        "print('Таблица переходов Мили и Мура')\n",
        "transition_table = PrettyTable()\n",
        "trans_tab = [['0'] * len(pos_inputs)] * len(pos_states)\n",
        "\n",
        "columns = pos_states.copy()\n",
        "columns.insert(0, \"v1,v2/x'1,x'2\")\n",
        "transition_table.field_names = columns\n",
        "\n",
        "for i in range(len(pos_inputs)):\n",
        "  for j in range(len(pos_states)):\n",
        "    trans_tab[i][j] = random.choice(pos_inputs)\n",
        "\n",
        "  transition_table.add_row([pos_inputs[i], trans_tab[i][0], trans_tab[i][1],\n",
        "                            trans_tab[i][2], trans_tab[i][3], trans_tab[i][4],\n",
        "                            trans_tab[i][5], trans_tab[i][6], trans_tab[i][7]])\n",
        "\n",
        "columns.clear()\n",
        "print(transition_table)"
      ],
      "execution_count": 198,
      "outputs": [
        {
          "output_type": "stream",
          "name": "stdout",
          "text": [
            "Таблица переходов Мили и Мура\n",
            "+---------------+----+----+----+----+----+----+----+----+\n",
            "| v1,v2/x'1,x'2 | 0А | 0Б | 0В | 0Г | 1А | 1Б | 1В | 1Г |\n",
            "+---------------+----+----+----+----+----+----+----+----+\n",
            "|       0А      | 0Г | 0А | 0В | 1Б | 0Б | 0В | 0Г | 0Г |\n",
            "|       0Б      | 0Б | 1Г | 1Г | 1Б | 1Б | 1В | 1Б | 1Б |\n",
            "|       0В      | 1В | 1В | 0А | 1Г | 0Б | 1Б | 0Г | 0Б |\n",
            "|       0Г      | 0В | 0Г | 0А | 0Г | 1Б | 1А | 1А | 1А |\n",
            "|       1А      | 0В | 0В | 1Г | 0В | 0В | 1Г | 0А | 1А |\n",
            "|       1Б      | 0Г | 1В | 1А | 0Г | 1Г | 1Б | 1В | 0Б |\n",
            "|       1В      | 1В | 0В | 0Г | 1Г | 0А | 0Г | 1Б | 1А |\n",
            "|       1Г      | 1А | 1Г | 1Б | 0Г | 1А | 1А | 1Г | 1В |\n",
            "+---------------+----+----+----+----+----+----+----+----+\n"
          ]
        }
      ]
    },
    {
      "cell_type": "markdown",
      "metadata": {
        "id": "JruCp-5FgNLi"
      },
      "source": [
        "#### Выходы для автомата Мили."
      ]
    },
    {
      "cell_type": "code",
      "metadata": {
        "colab": {
          "base_uri": "https://localhost:8080/"
        },
        "id": "x20soJGSfLMu",
        "outputId": "170251bd-115b-4e12-ca69-fa2d621501aa"
      },
      "source": [
        "#Вывод таблицы выходов Мили\n",
        "print('Таблица выходов для Мили')\n",
        "output_table = PrettyTable()\n",
        "out_tab = [['0'] * len(pos_inputs)] * len(pos_states)\n",
        "\n",
        "columns2 = pos_states.copy()\n",
        "columns2.insert(0, \"v1,v2/x'1,x'2\")\n",
        "output_table.field_names = columns2\n",
        "\n",
        "for i in range(len(pos_inputs)):\n",
        "  for j in range(len(pos_states)):\n",
        "    out_tab[i][j] = random.choice(pos_outputs)\n",
        "  output_table.add_row([pos_inputs[i], out_tab[i][0], out_tab[i][1],\n",
        "                            out_tab[i][2], out_tab[i][3], out_tab[i][4],\n",
        "                            out_tab[i][5], out_tab[i][6], out_tab[i][7]])\n",
        "\n",
        "columns2.clear()\n",
        "print(output_table)"
      ],
      "execution_count": 200,
      "outputs": [
        {
          "output_type": "stream",
          "name": "stdout",
          "text": [
            "Таблица выходов для Мили\n",
            "+---------------+----+----+----+----+----+----+----+----+\n",
            "| v1,v2/x'1,x'2 | 0А | 0Б | 0В | 0Г | 1А | 1Б | 1В | 1Г |\n",
            "+---------------+----+----+----+----+----+----+----+----+\n",
            "|       0А      | АА | АВ | АГ | АВ | АА | БВ | АГ | ВА |\n",
            "|       0Б      | ВВ | ГВ | ГБ | ВА | ГА | ВВ | АА | БВ |\n",
            "|       0В      | ГГ | БВ | ББ | ВГ | ББ | БГ | ГБ | ГВ |\n",
            "|       0Г      | ГГ | ГГ | ГГ | ВВ | АВ | ГБ | ГВ | ГБ |\n",
            "|       1А      | ГВ | БА | ББ | БГ | БА | ГГ | АА | ВВ |\n",
            "|       1Б      | ГА | ГВ | ГА | БГ | АГ | БВ | ГБ | БГ |\n",
            "|       1В      | ВБ | АВ | ГБ | БА | АГ | ГГ | ВА | ВА |\n",
            "|       1Г      | ГГ | ВГ | БГ | АВ | БГ | ГА | ВВ | ВБ |\n",
            "+---------------+----+----+----+----+----+----+----+----+\n"
          ]
        }
      ]
    },
    {
      "cell_type": "markdown",
      "metadata": {
        "id": "KShQJjB2krNZ"
      },
      "source": [
        "#### Отмеченная таблица переходов для автомата Мура."
      ]
    },
    {
      "cell_type": "code",
      "metadata": {
        "colab": {
          "base_uri": "https://localhost:8080/"
        },
        "id": "-SeKMclTkZTR",
        "outputId": "86f055a4-ef38-4a14-9575-5098ab85c5b7"
      },
      "source": [
        "#Вывод отмеченной таблицы переходов Мура\n",
        "print('Отмеченная таблица переходов для Мура')\n",
        "marked_transition_table = PrettyTable()\n",
        "\n",
        "columns3 = pos_states.copy()\n",
        "columns3.insert(0, \"v1,v2/x'1,x'2\")\n",
        "marked_transition_table.field_names = columns3\n",
        "\n",
        "for i in range(len(pos_inputs)):\n",
        "  marked_transition_table.add_row([pos_inputs[i], trans_tab[i][0], trans_tab[i][1],\n",
        "                            trans_tab[i][2], trans_tab[i][3], trans_tab[i][4],\n",
        "                            trans_tab[i][5], trans_tab[i][6], trans_tab[i][7]])\n",
        "marked_transition_table.add_row(['','','','','','','','',''])\n",
        "\n",
        "input_y = ['0'] * len(pos_states)\n",
        "for i in range(len(pos_states)):\n",
        "  input_y[i] = random.choice(pos_outputs)\n",
        "marked_transition_table.add_row(['y1,y1', input_y[0], input_y[1], input_y[2],\n",
        "                                 input_y[3], input_y[4], input_y[5], input_y[6], input_y[7]])\n",
        "\n",
        "columns3.clear()\n",
        "print(marked_transition_table)"
      ],
      "execution_count": 201,
      "outputs": [
        {
          "output_type": "stream",
          "name": "stdout",
          "text": [
            "Отмеченная таблица переходов для Мура\n",
            "+---------------+----+----+----+----+----+----+----+----+\n",
            "| v1,v2/x'1,x'2 | 0А | 0Б | 0В | 0Г | 1А | 1Б | 1В | 1Г |\n",
            "+---------------+----+----+----+----+----+----+----+----+\n",
            "|       0А      | 1А | 1Г | 1Б | 0Г | 1А | 1А | 1Г | 1В |\n",
            "|       0Б      | 1А | 1Г | 1Б | 0Г | 1А | 1А | 1Г | 1В |\n",
            "|       0В      | 1А | 1Г | 1Б | 0Г | 1А | 1А | 1Г | 1В |\n",
            "|       0Г      | 1А | 1Г | 1Б | 0Г | 1А | 1А | 1Г | 1В |\n",
            "|       1А      | 1А | 1Г | 1Б | 0Г | 1А | 1А | 1Г | 1В |\n",
            "|       1Б      | 1А | 1Г | 1Б | 0Г | 1А | 1А | 1Г | 1В |\n",
            "|       1В      | 1А | 1Г | 1Б | 0Г | 1А | 1А | 1Г | 1В |\n",
            "|       1Г      | 1А | 1Г | 1Б | 0Г | 1А | 1А | 1Г | 1В |\n",
            "|               |    |    |    |    |    |    |    |    |\n",
            "|     y1,y1     | АА | ГБ | ВГ | ББ | АГ | ГА | АГ | ВВ |\n",
            "+---------------+----+----+----+----+----+----+----+----+\n"
          ]
        }
      ]
    },
    {
      "cell_type": "markdown",
      "metadata": {
        "id": "VoVafUZc5yb8"
      },
      "source": [
        "#### Выходы для интерпретирующего автомата Мили."
      ]
    },
    {
      "cell_type": "code",
      "metadata": {
        "colab": {
          "base_uri": "https://localhost:8080/"
        },
        "id": "jN2gSESP54IW",
        "outputId": "b4aee37a-de0c-4966-c680-f049d6ade49d"
      },
      "source": [
        "#Вывод таблицы для интерпретирующего Мили\n",
        "print('Таблица выходов для интерпретирующего автомата Мили')\n",
        "interpretive_output_table = PrettyTable()\n",
        "int_out_tab = [['0'] * len(pos_inputs)] * len(pos_states)\n",
        "\n",
        "columns4 = pos_states.copy()\n",
        "columns4.insert(0, \"v1,v2/x'1,x'2\")\n",
        "interpretive_output_table.field_names = columns4\n",
        "\n",
        "for i in range(len(pos_inputs)):\n",
        "  for j in range(len(pos_states)):\n",
        "    if out_tab[i][j] in input_y:\n",
        "      int_out_tab[i][j] = out_tab[i][j]\n",
        "    else: int_out_tab[i][j] = '--'\n",
        "  interpretive_output_table.add_row([pos_inputs[i], int_out_tab[i][0], int_out_tab[i][1],\n",
        "                            int_out_tab[i][2], int_out_tab[i][3], int_out_tab[i][4],\n",
        "                            int_out_tab[i][5], int_out_tab[i][6], int_out_tab[i][7]])\n",
        "\n",
        "columns4.clear()\n",
        "print(interpretive_output_table)"
      ],
      "execution_count": 202,
      "outputs": [
        {
          "output_type": "stream",
          "name": "stdout",
          "text": [
            "Таблица выходов для интерпретирующего автомата Мили\n",
            "+---------------+----+----+----+----+----+----+----+----+\n",
            "| v1,v2/x'1,x'2 | 0А | 0Б | 0В | 0Г | 1А | 1Б | 1В | 1Г |\n",
            "+---------------+----+----+----+----+----+----+----+----+\n",
            "|       0А      | -- | ВГ | -- | -- | -- | ГА | ВВ | -- |\n",
            "|       0Б      | -- | ВГ | -- | -- | -- | ГА | ВВ | -- |\n",
            "|       0В      | -- | ВГ | -- | -- | -- | ГА | ВВ | -- |\n",
            "|       0Г      | -- | ВГ | -- | -- | -- | ГА | ВВ | -- |\n",
            "|       1А      | -- | ВГ | -- | -- | -- | ГА | ВВ | -- |\n",
            "|       1Б      | -- | ВГ | -- | -- | -- | ГА | ВВ | -- |\n",
            "|       1В      | -- | ВГ | -- | -- | -- | ГА | ВВ | -- |\n",
            "|       1Г      | -- | ВГ | -- | -- | -- | ГА | ВВ | -- |\n",
            "+---------------+----+----+----+----+----+----+----+----+\n"
          ]
        }
      ]
    },
    {
      "cell_type": "markdown",
      "metadata": {
        "id": "z356mC459w_l"
      },
      "source": [
        "####Таблица соединений конечного автомата"
      ]
    },
    {
      "cell_type": "code",
      "metadata": {
        "id": "ckklB3UK9-ax"
      },
      "source": [
        ""
      ],
      "execution_count": null,
      "outputs": []
    }
  ]
}