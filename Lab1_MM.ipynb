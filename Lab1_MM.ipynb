{
  "nbformat": 4,
  "nbformat_minor": 0,
  "metadata": {
    "colab": {
      "name": "Lab1_MM.ipynb",
      "provenance": [],
      "collapsed_sections": [],
      "authorship_tag": "ABX9TyMZZqXMwEN7/6s+ZeUrE05J",
      "include_colab_link": true
    },
    "kernelspec": {
      "name": "python3",
      "display_name": "Python 3"
    },
    "language_info": {
      "name": "python"
    }
  },
  "cells": [
    {
      "cell_type": "markdown",
      "metadata": {
        "id": "view-in-github",
        "colab_type": "text"
      },
      "source": [
        "<a href=\"https://colab.research.google.com/github/Viktory4121/MM/blob/main/Lab1_MM.ipynb\" target=\"_parent\"><img src=\"https://colab.research.google.com/assets/colab-badge.svg\" alt=\"Open In Colab\"/></a>"
      ]
    },
    {
      "cell_type": "markdown",
      "metadata": {
        "id": "q2CVgH5USBwa"
      },
      "source": [
        "#### Лабораторная работа №1. Конечные автоматы Мили и Мура.\n",
        "Вариант 11"
      ]
    },
    {
      "cell_type": "code",
      "metadata": {
        "id": "0PVxx7gNQnVf"
      },
      "source": [
        "import numpy as np\n",
        "import random\n",
        "from prettytable import PrettyTable"
      ],
      "execution_count": 85,
      "outputs": []
    },
    {
      "cell_type": "code",
      "metadata": {
        "id": "sAFeW8vEoO4-",
        "colab": {
          "base_uri": "https://localhost:8080/"
        },
        "outputId": "3aee7e8c-f678-4ebc-a854-c745c3e837b8"
      },
      "source": [
        "#Для 2х входов, 2х выходов и 2х состояний\n",
        "print('Ввести данные самостоятельно (+) или использовать данные 11 варианта (Enter)?')\n",
        "answer = input()\n",
        "\n",
        "if answer == '+':\n",
        "  print('Введите вход v1:')\n",
        "  v1 = list(input())\n",
        "  print('Введите вход v2:')\n",
        "  v2 = list(input())\n",
        "  print('Введите состояние x1:')\n",
        "  x1 = list(input())\n",
        "  print('Введите состояние x1:')\n",
        "  x2 = list(input())\n",
        "  print('Введите выход y1:')\n",
        "  y1 = list(input())\n",
        "  print('Введите выход y1:')\n",
        "  y2 = list(input())\n",
        "else:\n",
        "  #входы\n",
        "  v1 = '01'\n",
        "  v2 = 'АБВГ'\n",
        "  #состояния\n",
        "  x1 = '01'\n",
        "  x2 = 'АБВГ'\n",
        "  #выходы\n",
        "  y1 = 'АБВГ'\n",
        "  y2 = 'АБВГ'"
      ],
      "execution_count": 86,
      "outputs": [
        {
          "name": "stdout",
          "output_type": "stream",
          "text": [
            "Ввести данные самостоятельно (+) или использовать данные 11 варианта (Enter)?\n",
            "\n"
          ]
        }
      ]
    },
    {
      "cell_type": "markdown",
      "metadata": {
        "id": "-EQXNrPvM4CP"
      },
      "source": [
        "#### Переходы для автоматов Мили и Мура."
      ]
    },
    {
      "cell_type": "code",
      "metadata": {
        "colab": {
          "base_uri": "https://localhost:8080/"
        },
        "id": "gMzTMs3vFs8b",
        "outputId": "f48e5ce3-2b86-47df-d233-b99775403b57"
      },
      "source": [
        "pos_inputs = []\n",
        "for i in range(len(v1)):\n",
        "  for j in range(len(v2)):\n",
        "    pos_inputs.append(v1[i] + v2[j])\n",
        "print('Возможные входы:', pos_inputs)\n",
        "\n",
        "pos_states = []\n",
        "for i in range(len(x1)):\n",
        "  for j in range(len(x2)):\n",
        "    pos_states.append(x1[i] + x2[j])\n",
        "print('Возможные состояния:', pos_states)\n",
        "\n",
        "pos_outputs = []\n",
        "for i in range(len(y1)):\n",
        "  for j in range(len(y2)):\n",
        "    pos_outputs.append(y1[i] + y2[j])\n",
        "print('Возможные выходы:', pos_outputs)"
      ],
      "execution_count": 93,
      "outputs": [
        {
          "output_type": "stream",
          "name": "stdout",
          "text": [
            "Возможные входы: ['0А', '0Б', '0В', '0Г', '1А', '1Б', '1В', '1Г']\n",
            "Возможные состояния: ['0А', '0Б', '0В', '0Г', '1А', '1Б', '1В', '1Г']\n",
            "Возможные выходы: ['АА', 'АБ', 'АВ', 'АГ', 'БА', 'ББ', 'БВ', 'БГ', 'ВА', 'ВБ', 'ВВ', 'ВГ', 'ГА', 'ГБ', 'ГВ', 'ГГ']\n"
          ]
        }
      ]
    },
    {
      "cell_type": "code",
      "metadata": {
        "colab": {
          "base_uri": "https://localhost:8080/"
        },
        "id": "pGzs7c6-Wg0p",
        "outputId": "b6a1e260-58dc-4821-e7a6-bcf7d7f06b19"
      },
      "source": [
        "#Вывод таблицы переходов\n",
        "print('Таблица переходов Мили и Мура')\n",
        "transition_table = PrettyTable()\n",
        "\n",
        "columns = []\n",
        "columns = pos_states\n",
        "columns.insert(0, \"v1,v2/x'1,x'2\")\n",
        "transition_table.field_names = columns\n",
        "\n",
        "for i in range(len(pos_inputs)):\n",
        "  transition_table.add_row([pos_inputs[i], random.choice(pos_inputs),\n",
        "                            random.choice(pos_inputs), random.choice(pos_inputs),\n",
        "                            random.choice(pos_inputs), random.choice(pos_inputs),\n",
        "                            random.choice(pos_inputs), random.choice(pos_inputs),\n",
        "                            random.choice(pos_inputs)])\n",
        "\n",
        "columns.clear()\n",
        "print(transition_table)"
      ],
      "execution_count": 94,
      "outputs": [
        {
          "output_type": "stream",
          "name": "stdout",
          "text": [
            "Таблица переходов Мили и Мура\n",
            "+---------------+----+----+----+----+----+----+----+----+\n",
            "| v1,v2/x'1,x'2 | 0А | 0Б | 0В | 0Г | 1А | 1Б | 1В | 1Г |\n",
            "+---------------+----+----+----+----+----+----+----+----+\n",
            "|       0А      | 1А | 1А | 0А | 1Г | 1Б | 1Г | 0Г | 0Б |\n",
            "|       0Б      | 1Г | 0А | 0Б | 0А | 1А | 0Б | 0В | 0Б |\n",
            "|       0В      | 1В | 0Г | 1А | 1А | 1А | 1А | 1В | 0А |\n",
            "|       0Г      | 1А | 1Б | 1А | 1А | 1В | 0А | 1Б | 0Б |\n",
            "|       1А      | 0В | 0А | 1Г | 0А | 1А | 0А | 0А | 1В |\n",
            "|       1Б      | 0В | 1А | 1Г | 0А | 1В | 1А | 0Г | 0Б |\n",
            "|       1В      | 0Б | 0Г | 0А | 1Г | 1В | 1А | 0В | 1Г |\n",
            "|       1Г      | 0Г | 1В | 1А | 1А | 1Г | 1Б | 1А | 0А |\n",
            "+---------------+----+----+----+----+----+----+----+----+\n"
          ]
        }
      ]
    },
    {
      "cell_type": "markdown",
      "metadata": {
        "id": "JruCp-5FgNLi"
      },
      "source": [
        "#### Выходы для автомата Мили."
      ]
    },
    {
      "cell_type": "code",
      "metadata": {
        "colab": {
          "base_uri": "https://localhost:8080/",
          "height": 374
        },
        "id": "x20soJGSfLMu",
        "outputId": "4078848d-bb53-4433-d3cd-4de8d04d77b3"
      },
      "source": [
        "#Вывод таблицы выходов Мили\n",
        "print('Таблица выходов для Мили')\n",
        "output_table = PrettyTable()\n",
        "\n",
        "columns2 = pos_states\n",
        "columns2.insert(0, \"v1,v2/x'1,x'2\")\n",
        "output_table.field_names = columns2\n",
        "\n",
        "for i in range(len(pos_inputs)):\n",
        "  output_table.add_row([pos_inputs[k], random.choice(pos_outputs),\n",
        "                            random.choice(pos_outputs), random.choice(pos_outputs),\n",
        "                            random.choice(pos_outputs), random.choice(pos_outputs),\n",
        "                            random.choice(pos_outputs), random.choice(pos_outputs),\n",
        "                            random.choice(pos_outputs)])\n",
        "\n",
        "columns2.clear()\n",
        "print(output_table)"
      ],
      "execution_count": 95,
      "outputs": [
        {
          "output_type": "stream",
          "name": "stdout",
          "text": [
            "Таблица выходов для Мили\n"
          ]
        },
        {
          "output_type": "error",
          "ename": "Exception",
          "evalue": "ignored",
          "traceback": [
            "\u001b[0;31m---------------------------------------------------------------------------\u001b[0m",
            "\u001b[0;31mException\u001b[0m                                 Traceback (most recent call last)",
            "\u001b[0;32m<ipython-input-95-fb68d148ab39>\u001b[0m in \u001b[0;36m<module>\u001b[0;34m()\u001b[0m\n\u001b[1;32m     12\u001b[0m                             \u001b[0mrandom\u001b[0m\u001b[0;34m.\u001b[0m\u001b[0mchoice\u001b[0m\u001b[0;34m(\u001b[0m\u001b[0mpos_outputs\u001b[0m\u001b[0;34m)\u001b[0m\u001b[0;34m,\u001b[0m \u001b[0mrandom\u001b[0m\u001b[0;34m.\u001b[0m\u001b[0mchoice\u001b[0m\u001b[0;34m(\u001b[0m\u001b[0mpos_outputs\u001b[0m\u001b[0;34m)\u001b[0m\u001b[0;34m,\u001b[0m\u001b[0;34m\u001b[0m\u001b[0;34m\u001b[0m\u001b[0m\n\u001b[1;32m     13\u001b[0m                             \u001b[0mrandom\u001b[0m\u001b[0;34m.\u001b[0m\u001b[0mchoice\u001b[0m\u001b[0;34m(\u001b[0m\u001b[0mpos_outputs\u001b[0m\u001b[0;34m)\u001b[0m\u001b[0;34m,\u001b[0m \u001b[0mrandom\u001b[0m\u001b[0;34m.\u001b[0m\u001b[0mchoice\u001b[0m\u001b[0;34m(\u001b[0m\u001b[0mpos_outputs\u001b[0m\u001b[0;34m)\u001b[0m\u001b[0;34m,\u001b[0m\u001b[0;34m\u001b[0m\u001b[0;34m\u001b[0m\u001b[0m\n\u001b[0;32m---> 14\u001b[0;31m                             random.choice(pos_outputs)])\n\u001b[0m\u001b[1;32m     15\u001b[0m \u001b[0;34m\u001b[0m\u001b[0m\n\u001b[1;32m     16\u001b[0m \u001b[0mcolumns2\u001b[0m\u001b[0;34m.\u001b[0m\u001b[0mclear\u001b[0m\u001b[0;34m(\u001b[0m\u001b[0;34m)\u001b[0m\u001b[0;34m\u001b[0m\u001b[0;34m\u001b[0m\u001b[0m\n",
            "\u001b[0;32m/usr/local/lib/python3.7/dist-packages/prettytable/prettytable.py\u001b[0m in \u001b[0;36madd_row\u001b[0;34m(self, row)\u001b[0m\n\u001b[1;32m   1261\u001b[0m         \u001b[0;32mif\u001b[0m \u001b[0mself\u001b[0m\u001b[0;34m.\u001b[0m\u001b[0m_field_names\u001b[0m \u001b[0;32mand\u001b[0m \u001b[0mlen\u001b[0m\u001b[0;34m(\u001b[0m\u001b[0mrow\u001b[0m\u001b[0;34m)\u001b[0m \u001b[0;34m!=\u001b[0m \u001b[0mlen\u001b[0m\u001b[0;34m(\u001b[0m\u001b[0mself\u001b[0m\u001b[0;34m.\u001b[0m\u001b[0m_field_names\u001b[0m\u001b[0;34m)\u001b[0m\u001b[0;34m:\u001b[0m\u001b[0;34m\u001b[0m\u001b[0;34m\u001b[0m\u001b[0m\n\u001b[1;32m   1262\u001b[0m             raise Exception(\n\u001b[0;32m-> 1263\u001b[0;31m                 \u001b[0;34m\"Row has incorrect number of values, \"\u001b[0m\u001b[0;34m\u001b[0m\u001b[0;34m\u001b[0m\u001b[0m\n\u001b[0m\u001b[1;32m   1264\u001b[0m                 \u001b[0;34mf\"(actual) {len(row)}!={len(self._field_names)} (expected)\"\u001b[0m\u001b[0;34m\u001b[0m\u001b[0;34m\u001b[0m\u001b[0m\n\u001b[1;32m   1265\u001b[0m             )\n",
            "\u001b[0;31mException\u001b[0m: Row has incorrect number of values, (actual) 9!=1 (expected)"
          ]
        }
      ]
    }
  ]
}