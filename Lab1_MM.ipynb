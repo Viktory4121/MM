{
  "nbformat": 4,
  "nbformat_minor": 0,
  "metadata": {
    "colab": {
      "name": "Lab1_MM.ipynb",
      "provenance": [],
      "collapsed_sections": [],
      "authorship_tag": "ABX9TyOH5ZxkzhXXp8Vp97uUaeS4",
      "include_colab_link": true
    },
    "kernelspec": {
      "name": "python3",
      "display_name": "Python 3"
    },
    "language_info": {
      "name": "python"
    }
  },
  "cells": [
    {
      "cell_type": "markdown",
      "metadata": {
        "id": "view-in-github",
        "colab_type": "text"
      },
      "source": [
        "<a href=\"https://colab.research.google.com/github/Viktory4121/MM/blob/main/Lab1_MM.ipynb\" target=\"_parent\"><img src=\"https://colab.research.google.com/assets/colab-badge.svg\" alt=\"Open In Colab\"/></a>"
      ]
    },
    {
      "cell_type": "markdown",
      "metadata": {
        "id": "q2CVgH5USBwa"
      },
      "source": [
        "### Лабораторная работа №1\n",
        "### Конечные автоматы Мили и Мура\n",
        "### Вариант 11"
      ]
    },
    {
      "cell_type": "code",
      "metadata": {
        "id": "0PVxx7gNQnVf"
      },
      "source": [
        "import numpy as np"
      ],
      "execution_count": 1,
      "outputs": []
    },
    {
      "cell_type": "code",
      "metadata": {
        "id": "4BfXjQznRT-W"
      },
      "source": [
        "#входы\n",
        "v1 = '01'\n",
        "v2 = 'АБВГ'\n",
        "#состояния\n",
        "x1 = '01'\n",
        "x2 = 'АБВГ'\n",
        "#выходы\n",
        "y1 = 'АБВГ'\n",
        "y2 = 'АБВГ'"
      ],
      "execution_count": 3,
      "outputs": []
    },
    {
      "cell_type": "code",
      "metadata": {
        "id": "sAFeW8vEoO4-"
      },
      "source": [
        ""
      ],
      "execution_count": null,
      "outputs": []
    }
  ]
}