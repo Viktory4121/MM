{
  "nbformat": 4,
  "nbformat_minor": 0,
  "metadata": {
    "colab": {
      "name": "Lab1_MM.ipynb",
      "provenance": [],
      "collapsed_sections": [],
      "authorship_tag": "ABX9TyPfvLcnlDLaxxDKjE2iwsT1",
      "include_colab_link": true
    },
    "kernelspec": {
      "name": "python3",
      "display_name": "Python 3"
    },
    "language_info": {
      "name": "python"
    }
  },
  "cells": [
    {
      "cell_type": "markdown",
      "metadata": {
        "id": "view-in-github",
        "colab_type": "text"
      },
      "source": [
        "<a href=\"https://colab.research.google.com/github/Viktory4121/MM/blob/main/Lab1_MM.ipynb\" target=\"_parent\"><img src=\"https://colab.research.google.com/assets/colab-badge.svg\" alt=\"Open In Colab\"/></a>"
      ]
    },
    {
      "cell_type": "markdown",
      "metadata": {
        "id": "q2CVgH5USBwa"
      },
      "source": [
        "#### Лабораторная работа №1. Конечные автоматы Мили и Мура.\n",
        "Вариант 11"
      ]
    },
    {
      "cell_type": "code",
      "metadata": {
        "id": "0PVxx7gNQnVf"
      },
      "source": [
        "import numpy as np\n",
        "import random\n",
        "import copy\n",
        "from prettytable import PrettyTable"
      ],
      "execution_count": 100,
      "outputs": []
    },
    {
      "cell_type": "code",
      "metadata": {
        "id": "sAFeW8vEoO4-",
        "colab": {
          "base_uri": "https://localhost:8080/"
        },
        "outputId": "3aee7e8c-f678-4ebc-a854-c745c3e837b8"
      },
      "source": [
        "#Для 2х входов, 2х выходов и 2х состояний\n",
        "print('Ввести данные самостоятельно (+) или использовать данные 11 варианта (Enter)?')\n",
        "answer = input()\n",
        "\n",
        "if answer == '+':\n",
        "  print('Введите вход v1:')\n",
        "  v1 = list(input())\n",
        "  print('Введите вход v2:')\n",
        "  v2 = list(input())\n",
        "  print('Введите состояние x1:')\n",
        "  x1 = list(input())\n",
        "  print('Введите состояние x1:')\n",
        "  x2 = list(input())\n",
        "  print('Введите выход y1:')\n",
        "  y1 = list(input())\n",
        "  print('Введите выход y1:')\n",
        "  y2 = list(input())\n",
        "else:\n",
        "  #входы\n",
        "  v1 = '01'\n",
        "  v2 = 'АБВГ'\n",
        "  #состояния\n",
        "  x1 = '01'\n",
        "  x2 = 'АБВГ'\n",
        "  #выходы\n",
        "  y1 = 'АБВГ'\n",
        "  y2 = 'АБВГ'"
      ],
      "execution_count": 86,
      "outputs": [
        {
          "name": "stdout",
          "output_type": "stream",
          "text": [
            "Ввести данные самостоятельно (+) или использовать данные 11 варианта (Enter)?\n",
            "\n"
          ]
        }
      ]
    },
    {
      "cell_type": "markdown",
      "metadata": {
        "id": "-EQXNrPvM4CP"
      },
      "source": [
        "#### Переходы для автоматов Мили и Мура."
      ]
    },
    {
      "cell_type": "code",
      "metadata": {
        "colab": {
          "base_uri": "https://localhost:8080/"
        },
        "id": "gMzTMs3vFs8b",
        "outputId": "b6a52fe1-5ce2-4f77-cd50-d3f3823b5e6d"
      },
      "source": [
        "pos_inputs = []\n",
        "for i in range(len(v1)):\n",
        "  for j in range(len(v2)):\n",
        "    pos_inputs.append(v1[i] + v2[j])\n",
        "print('Возможные входы:', pos_inputs)\n",
        "\n",
        "pos_states = []\n",
        "for i in range(len(x1)):\n",
        "  for j in range(len(x2)):\n",
        "    pos_states.append(x1[i] + x2[j])\n",
        "print('Возможные состояния:', pos_states)\n",
        "\n",
        "pos_outputs = []\n",
        "for i in range(len(y1)):\n",
        "  for j in range(len(y2)):\n",
        "    pos_outputs.append(y1[i] + y2[j])\n",
        "print('Возможные выходы:', pos_outputs)"
      ],
      "execution_count": 101,
      "outputs": [
        {
          "output_type": "stream",
          "name": "stdout",
          "text": [
            "Возможные входы: ['0А', '0Б', '0В', '0Г', '1А', '1Б', '1В', '1Г']\n",
            "Возможные состояния: ['0А', '0Б', '0В', '0Г', '1А', '1Б', '1В', '1Г']\n",
            "Возможные выходы: ['АА', 'АБ', 'АВ', 'АГ', 'БА', 'ББ', 'БВ', 'БГ', 'ВА', 'ВБ', 'ВВ', 'ВГ', 'ГА', 'ГБ', 'ГВ', 'ГГ']\n"
          ]
        }
      ]
    },
    {
      "cell_type": "code",
      "metadata": {
        "colab": {
          "base_uri": "https://localhost:8080/"
        },
        "id": "pGzs7c6-Wg0p",
        "outputId": "89f4689f-4243-4410-c61a-49a5c26efa45"
      },
      "source": [
        "#Вывод таблицы переходов\n",
        "print('Таблица переходов Мили и Мура')\n",
        "transition_table = PrettyTable()\n",
        "\n",
        "columns = []\n",
        "columns = pos_states.copy()\n",
        "columns.insert(0, \"v1,v2/x'1,x'2\")\n",
        "transition_table.field_names = columns\n",
        "\n",
        "for i in range(len(pos_inputs)):\n",
        "  transition_table.add_row([pos_inputs[i], random.choice(pos_inputs),\n",
        "                            random.choice(pos_inputs), random.choice(pos_inputs),\n",
        "                            random.choice(pos_inputs), random.choice(pos_inputs),\n",
        "                            random.choice(pos_inputs), random.choice(pos_inputs),\n",
        "                            random.choice(pos_inputs)])\n",
        "\n",
        "columns.clear()\n",
        "print(transition_table)"
      ],
      "execution_count": 102,
      "outputs": [
        {
          "output_type": "stream",
          "name": "stdout",
          "text": [
            "Таблица переходов Мили и Мура\n",
            "+---------------+----+----+----+----+----+----+----+----+\n",
            "| v1,v2/x'1,x'2 | 0А | 0Б | 0В | 0Г | 1А | 1Б | 1В | 1Г |\n",
            "+---------------+----+----+----+----+----+----+----+----+\n",
            "|       0А      | 1Б | 1Б | 0Г | 0Б | 1Б | 0В | 0В | 1Г |\n",
            "|       0Б      | 1Б | 1Г | 1Б | 1Г | 1А | 0Б | 1Г | 1А |\n",
            "|       0В      | 0Б | 0В | 1Б | 1Б | 1В | 1А | 1А | 1В |\n",
            "|       0Г      | 0В | 0Г | 0Г | 0Г | 1Б | 1А | 1Г | 1Б |\n",
            "|       1А      | 1Б | 0В | 0Б | 1А | 0А | 0В | 1В | 0А |\n",
            "|       1Б      | 1Б | 1А | 1Б | 0Б | 1Г | 0Г | 1Г | 1Г |\n",
            "|       1В      | 0Б | 0В | 1В | 1Г | 1Б | 0А | 0А | 0В |\n",
            "|       1Г      | 1А | 0Б | 0Г | 1А | 1Б | 1Б | 1Б | 1В |\n",
            "+---------------+----+----+----+----+----+----+----+----+\n"
          ]
        }
      ]
    },
    {
      "cell_type": "markdown",
      "metadata": {
        "id": "JruCp-5FgNLi"
      },
      "source": [
        "#### Выходы для автомата Мили."
      ]
    },
    {
      "cell_type": "code",
      "metadata": {
        "colab": {
          "base_uri": "https://localhost:8080/"
        },
        "id": "x20soJGSfLMu",
        "outputId": "8bc488e6-c38c-475d-dfe5-669ffda824a1"
      },
      "source": [
        "#Вывод таблицы выходов Мили\n",
        "print('Таблица выходов для Мили')\n",
        "output_table = PrettyTable()\n",
        "\n",
        "columns2 = pos_states.copy()\n",
        "columns2.insert(0, \"v1,v2/x'1,x'2\")\n",
        "output_table.field_names = columns2\n",
        "\n",
        "for i in range(len(pos_inputs)):\n",
        "  output_table.add_row([pos_inputs[i], random.choice(pos_outputs),\n",
        "                            random.choice(pos_outputs), random.choice(pos_outputs),\n",
        "                            random.choice(pos_outputs), random.choice(pos_outputs),\n",
        "                            random.choice(pos_outputs), random.choice(pos_outputs),\n",
        "                            random.choice(pos_outputs)])\n",
        "\n",
        "columns2.clear()\n",
        "print(output_table)"
      ],
      "execution_count": 105,
      "outputs": [
        {
          "output_type": "stream",
          "name": "stdout",
          "text": [
            "Таблица выходов для Мили\n",
            "+---------------+----+----+----+----+----+----+----+----+\n",
            "| v1,v2/x'1,x'2 | 0А | 0Б | 0В | 0Г | 1А | 1Б | 1В | 1Г |\n",
            "+---------------+----+----+----+----+----+----+----+----+\n",
            "|       0А      | БГ | ГБ | ВБ | БГ | АГ | БВ | АГ | ВБ |\n",
            "|       0Б      | БА | ВГ | АГ | АГ | ВА | ВА | БГ | ВА |\n",
            "|       0В      | ВГ | ВГ | АБ | ВА | ВБ | ГВ | БГ | БВ |\n",
            "|       0Г      | ГГ | ГГ | АВ | ГГ | ВА | АГ | БГ | АВ |\n",
            "|       1А      | ГБ | ВА | ББ | БА | ГГ | АГ | ГБ | АА |\n",
            "|       1Б      | ВА | АВ | ВГ | БВ | ГГ | БВ | ГБ | ГВ |\n",
            "|       1В      | ГА | ВВ | БВ | ГА | БГ | БГ | ББ | ГВ |\n",
            "|       1Г      | ВА | ВГ | АВ | ВБ | ВВ | ГА | ББ | ГВ |\n",
            "+---------------+----+----+----+----+----+----+----+----+\n"
          ]
        }
      ]
    },
    {
      "cell_type": "markdown",
      "metadata": {
        "id": "KShQJjB2krNZ"
      },
      "source": [
        "#### Отмеченная таблица переходов для автомата Мура."
      ]
    },
    {
      "cell_type": "code",
      "metadata": {
        "id": "-SeKMclTkZTR"
      },
      "source": [
        ""
      ],
      "execution_count": null,
      "outputs": []
    }
  ]
}