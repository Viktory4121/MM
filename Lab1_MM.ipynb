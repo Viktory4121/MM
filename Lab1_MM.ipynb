{
  "nbformat": 4,
  "nbformat_minor": 0,
  "metadata": {
    "colab": {
      "name": "Lab1_MM.ipynb",
      "provenance": [],
      "collapsed_sections": [],
      "authorship_tag": "ABX9TyPz8yCiiHtwjMDUADECEQyJ",
      "include_colab_link": true
    },
    "kernelspec": {
      "name": "python3",
      "display_name": "Python 3"
    },
    "language_info": {
      "name": "python"
    }
  },
  "cells": [
    {
      "cell_type": "markdown",
      "metadata": {
        "id": "view-in-github",
        "colab_type": "text"
      },
      "source": [
        "<a href=\"https://colab.research.google.com/github/Viktory4121/MM/blob/main/Lab1_MM.ipynb\" target=\"_parent\"><img src=\"https://colab.research.google.com/assets/colab-badge.svg\" alt=\"Open In Colab\"/></a>"
      ]
    },
    {
      "cell_type": "markdown",
      "metadata": {
        "id": "q2CVgH5USBwa"
      },
      "source": [
        "#### Лабораторная работа №1. Конечные автоматы Мили и Мура.\n",
        "Вариант 11"
      ]
    },
    {
      "cell_type": "code",
      "metadata": {
        "id": "0PVxx7gNQnVf"
      },
      "source": [
        "import numpy as np\n",
        "import random\n",
        "import copy\n",
        "from prettytable import PrettyTable"
      ],
      "execution_count": 1,
      "outputs": []
    },
    {
      "cell_type": "code",
      "metadata": {
        "id": "sAFeW8vEoO4-"
      },
      "source": [
        "#входы\n",
        "v1 = '01'\n",
        "v2 = 'АБВГ'\n",
        "#состояния\n",
        "x1 = '01'\n",
        "x2 = 'АБВГ'\n",
        "#выходы\n",
        "y1 = 'АБВГ'\n",
        "y2 = 'АБВГ'"
      ],
      "execution_count": 2,
      "outputs": []
    },
    {
      "cell_type": "markdown",
      "metadata": {
        "id": "-EQXNrPvM4CP"
      },
      "source": [
        "#### Переходы для автоматов Мили и Мура."
      ]
    },
    {
      "cell_type": "code",
      "metadata": {
        "colab": {
          "base_uri": "https://localhost:8080/"
        },
        "id": "gMzTMs3vFs8b",
        "outputId": "44845cc4-7fec-4246-e49d-381b51193f40"
      },
      "source": [
        "pos_inputs = []\n",
        "for i in range(len(v1)):\n",
        "  for j in range(len(v2)):\n",
        "    pos_inputs.append(v1[i] + v2[j])\n",
        "print('Возможные входы:', pos_inputs)\n",
        "\n",
        "pos_states = []\n",
        "for i in range(len(x1)):\n",
        "  for j in range(len(x2)):\n",
        "    pos_states.append(x1[i] + x2[j])\n",
        "print('Возможные состояния:', pos_states)\n",
        "\n",
        "pos_outputs = []\n",
        "for i in range(len(y1)):\n",
        "  for j in range(len(y2)):\n",
        "    pos_outputs.append(y1[i] + y2[j])\n",
        "print('Возможные выходы:', pos_outputs)"
      ],
      "execution_count": 13,
      "outputs": [
        {
          "output_type": "stream",
          "name": "stdout",
          "text": [
            "Возможные входы: ['0А', '0Б', '0В', '0Г', '1А', '1Б', '1В', '1Г']\n",
            "Возможные состояния: ['0А', '0Б', '0В', '0Г', '1А', '1Б', '1В', '1Г']\n",
            "Возможные выходы: ['АА', 'АБ', 'АВ', 'АГ', 'БА', 'ББ', 'БВ', 'БГ', 'ВА', 'ВБ', 'ВВ', 'ВГ', 'ГА', 'ГБ', 'ГВ', 'ГГ']\n"
          ]
        }
      ]
    },
    {
      "cell_type": "code",
      "metadata": {
        "colab": {
          "base_uri": "https://localhost:8080/"
        },
        "id": "pGzs7c6-Wg0p",
        "outputId": "ac175b37-5534-467c-f3e8-5b515464b7c9"
      },
      "source": [
        "#Вывод таблицы переходов\n",
        "def creature_transition_table(p_inp, p_st):\n",
        "  table = [['0'] * len(p_inp)] * len(p_st)\n",
        "\n",
        "  print('Таблица переходов Мили и Мура')\n",
        "  transition_table = PrettyTable()\n",
        "  columns = p_st.copy()\n",
        "  columns.insert(0, \"v1,v2/x'1,x'2\")\n",
        "  transition_table.field_names = columns\n",
        "\n",
        "  for i in range(len(p_inp)):\n",
        "    for j in range(len(p_st)):\n",
        "      table[i][j] = random.choice(p_inp)\n",
        "\n",
        "    transition_table.add_row([p_inp[i], table[i][0], table[i][1],\n",
        "                            table[i][2], table[i][3], table[i][4],\n",
        "                            table[i][5], table[i][6], table[i][7]])\n",
        "\n",
        "  columns.clear()\n",
        "  print(transition_table)\n",
        "  return table\n",
        "\n",
        "trans_tab = creature_transition_table(pos_inputs, pos_states)"
      ],
      "execution_count": 19,
      "outputs": [
        {
          "output_type": "stream",
          "name": "stdout",
          "text": [
            "Таблица переходов Мили и Мура\n",
            "+---------------+----+----+----+----+----+----+----+----+\n",
            "| v1,v2/x'1,x'2 | 0А | 0Б | 0В | 0Г | 1А | 1Б | 1В | 1Г |\n",
            "+---------------+----+----+----+----+----+----+----+----+\n",
            "|       0А      | 0Б | 1Г | 1Г | 0В | 0А | 1А | 1В | 1В |\n",
            "|       0Б      | 1Б | 0Г | 1В | 1Г | 1Б | 0Г | 0А | 0Б |\n",
            "|       0В      | 1В | 1Б | 0Г | 1В | 0Б | 0А | 0Б | 1Г |\n",
            "|       0Г      | 0Г | 0Б | 0Г | 0А | 0Г | 0Б | 1В | 0Б |\n",
            "|       1А      | 0А | 0А | 0А | 0Б | 0Г | 0А | 0Б | 1Б |\n",
            "|       1Б      | 0В | 1Г | 0Б | 0А | 0А | 0Г | 1Г | 1Г |\n",
            "|       1В      | 1А | 1Б | 1Г | 0А | 0Б | 0Г | 1Г | 1А |\n",
            "|       1Г      | 0Б | 1Г | 0В | 1А | 0В | 1А | 1А | 1Б |\n",
            "+---------------+----+----+----+----+----+----+----+----+\n"
          ]
        }
      ]
    },
    {
      "cell_type": "markdown",
      "metadata": {
        "id": "JruCp-5FgNLi"
      },
      "source": [
        "#### Выходы для автомата Мили."
      ]
    },
    {
      "cell_type": "code",
      "metadata": {
        "colab": {
          "base_uri": "https://localhost:8080/"
        },
        "id": "x20soJGSfLMu",
        "outputId": "8722186c-7cee-4d2c-ce7c-05b89693cc1d"
      },
      "source": [
        "#Вывод таблицы выходов Мили\n",
        "def creature_output_table(p_inp, p_st, p_out):\n",
        "  table = [['0'] * len(p_inp)] * len(p_st)\n",
        "  print('Таблица выходов для Мили')\n",
        "  output_table = PrettyTable()\n",
        "\n",
        "  columns2 = p_st.copy()\n",
        "  columns2.insert(0, \"v1,v2/x'1,x'2\")\n",
        "  output_table.field_names = columns2\n",
        "\n",
        "  for i in range(len(p_inp)):\n",
        "    for j in range(len(p_st)):\n",
        "      table[i][j] = random.choice(p_out)\n",
        "    output_table.add_row([p_inp[i], table[i][0], table[i][1],\n",
        "                            table[i][2], table[i][3], table[i][4],\n",
        "                            table[i][5], table[i][6], table[i][7]])\n",
        "\n",
        "  columns2.clear()\n",
        "  print(output_table)\n",
        "  return table\n",
        "\n",
        "out_tab = creature_output_table(pos_inputs, pos_states, pos_outputs)"
      ],
      "execution_count": 11,
      "outputs": [
        {
          "output_type": "stream",
          "name": "stdout",
          "text": [
            "Таблица выходов для Мили\n",
            "+---------------+----+----+----+----+----+----+----+----+\n",
            "| v1,v2/x'1,x'2 | 0А | 0Б | 0В | 0Г | 1А | 1Б | 1В | 1Г |\n",
            "+---------------+----+----+----+----+----+----+----+----+\n",
            "|       0А      | БГ | ГВ | АБ | БГ | ББ | АГ | ВГ | ББ |\n",
            "|       0Б      | БГ | ВБ | ГВ | ГБ | ВВ | ГВ | ГБ | ГБ |\n",
            "|       0В      | ГБ | АБ | ГГ | ГА | АГ | ВГ | БА | ВВ |\n",
            "|       0Г      | ВА | БВ | БГ | ВВ | БГ | ГГ | БВ | АБ |\n",
            "|       1А      | ВБ | БГ | ГБ | ВГ | ББ | ГГ | АБ | АА |\n",
            "|       1Б      | БГ | ВБ | ГВ | ВА | БВ | ВБ | АБ | ББ |\n",
            "|       1В      | ВГ | АБ | ГГ | ББ | ВВ | ВБ | ГВ | АВ |\n",
            "|       1Г      | ВБ | БА | АВ | ГА | ГА | ББ | ГА | АА |\n",
            "+---------------+----+----+----+----+----+----+----+----+\n"
          ]
        }
      ]
    },
    {
      "cell_type": "markdown",
      "metadata": {
        "id": "KShQJjB2krNZ"
      },
      "source": [
        "#### Отмеченная таблица переходов для автомата Мура."
      ]
    },
    {
      "cell_type": "code",
      "metadata": {
        "colab": {
          "base_uri": "https://localhost:8080/"
        },
        "id": "-SeKMclTkZTR",
        "outputId": "e7f13aea-0aaa-4dd8-c63c-21785f1fb013"
      },
      "source": [
        "#Вывод отмеченной таблицы переходов Мура\n",
        "def creature_marked_transition_table(p_inp, p_st, p_out, trans):\n",
        "  table = ['0'] * len(p_st)\n",
        "\n",
        "  print('Отмеченная таблица переходов для Мура')\n",
        "  marked_transition_table = PrettyTable()\n",
        "  columns3 = p_st.copy()\n",
        "  columns3.insert(0, \"v1,v2/x'1,x'2\")\n",
        "  marked_transition_table.field_names = columns3\n",
        "\n",
        "  for i in range(len(p_inp)):\n",
        "    marked_transition_table.add_row([p_inp[i], trans[i][0], trans[i][1],\n",
        "                            trans[i][2], trans[i][3], trans[i][4],\n",
        "                            trans[i][5], trans[i][6], trans[i][7]])\n",
        "  marked_transition_table.add_row(['','','','','','','','',''])\n",
        "\n",
        "  for i in range(len(p_st)):\n",
        "    table[i] = random.choice(p_out)\n",
        "  marked_transition_table.add_row(['y1,y1', table[0], table[1], table[2],\n",
        "                                 table[3], table[4], table[5], table[6], table[7]])\n",
        "\n",
        "  columns3.clear()\n",
        "  print(marked_transition_table)\n",
        "  return table\n",
        "\n",
        "input_y = creature_marked_transition_table(pos_inputs, pos_states, pos_outputs, trans_tab)"
      ],
      "execution_count": 12,
      "outputs": [
        {
          "output_type": "stream",
          "name": "stdout",
          "text": [
            "Отмеченная таблица переходов для Мура\n",
            "+---------------+----+----+----+----+----+----+----+----+\n",
            "| v1,v2/x'1,x'2 | 0А | 0Б | 0В | 0Г | 1А | 1Б | 1В | 1Г |\n",
            "+---------------+----+----+----+----+----+----+----+----+\n",
            "|       0А      | 0А | 1А | 1В | 0В | 1Г | 1А | 0А | 0Г |\n",
            "|       0Б      | 0А | 1А | 1В | 0В | 1Г | 1А | 0А | 0Г |\n",
            "|       0В      | 0А | 1А | 1В | 0В | 1Г | 1А | 0А | 0Г |\n",
            "|       0Г      | 0А | 1А | 1В | 0В | 1Г | 1А | 0А | 0Г |\n",
            "|       1А      | 0А | 1А | 1В | 0В | 1Г | 1А | 0А | 0Г |\n",
            "|       1Б      | 0А | 1А | 1В | 0В | 1Г | 1А | 0А | 0Г |\n",
            "|       1В      | 0А | 1А | 1В | 0В | 1Г | 1А | 0А | 0Г |\n",
            "|       1Г      | 0А | 1А | 1В | 0В | 1Г | 1А | 0А | 0Г |\n",
            "|               |    |    |    |    |    |    |    |    |\n",
            "|     y1,y1     | ВВ | АВ | АВ | ВА | АА | АА | ГГ | ГВ |\n",
            "+---------------+----+----+----+----+----+----+----+----+\n"
          ]
        }
      ]
    },
    {
      "cell_type": "markdown",
      "metadata": {
        "id": "VoVafUZc5yb8"
      },
      "source": [
        "#### Выходы для интерпретирующего автомата Мили."
      ]
    },
    {
      "cell_type": "code",
      "metadata": {
        "colab": {
          "base_uri": "https://localhost:8080/"
        },
        "id": "jN2gSESP54IW",
        "outputId": "4a255712-d30c-49cd-f1bd-49891cd24d47"
      },
      "source": [
        "#Вывод таблицы для интерпретирующего Мили\n",
        "print('Таблица выходов для интерпретирующего автомата Мили')\n",
        "interpretive_output_table = PrettyTable()\n",
        "int_out_tab = [['0'] * len(pos_inputs)] * len(pos_states)\n",
        "\n",
        "columns4 = pos_states.copy()\n",
        "columns4.insert(0, \"v1,v2/x'1,x'2\")\n",
        "interpretive_output_table.field_names = columns4\n",
        "\n",
        "for i in range(len(pos_inputs)):\n",
        "  for j in range(len(pos_states)):\n",
        "    if out_tab[i][j] in input_y:\n",
        "      int_out_tab[i][j] = out_tab[i][j]\n",
        "    else: int_out_tab[i][j] = '--'\n",
        "  interpretive_output_table.add_row([pos_inputs[i], int_out_tab[i][0], int_out_tab[i][1],\n",
        "                            int_out_tab[i][2], int_out_tab[i][3], int_out_tab[i][4],\n",
        "                            int_out_tab[i][5], int_out_tab[i][6], int_out_tab[i][7]])\n",
        "\n",
        "columns4.clear()\n",
        "print(interpretive_output_table)"
      ],
      "execution_count": 7,
      "outputs": [
        {
          "output_type": "stream",
          "name": "stdout",
          "text": [
            "Таблица выходов для интерпретирующего автомата Мили\n",
            "+---------------+----+----+----+----+----+----+----+----+\n",
            "| v1,v2/x'1,x'2 | 0А | 0Б | 0В | 0Г | 1А | 1Б | 1В | 1Г |\n",
            "+---------------+----+----+----+----+----+----+----+----+\n",
            "|       0А      | ГА | АВ | БА | -- | -- | -- | ВА | -- |\n",
            "|       0Б      | ГА | АВ | БА | -- | -- | -- | ВА | -- |\n",
            "|       0В      | ГА | АВ | БА | -- | -- | -- | ВА | -- |\n",
            "|       0Г      | ГА | АВ | БА | -- | -- | -- | ВА | -- |\n",
            "|       1А      | ГА | АВ | БА | -- | -- | -- | ВА | -- |\n",
            "|       1Б      | ГА | АВ | БА | -- | -- | -- | ВА | -- |\n",
            "|       1В      | ГА | АВ | БА | -- | -- | -- | ВА | -- |\n",
            "|       1Г      | ГА | АВ | БА | -- | -- | -- | ВА | -- |\n",
            "+---------------+----+----+----+----+----+----+----+----+\n"
          ]
        }
      ]
    },
    {
      "cell_type": "markdown",
      "metadata": {
        "id": "z356mC459w_l"
      },
      "source": [
        "####Таблица соединений конечного автомата"
      ]
    },
    {
      "cell_type": "code",
      "metadata": {
        "id": "ckklB3UK9-ax"
      },
      "source": [
        ""
      ],
      "execution_count": null,
      "outputs": []
    }
  ]
}