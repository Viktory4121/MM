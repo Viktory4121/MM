{
  "nbformat": 4,
  "nbformat_minor": 0,
  "metadata": {
    "colab": {
      "name": "Lab1_MM.ipynb",
      "provenance": [],
      "collapsed_sections": [],
      "authorship_tag": "ABX9TyMmweczkOQNVomKk572y/v3",
      "include_colab_link": true
    },
    "kernelspec": {
      "name": "python3",
      "display_name": "Python 3"
    },
    "language_info": {
      "name": "python"
    }
  },
  "cells": [
    {
      "cell_type": "markdown",
      "metadata": {
        "id": "view-in-github",
        "colab_type": "text"
      },
      "source": [
        "<a href=\"https://colab.research.google.com/github/Viktory4121/MM/blob/main/Lab1_MM.ipynb\" target=\"_parent\"><img src=\"https://colab.research.google.com/assets/colab-badge.svg\" alt=\"Open In Colab\"/></a>"
      ]
    },
    {
      "cell_type": "markdown",
      "metadata": {
        "id": "q2CVgH5USBwa"
      },
      "source": [
        "#### Лабораторная работа №1. Конечные автоматы Мили и Мура.\n",
        "Вариант 11"
      ]
    },
    {
      "cell_type": "code",
      "metadata": {
        "id": "0PVxx7gNQnVf"
      },
      "source": [
        "import numpy as np"
      ],
      "execution_count": 6,
      "outputs": []
    },
    {
      "cell_type": "code",
      "metadata": {
        "id": "sAFeW8vEoO4-",
        "colab": {
          "base_uri": "https://localhost:8080/"
        },
        "outputId": "4c9a67d7-117b-41aa-929e-0153ce7ca7d1"
      },
      "source": [
        "print('Ввести данные самостоятельно (+) или использовать данные 11 варианта (Enter)?')\n",
        "answer = input()\n",
        "\n",
        "if answer == '+':\n",
        "  print('Введите вход v1:')\n",
        "  v1 = list(input())\n",
        "  print('Введите вход v2:')\n",
        "  v2 = list(input())\n",
        "  print('Введите состояние x1:')\n",
        "  x1 = list(input())\n",
        "  print('Введите состояние x1:')\n",
        "  x2 = list(input())\n",
        "  print('Введите выход y1:')\n",
        "  y1 = list(input())\n",
        "  print('Введите выход y1:')\n",
        "  y2 = list(input())\n",
        "else:\n",
        "  #входы\n",
        "  v1 = '01'\n",
        "  v2 = 'АБВГ'\n",
        "  #состояния\n",
        "  x1 = '01'\n",
        "  x2 = 'АБВГ'\n",
        "  #выходы\n",
        "  y1 = 'АБВГ'\n",
        "  y2 = 'АБВГ'"
      ],
      "execution_count": 9,
      "outputs": [
        {
          "name": "stdout",
          "output_type": "stream",
          "text": [
            "Ввести данные самостоятельно (+) или использовать данные 11 варианта (Enter)?\n",
            "\n"
          ]
        }
      ]
    },
    {
      "cell_type": "markdown",
      "metadata": {
        "id": "-EQXNrPvM4CP"
      },
      "source": [
        "#### Переходы для автоматов Мили и Мура."
      ]
    },
    {
      "cell_type": "code",
      "metadata": {
        "colab": {
          "base_uri": "https://localhost:8080/"
        },
        "id": "gMzTMs3vFs8b",
        "outputId": "097e911d-89cd-470e-ff3d-7d755a161cb2"
      },
      "source": [
        "pos_inputs = []\n",
        "for i in range(len(v1)):\n",
        "  for j in range(len(v2)):\n",
        "    pos_inputs.append(v1[i] + v2[j])\n",
        "print('Возможные входы:', pos_inputs)\n",
        "\n",
        "pos_states = []\n",
        "for i in range(len(x1)):\n",
        "  for j in range(len(x2)):\n",
        "    pos_states.append(x1[i] + x2[j])\n",
        "print('Возможные состояния:', pos_states)\n"
      ],
      "execution_count": 14,
      "outputs": [
        {
          "output_type": "stream",
          "name": "stdout",
          "text": [
            "Возможные входы: ['0А', '0Б', '0В', '0Г', '1А', '1Б', '1В', '1Г']\n",
            "Возможные состояния: ['0А', '0Б', '0В', '0Г', '1А', '1Б', '1В', '1Г']\n"
          ]
        }
      ]
    },
    {
      "cell_type": "code",
      "metadata": {
        "id": "pGzs7c6-Wg0p"
      },
      "source": [
        ""
      ],
      "execution_count": null,
      "outputs": []
    }
  ]
}