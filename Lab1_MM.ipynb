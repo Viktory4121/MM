{
  "nbformat": 4,
  "nbformat_minor": 0,
  "metadata": {
    "colab": {
      "name": "Lab1_MM.ipynb",
      "provenance": [],
      "collapsed_sections": [],
      "authorship_tag": "ABX9TyO95s9726HrlN2e65BlGPJs",
      "include_colab_link": true
    },
    "kernelspec": {
      "name": "python3",
      "display_name": "Python 3"
    },
    "language_info": {
      "name": "python"
    }
  },
  "cells": [
    {
      "cell_type": "markdown",
      "metadata": {
        "id": "view-in-github",
        "colab_type": "text"
      },
      "source": [
        "<a href=\"https://colab.research.google.com/github/Viktory4121/MM/blob/main/Lab1_MM.ipynb\" target=\"_parent\"><img src=\"https://colab.research.google.com/assets/colab-badge.svg\" alt=\"Open In Colab\"/></a>"
      ]
    },
    {
      "cell_type": "markdown",
      "metadata": {
        "id": "q2CVgH5USBwa"
      },
      "source": [
        "#### Лабораторная работа №1. Конечные автоматы Мили и Мура.\n",
        "Вариант 11"
      ]
    },
    {
      "cell_type": "code",
      "metadata": {
        "id": "0PVxx7gNQnVf"
      },
      "source": [
        "import numpy as np\n",
        "import random\n",
        "import copy\n",
        "from prettytable import PrettyTable"
      ],
      "execution_count": 42,
      "outputs": []
    },
    {
      "cell_type": "code",
      "metadata": {
        "id": "sAFeW8vEoO4-"
      },
      "source": [
        "#входы\n",
        "v1 = '01'\n",
        "v2 = 'АБВГ'\n",
        "#состояния\n",
        "x1 = '01'\n",
        "x2 = 'АБВГ'\n",
        "#выходы\n",
        "y1 = 'АБВГ'\n",
        "y2 = 'АБВГ'"
      ],
      "execution_count": 43,
      "outputs": []
    },
    {
      "cell_type": "markdown",
      "metadata": {
        "id": "-EQXNrPvM4CP"
      },
      "source": [
        "#### Переходы для автоматов Мили и Мура."
      ]
    },
    {
      "cell_type": "code",
      "metadata": {
        "colab": {
          "base_uri": "https://localhost:8080/"
        },
        "id": "gMzTMs3vFs8b",
        "outputId": "dfe07d8d-2735-458a-f0b9-3820f306e4be"
      },
      "source": [
        "pos_inputs = []\n",
        "for i in range(len(v1)):\n",
        "  for j in range(len(v2)):\n",
        "    pos_inputs.append(v1[i] + v2[j])\n",
        "print('Возможные входы:', pos_inputs)\n",
        "\n",
        "pos_states = []\n",
        "for i in range(len(x1)):\n",
        "  for j in range(len(x2)):\n",
        "    pos_states.append(x1[i] + x2[j])\n",
        "print('Возможные состояния:', pos_states)\n",
        "\n",
        "pos_outputs = []\n",
        "for i in range(len(y1)):\n",
        "  for j in range(len(y2)):\n",
        "    pos_outputs.append(y1[i] + y2[j])\n",
        "print('Возможные выходы:', pos_outputs)"
      ],
      "execution_count": 44,
      "outputs": [
        {
          "output_type": "stream",
          "name": "stdout",
          "text": [
            "Возможные входы: ['0А', '0Б', '0В', '0Г', '1А', '1Б', '1В', '1Г']\n",
            "Возможные состояния: ['0А', '0Б', '0В', '0Г', '1А', '1Б', '1В', '1Г']\n",
            "Возможные выходы: ['АА', 'АБ', 'АВ', 'АГ', 'БА', 'ББ', 'БВ', 'БГ', 'ВА', 'ВБ', 'ВВ', 'ВГ', 'ГА', 'ГБ', 'ГВ', 'ГГ']\n"
          ]
        }
      ]
    },
    {
      "cell_type": "code",
      "metadata": {
        "colab": {
          "base_uri": "https://localhost:8080/"
        },
        "id": "pGzs7c6-Wg0p",
        "outputId": "9f9ac358-97e8-4a96-a1b4-9b6f9389584e"
      },
      "source": [
        "#Вывод таблицы переходов\n",
        "def creature_transition_table(p_inp, p_st):\n",
        "  table = [[random.choice(p_inp) for j in range(len(p_inp))] for i in range(len(p_st))]\n",
        "\n",
        "  print('Таблица переходов Мили и Мура')\n",
        "  transition_table = PrettyTable()\n",
        "  columns = p_st.copy()\n",
        "  columns.insert(0, \"v1,v2/x'1,x'2\")\n",
        "  transition_table.field_names = columns\n",
        "\n",
        "  for i in range(len(p_inp)):\n",
        "    transition_table.add_row([p_inp[i], table[i][0], table[i][1],\n",
        "                            table[i][2], table[i][3], table[i][4],\n",
        "                            table[i][5], table[i][6], table[i][7]])\n",
        "\n",
        "  columns.clear()\n",
        "  print(transition_table)\n",
        "  return table\n",
        "\n",
        "trans_tab = creature_transition_table(pos_inputs, pos_states)"
      ],
      "execution_count": 45,
      "outputs": [
        {
          "output_type": "stream",
          "name": "stdout",
          "text": [
            "Таблица переходов Мили и Мура\n",
            "+---------------+----+----+----+----+----+----+----+----+\n",
            "| v1,v2/x'1,x'2 | 0А | 0Б | 0В | 0Г | 1А | 1Б | 1В | 1Г |\n",
            "+---------------+----+----+----+----+----+----+----+----+\n",
            "|       0А      | 1Г | 0Г | 1Г | 1Б | 0В | 0В | 0Б | 1Б |\n",
            "|       0Б      | 0А | 1В | 1Г | 0В | 1Г | 1В | 1Б | 1Г |\n",
            "|       0В      | 1В | 1А | 0Г | 0А | 1Г | 1Г | 1Б | 0А |\n",
            "|       0Г      | 0В | 1Б | 1А | 0В | 1Б | 0В | 1Б | 0В |\n",
            "|       1А      | 0В | 1Г | 0Г | 0Б | 1Г | 1Г | 0Г | 0А |\n",
            "|       1Б      | 0А | 0В | 0Г | 0В | 0А | 1Г | 1В | 1Г |\n",
            "|       1В      | 0Б | 1В | 1Б | 1Г | 1В | 0А | 0Б | 1Г |\n",
            "|       1Г      | 0Г | 1Б | 0Г | 1Г | 1Б | 0А | 1А | 1В |\n",
            "+---------------+----+----+----+----+----+----+----+----+\n"
          ]
        }
      ]
    },
    {
      "cell_type": "markdown",
      "metadata": {
        "id": "JruCp-5FgNLi"
      },
      "source": [
        "#### Выходы для автомата Мили."
      ]
    },
    {
      "cell_type": "code",
      "metadata": {
        "colab": {
          "base_uri": "https://localhost:8080/"
        },
        "id": "x20soJGSfLMu",
        "outputId": "4cea6e1a-6d3f-4918-cab7-004b300964c1"
      },
      "source": [
        "#Вывод таблицы выходов Мили\n",
        "def creature_output_table(p_inp, p_st, p_out):\n",
        "  table = [[random.choice(p_out) for j in range(len(p_inp))] for i in range(len(p_st))]\n",
        "  print('Таблица выходов для Мили')\n",
        "  output_table = PrettyTable()\n",
        "\n",
        "  columns2 = p_st.copy()\n",
        "  columns2.insert(0, \"v1,v2/x'1,x'2\")\n",
        "  output_table.field_names = columns2\n",
        "\n",
        "  for i in range(len(p_inp)):\n",
        "    output_table.add_row([p_inp[i], table[i][0], table[i][1],\n",
        "                            table[i][2], table[i][3], table[i][4],\n",
        "                            table[i][5], table[i][6], table[i][7]])\n",
        "\n",
        "  columns2.clear()\n",
        "  print(output_table)\n",
        "  return table\n",
        "\n",
        "out_tab = creature_output_table(pos_inputs, pos_states, pos_outputs)"
      ],
      "execution_count": 46,
      "outputs": [
        {
          "output_type": "stream",
          "name": "stdout",
          "text": [
            "Таблица выходов для Мили\n",
            "+---------------+----+----+----+----+----+----+----+----+\n",
            "| v1,v2/x'1,x'2 | 0А | 0Б | 0В | 0Г | 1А | 1Б | 1В | 1Г |\n",
            "+---------------+----+----+----+----+----+----+----+----+\n",
            "|       0А      | ГБ | АА | АА | БВ | ББ | АА | ГА | ББ |\n",
            "|       0Б      | ВА | ББ | ББ | АА | БВ | БГ | ВГ | БГ |\n",
            "|       0В      | ББ | ББ | ВА | ББ | АГ | ГА | ВБ | БА |\n",
            "|       0Г      | АА | АБ | ВГ | ВГ | АВ | ГБ | ВГ | ББ |\n",
            "|       1А      | АВ | АБ | ГВ | БА | АВ | БВ | БА | ГБ |\n",
            "|       1Б      | АГ | ГБ | АБ | ВГ | ВГ | ВВ | ГВ | АВ |\n",
            "|       1В      | АБ | БГ | ВГ | АБ | АБ | ГА | ВГ | БА |\n",
            "|       1Г      | БВ | ВВ | ББ | ВА | ВВ | БА | БГ | ББ |\n",
            "+---------------+----+----+----+----+----+----+----+----+\n"
          ]
        }
      ]
    },
    {
      "cell_type": "markdown",
      "metadata": {
        "id": "KShQJjB2krNZ"
      },
      "source": [
        "#### Отмеченная таблица переходов для автомата Мура."
      ]
    },
    {
      "cell_type": "code",
      "metadata": {
        "colab": {
          "base_uri": "https://localhost:8080/"
        },
        "id": "-SeKMclTkZTR",
        "outputId": "7e100d00-7b9d-4a90-a77a-9ecc2c46c8d5"
      },
      "source": [
        "#Вывод отмеченной таблицы переходов Мура\n",
        "def creature_marked_transition_table(p_inp, p_st, p_out, trans):\n",
        "  print('Отмеченная таблица переходов для Мура')\n",
        "  marked_transition_table = PrettyTable()\n",
        "  columns3 = p_st.copy()\n",
        "  columns3.insert(0, \"v1,v2/x'1,x'2\")\n",
        "  marked_transition_table.field_names = columns3\n",
        "\n",
        "  for i in range(len(p_inp)):\n",
        "    marked_transition_table.add_row([p_inp[i], trans[i][0], trans[i][1],\n",
        "                            trans[i][2], trans[i][3], trans[i][4],\n",
        "                            trans[i][5], trans[i][6], trans[i][7]])\n",
        "  marked_transition_table.add_row(['','','','','','','','',''])\n",
        "\n",
        "  table = [random.choice(p_out) for j in range(len(p_st))]\n",
        "  marked_transition_table.add_row(['y1,y1', table[0], table[1], table[2],\n",
        "                                 table[3], table[4], table[5], table[6], table[7]])\n",
        "\n",
        "  columns3.clear()\n",
        "  print(marked_transition_table)\n",
        "  return table\n",
        "\n",
        "input_y = creature_marked_transition_table(pos_inputs, pos_states, pos_outputs, trans_tab)"
      ],
      "execution_count": 47,
      "outputs": [
        {
          "output_type": "stream",
          "name": "stdout",
          "text": [
            "Отмеченная таблица переходов для Мура\n",
            "+---------------+----+----+----+----+----+----+----+----+\n",
            "| v1,v2/x'1,x'2 | 0А | 0Б | 0В | 0Г | 1А | 1Б | 1В | 1Г |\n",
            "+---------------+----+----+----+----+----+----+----+----+\n",
            "|       0А      | 1Г | 0Г | 1Г | 1Б | 0В | 0В | 0Б | 1Б |\n",
            "|       0Б      | 0А | 1В | 1Г | 0В | 1Г | 1В | 1Б | 1Г |\n",
            "|       0В      | 1В | 1А | 0Г | 0А | 1Г | 1Г | 1Б | 0А |\n",
            "|       0Г      | 0В | 1Б | 1А | 0В | 1Б | 0В | 1Б | 0В |\n",
            "|       1А      | 0В | 1Г | 0Г | 0Б | 1Г | 1Г | 0Г | 0А |\n",
            "|       1Б      | 0А | 0В | 0Г | 0В | 0А | 1Г | 1В | 1Г |\n",
            "|       1В      | 0Б | 1В | 1Б | 1Г | 1В | 0А | 0Б | 1Г |\n",
            "|       1Г      | 0Г | 1Б | 0Г | 1Г | 1Б | 0А | 1А | 1В |\n",
            "|               |    |    |    |    |    |    |    |    |\n",
            "|     y1,y1     | БГ | ВВ | БВ | БГ | АГ | ГВ | ББ | ББ |\n",
            "+---------------+----+----+----+----+----+----+----+----+\n"
          ]
        }
      ]
    },
    {
      "cell_type": "markdown",
      "metadata": {
        "id": "VoVafUZc5yb8"
      },
      "source": [
        "#### Выходы для интерпретирующего автомата Мили."
      ]
    },
    {
      "cell_type": "code",
      "metadata": {
        "colab": {
          "base_uri": "https://localhost:8080/"
        },
        "id": "jN2gSESP54IW",
        "outputId": "9a94320f-ae23-4db4-e001-77f306a9f356"
      },
      "source": [
        "#Вывод таблицы для интерпретирующего Мили\n",
        "print('Таблица выходов для интерпретирующего автомата Мили')\n",
        "interpretive_output_table = PrettyTable()\n",
        "columns4 = pos_states.copy()\n",
        "columns4.insert(0, \"v1,v2/x'1,x'2\")\n",
        "interpretive_output_table.field_names = columns4\n",
        "\n",
        "int_out_tab = [[out_tab[i][j] if out_tab[i][j] in input_y else '--' for j in range(len(pos_inputs))] for i in range(len(pos_states))]\n",
        "for i in range(len(pos_inputs)):\n",
        "  interpretive_output_table.add_row([pos_inputs[i], int_out_tab[i][0], int_out_tab[i][1],\n",
        "                            int_out_tab[i][2], int_out_tab[i][3], int_out_tab[i][4],\n",
        "                            int_out_tab[i][5], int_out_tab[i][6], int_out_tab[i][7]])\n",
        "\n",
        "columns4.clear()\n",
        "print(interpretive_output_table)"
      ],
      "execution_count": 48,
      "outputs": [
        {
          "output_type": "stream",
          "name": "stdout",
          "text": [
            "Таблица выходов для интерпретирующего автомата Мили\n",
            "+---------------+----+----+----+----+----+----+----+----+\n",
            "| v1,v2/x'1,x'2 | 0А | 0Б | 0В | 0Г | 1А | 1Б | 1В | 1Г |\n",
            "+---------------+----+----+----+----+----+----+----+----+\n",
            "|       0А      | -- | -- | -- | БВ | ББ | -- | -- | ББ |\n",
            "|       0Б      | -- | ББ | ББ | -- | БВ | БГ | -- | БГ |\n",
            "|       0В      | ББ | ББ | -- | ББ | АГ | -- | -- | -- |\n",
            "|       0Г      | -- | -- | -- | -- | -- | -- | -- | ББ |\n",
            "|       1А      | -- | -- | ГВ | -- | -- | БВ | -- | -- |\n",
            "|       1Б      | АГ | -- | -- | -- | -- | ВВ | ГВ | -- |\n",
            "|       1В      | -- | БГ | -- | -- | -- | -- | -- | -- |\n",
            "|       1Г      | БВ | ВВ | ББ | -- | ВВ | -- | БГ | ББ |\n",
            "+---------------+----+----+----+----+----+----+----+----+\n"
          ]
        }
      ]
    },
    {
      "cell_type": "markdown",
      "metadata": {
        "id": "z356mC459w_l"
      },
      "source": [
        "####Таблица соединений конечного автомата"
      ]
    },
    {
      "cell_type": "code",
      "metadata": {
        "id": "ckklB3UK9-ax"
      },
      "source": [
        ""
      ],
      "execution_count": 30,
      "outputs": []
    }
  ]
}