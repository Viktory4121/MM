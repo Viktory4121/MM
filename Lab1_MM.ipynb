{
  "nbformat": 4,
  "nbformat_minor": 0,
  "metadata": {
    "colab": {
      "name": "Lab1_MM.ipynb",
      "provenance": [],
      "collapsed_sections": [],
      "authorship_tag": "ABX9TyN3iL2ejbP2xsPQi1fq6XIO",
      "include_colab_link": true
    },
    "kernelspec": {
      "name": "python3",
      "display_name": "Python 3"
    },
    "language_info": {
      "name": "python"
    }
  },
  "cells": [
    {
      "cell_type": "markdown",
      "metadata": {
        "id": "view-in-github",
        "colab_type": "text"
      },
      "source": [
        "<a href=\"https://colab.research.google.com/github/Viktory4121/MM/blob/main/Lab1_MM.ipynb\" target=\"_parent\"><img src=\"https://colab.research.google.com/assets/colab-badge.svg\" alt=\"Open In Colab\"/></a>"
      ]
    },
    {
      "cell_type": "markdown",
      "metadata": {
        "id": "q2CVgH5USBwa"
      },
      "source": [
        "### Лабораторная работа №1\n",
        "### Конечные автоматы Мили и Мура\n",
        "### Вариант 11"
      ]
    },
    {
      "cell_type": "code",
      "metadata": {
        "id": "0PVxx7gNQnVf"
      },
      "source": [
        "import numpy as np"
      ],
      "execution_count": 6,
      "outputs": []
    },
    {
      "cell_type": "code",
      "metadata": {
        "id": "sAFeW8vEoO4-",
        "outputId": "f8b36673-3707-462a-9407-b31bac1902e1",
        "colab": {
          "base_uri": "https://localhost:8080/"
        }
      },
      "source": [
        "print('Ввести данные самостоятельно (+) или использовать данные 11 варианта (-)?')\n",
        "answer = input()\n",
        "\n",
        "if answer == '+':\n",
        "  print('Введите вход v1:')\n",
        "  v1 = list(input())\n",
        "  print('Введите вход v2:')\n",
        "  v2 = list(input())\n",
        "  print('Введите состояние x1:')\n",
        "  x1 = list(input())\n",
        "  print('Введите состояние x1:')\n",
        "  x2 = list(input())\n",
        "  print('Введите выход y1:')\n",
        "  y1 = list(input())\n",
        "  print('Введите выход y1:')\n",
        "  y2 = list(input())\n",
        "else:\n",
        "  #входы\n",
        "  v1 = '01'\n",
        "  v2 = 'АБВГ'\n",
        "  #состояния\n",
        "  x1 = '01'\n",
        "  x2 = 'АБВГ'\n",
        "  #выходы\n",
        "  y1 = 'АБВГ'\n",
        "  y2 = 'АБВГ'"
      ],
      "execution_count": 7,
      "outputs": [
        {
          "name": "stdout",
          "output_type": "stream",
          "text": [
            "Ввести данные самостоятельно (+) или использовать данные 11 варианта (-)?\n",
            "-\n"
          ]
        }
      ]
    },
    {
      "cell_type": "code",
      "metadata": {
        "id": "gMzTMs3vFs8b"
      },
      "source": [
        ""
      ],
      "execution_count": null,
      "outputs": []
    }
  ]
}