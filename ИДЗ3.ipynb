{
  "nbformat": 4,
  "nbformat_minor": 0,
  "metadata": {
    "colab": {
      "name": "ИДЗ3.ipynb",
      "provenance": [],
      "authorship_tag": "ABX9TyNam6rwpafahk9pXBFWKowi",
      "include_colab_link": true
    },
    "kernelspec": {
      "name": "python3",
      "display_name": "Python 3"
    },
    "language_info": {
      "name": "python"
    }
  },
  "cells": [
    {
      "cell_type": "markdown",
      "metadata": {
        "id": "view-in-github",
        "colab_type": "text"
      },
      "source": [
        "<a href=\"https://colab.research.google.com/github/Viktory4121/MM/blob/main/%D0%98%D0%94%D0%973.ipynb\" target=\"_parent\"><img src=\"https://colab.research.google.com/assets/colab-badge.svg\" alt=\"Open In Colab\"/></a>"
      ]
    },
    {
      "cell_type": "markdown",
      "source": [
        "###ИДЗ 3. Нечёткие модели.\n",
        "####Вариант 11."
      ],
      "metadata": {
        "id": "iGTLbtBtP-2r"
      }
    },
    {
      "cell_type": "code",
      "source": [
        "import numpy as np\n",
        "import pandas as pd\n",
        "import matplotlib.pyplot as plt\n",
        "import math\n",
        "from sklearn.metrics import r2_score\n",
        "from sklearn.metrics import mean_squared_error\n",
        "from matplotlib.animation import FuncAnimation\n",
        "import pylab\n",
        "%matplotlib inline\n",
        "\n",
        "pd.set_option('display.max_rows', None)\n",
        "pd.set_option('display.max_columns', None)\n",
        "pd.set_option('display.width', 500)"
      ],
      "metadata": {
        "id": "JUtS4nCPQ_md"
      },
      "execution_count": 73,
      "outputs": []
    },
    {
      "cell_type": "markdown",
      "source": [
        "**Задание функции**"
      ],
      "metadata": {
        "id": "8YjnopAIT8--"
      }
    },
    {
      "cell_type": "code",
      "execution_count": 8,
      "metadata": {
        "id": "fXkuH1sFP1lF"
      },
      "outputs": [],
      "source": [
        "#Вид функции: f(t) = (t**3) - 37 * (t**2) + 447 * t - 1755 = (t - 9) * (t - 13) * (t - 15)\n",
        "def f(t):\n",
        "  return ((t - 9) * (t - 13) * (t - 15))\n",
        "#Производная функции f(t)\n",
        "def df(t):\n",
        "  return (3 * (t**2) - 74 * t + 447)"
      ]
    },
    {
      "cell_type": "code",
      "source": [
        "t = np.linspace(0, 100, num = 200)\n",
        "f_t = f(t)\n",
        "print('Вид функции f(t)\\n')\n",
        "plt.plot(t, f_t)"
      ],
      "metadata": {
        "id": "Lq0KLZlKRC8O",
        "outputId": "1d2c2dac-8d70-4f27-d034-ee9d74389e4f",
        "colab": {
          "base_uri": "https://localhost:8080/",
          "height": 319
        }
      },
      "execution_count": 15,
      "outputs": [
        {
          "output_type": "stream",
          "name": "stdout",
          "text": [
            "Вид функции f(t)\n",
            "\n"
          ]
        },
        {
          "output_type": "execute_result",
          "data": {
            "text/plain": [
              "[<matplotlib.lines.Line2D at 0x7f8fd3bfca90>]"
            ]
          },
          "metadata": {},
          "execution_count": 15
        },
        {
          "output_type": "display_data",
          "data": {
            "image/png": "[encoded data removed]",
            "text/plain": [
              "<Figure size 432x288 with 1 Axes>"
            ]
          },
          "metadata": {
            "needs_background": "light"
          }
        }
      ]
    },
    {
      "cell_type": "markdown",
      "source": [
        "**Нахождение уравнений касательных**"
      ],
      "metadata": {
        "id": "F7_mZb5fT2YV"
      }
    },
    {
      "cell_type": "code",
      "source": [
        "#Для примера возьмём из нашей выборки точку под номером 47 и 122\n",
        "def finding_tangent_equation(num, t0):\n",
        "  print('Формула касательной имеет вид: y = a * t + b, где')\n",
        "  print(\"a = f'(t0)\\nb = f(t0) - t0 * f'(t0)\")\n",
        "  a = df(t0)\n",
        "  b = f(t0) - t0 * df(t0)\n",
        "  print('При:')\n",
        "  print(\"t0 = \" + str(round(t0, 4)))\n",
        "  print('f(t0) = ' + str(round(f(t0), 4)))\n",
        "  print(\"f'(t0) = \" + str(round(df(t0), 4)))\n",
        "  print(str(num) + '-е уравнение касательной имеет вид: y = ' + str(round(a, 4)) + ' * t + (' + str(round(b, 4)) + ')\\n')\n",
        "  return a, b\n",
        "\n",
        "a1, b1 = finding_tangent_equation(1, t[47 - 1])\n",
        "a2, b2 = finding_tangent_equation(2, t[122 - 1])"
      ],
      "metadata": {
        "id": "GEctgXBGRx8q",
        "colab": {
          "base_uri": "https://localhost:8080/"
        },
        "outputId": "c84b69af-b92f-47fe-cdda-38f8185ff57c"
      },
      "execution_count": 33,
      "outputs": [
        {
          "output_type": "stream",
          "name": "stdout",
          "text": [
            "Формула касательной имеет вид: y = a * t + b, где\n",
            "a = f'(t0)\n",
            "b = f(t0) - t0 * f'(t0)\n",
            "При:\n",
            "t0 = 23.1156\n",
            "f(t0) = 1158.8009\n",
            "f'(t0) = 339.4371\n",
            "1-е уравнение касательной имеет вид: y = 339.4371 * t + (-6687.4829)\n",
            "\n",
            "Формула касательной имеет вид: y = a * t + b, где\n",
            "a = f'(t0)\n",
            "b = f(t0) - t0 * f'(t0)\n",
            "При:\n",
            "t0 = 60.804\n",
            "f(t0) = 113430.9267\n",
            "f'(t0) = 7038.8891\n",
            "2-е уравнение касательной имеет вид: y = 7038.8891 * t + (-314561.8272)\n",
            "\n"
          ]
        }
      ]
    },
    {
      "cell_type": "code",
      "source": [
        "#Функция касательных:\n",
        "def tangent(a, b, t):\n",
        "  return (a * t + b)\n",
        "\n",
        "y1 = tangent(a1, b1, t)\n",
        "y2 = tangent(a2, b2, t)\n",
        "\n",
        "plt.plot(t, f_t)\n",
        "plt.plot(t, y1)\n",
        "plt.plot(t, y2)"
      ],
      "metadata": {
        "id": "C1Sor-9dTL-K",
        "colab": {
          "base_uri": "https://localhost:8080/",
          "height": 283
        },
        "outputId": "47c4228c-6705-4ef4-b9f9-b385f58afffa"
      },
      "execution_count": 34,
      "outputs": [
        {
          "output_type": "execute_result",
          "data": {
            "text/plain": [
              "[<matplotlib.lines.Line2D at 0x7f8fcf556610>]"
            ]
          },
          "metadata": {},
          "execution_count": 34
        },
        {
          "output_type": "display_data",
          "data": {
            "image/png": "[encoded data removed]",
            "text/plain": [
              "<Figure size 432x288 with 1 Axes>"
            ]
          },
          "metadata": {
            "needs_background": "light"
          }
        }
      ]
    },
    {
      "cell_type": "markdown",
      "source": [
        "**Построение mu1 и mu2 (касательные по концам промежутков t и f(t)**"
      ],
      "metadata": {
        "id": "979zZQX9ZPVp"
      }
    },
    {
      "cell_type": "code",
      "source": [
        "#строится по концам интервалов t=[t1,tn] и f(t)=[f(t1),f(tn)]\n",
        "plt.plot([t[0], t[0]], [f_t[0], f_t[len(f_t) - 1]])\n",
        "plt.plot([t[len(t) - 1], t[len(t) - 1]], [f_t[0], f_t[len(f_t) - 1]])\n",
        "#касательные:\n",
        "plt.plot([t[0], t[len(t) - 1]], [f_t[0], f_t[len(f_t) - 1]])\n",
        "plt.plot([t[0], t[len(t) - 1]], [f_t[len(f_t) - 1], f_t[0]])"
      ],
      "metadata": {
        "colab": {
          "base_uri": "https://localhost:8080/",
          "height": 285
        },
        "id": "MpWJkC2eTmRw",
        "outputId": "7d8c617b-f40f-4745-ecef-cdf712df2c24"
      },
      "execution_count": 59,
      "outputs": [
        {
          "output_type": "execute_result",
          "data": {
            "text/plain": [
              "[<matplotlib.lines.Line2D at 0x7f8fceba8450>]"
            ]
          },
          "metadata": {},
          "execution_count": 59
        },
        {
          "output_type": "display_data",
          "data": {
            "image/png": "[encoded data removed]",
            "text/plain": [
              "<Figure size 432x288 with 1 Axes>"
            ]
          },
          "metadata": {
            "needs_background": "light"
          }
        }
      ]
    },
    {
      "cell_type": "markdown",
      "source": [
        "**Найдём значения mu1 и mu2**"
      ],
      "metadata": {
        "id": "-ZzQGxvUbH7k"
      }
    },
    {
      "cell_type": "code",
      "source": [
        "mu1_a, mu1_b = finding_tangent_equation(1, t[0])\n",
        "mu2_a, mu2_b = finding_tangent_equation(2, t[len(t) - 1])"
      ],
      "metadata": {
        "id": "eJGuwJIGbMgV",
        "outputId": "ea5661e4-cbe3-43e5-cfac-564400d9039b",
        "colab": {
          "base_uri": "https://localhost:8080/"
        }
      },
      "execution_count": 63,
      "outputs": [
        {
          "output_type": "stream",
          "name": "stdout",
          "text": [
            "Формула касательной имеет вид: y = a * t + b, где\n",
            "a = f'(t0)\n",
            "b = f(t0) - t0 * f'(t0)\n",
            "При:\n",
            "t0 = 0.0\n",
            "f(t0) = -1755.0\n",
            "f'(t0) = 447.0\n",
            "1-е уравнение касательной имеет вид: y = 447.0 * t + (-1755.0)\n",
            "\n",
            "Формула касательной имеет вид: y = a * t + b, где\n",
            "a = f'(t0)\n",
            "b = f(t0) - t0 * f'(t0)\n",
            "При:\n",
            "t0 = 100.0\n",
            "f(t0) = 672945.0\n",
            "f'(t0) = 23047.0\n",
            "2-е уравнение касательной имеет вид: y = 23047.0 * t + (-1631755.0)\n",
            "\n"
          ]
        }
      ]
    },
    {
      "cell_type": "code",
      "source": [
        "mu1 = tangent(mu1_a, mu1_b, t)\n",
        "mu2 = tangent(mu2_a, mu2_b, t)"
      ],
      "metadata": {
        "id": "HKaXHqNbec9n"
      },
      "execution_count": 66,
      "outputs": []
    },
    {
      "cell_type": "markdown",
      "source": [
        "**Построим нечёткую модель y_ и изобразим эти значения вместе с функцией f(t) и двумя касательными**"
      ],
      "metadata": {
        "id": "tuv4eX5iVOc4"
      }
    },
    {
      "cell_type": "code",
      "source": [
        "def y_new(t, y1, y2, a1, a2, b1, b2, mu1, mu2):\n",
        "  return ((mu1 * (a1 * t + b1) + mu2 * (a2 * t + b2)) / (mu1 + mu2))\n",
        "\n",
        "y_ = y_new(t, y1, y2, a1, a2, b1, b2, mu1, mu2)\n",
        "plt.plot(t, y_)\n",
        "plt.plot(t, f_t)\n",
        "plt.plot(t, y1)\n",
        "plt.plot(t, y2)"
      ],
      "metadata": {
        "colab": {
          "base_uri": "https://localhost:8080/",
          "height": 293
        },
        "id": "wCguLK5oTVRf",
        "outputId": "c3d6c647-2b5e-4598-d31b-f0b870209506"
      },
      "execution_count": 70,
      "outputs": [
        {
          "output_type": "execute_result",
          "data": {
            "text/plain": [
              "[<matplotlib.lines.Line2D at 0x7f8fce9836d0>]"
            ]
          },
          "metadata": {},
          "execution_count": 70
        },
        {
          "output_type": "display_data",
          "data": {
            "image/png": "[encoded data removed]",
            "text/plain": [
              "<Figure size 432x288 with 1 Axes>"
            ]
          },
          "metadata": {
            "needs_background": "light"
          }
        }
      ]
    },
    {
      "cell_type": "markdown",
      "source": [
        "**Общая таблица**"
      ],
      "metadata": {
        "id": "1LkhmEaNgZl9"
      }
    },
    {
      "cell_type": "code",
      "source": [
        "data = list(zip(t, f_t, df_t, mu1, mu2, y1, y2, y_))\n",
        "print(pd.DataFrame(data, columns=[\"t\", \"f(t)\", \"f'(t)\", \"mu1\", \"mu2\", \"y_кас1\", \"y_кас2\", 'y_model']))"
      ],
      "metadata": {
        "id": "pZOZwdBZgZMI",
        "outputId": "b7e3b5bd-5bc3-45d2-aca5-5d6755955d87",
        "colab": {
          "base_uri": "https://localhost:8080/"
        }
      },
      "execution_count": 74,
      "outputs": [
        {
          "output_type": "stream",
          "name": "stdout",
          "text": [
            "              t           f(t)         f'(t)           mu1           mu2        y_кас1         y_кас2       y_model\n",
            "0      0.000000   -1755.000000    447.000000  -1755.000000 -1.631755e+06  -6687.482924 -314561.827248 -3.142311e+05\n",
            "1      0.502513   -1539.593189    410.571627  -1530.376884 -1.620174e+06  -6516.911537 -311024.697050 -3.107373e+05\n",
            "2      1.005025   -1342.111411    375.658367  -1305.753769 -1.608592e+06  -6346.340151 -307487.566852 -3.072433e+05\n",
            "3      1.507538   -1161.793303    342.260221  -1081.130653 -1.597011e+06  -6175.768764 -303950.436654 -3.037490e+05\n",
            "4      2.010050    -997.877502    310.377187   -856.507538 -1.585429e+06  -6005.197377 -300413.306456 -3.002543e+05\n",
            "5      2.512563    -849.602644    280.009267   -631.884422 -1.573848e+06  -5834.625990 -296876.176258 -2.967594e+05\n",
            "6      3.015075    -716.207365    251.156461   -407.261307 -1.562267e+06  -5664.054604 -293339.046060 -2.932641e+05\n",
            "7      3.517588    -596.930303    223.818767   -182.638191 -1.550685e+06  -5493.483217 -289801.915863 -2.897684e+05\n",
            "8      4.020101    -491.010093    197.996187     41.984925 -1.539104e+06  -5322.911830 -286264.785665 -2.862724e+05\n",
            "9      4.522613    -397.685372    173.688720    266.608040 -1.527522e+06  -5152.340443 -282727.655467 -2.827761e+05\n",
            "10     5.025126    -316.194777    150.896366    491.231156 -1.515941e+06  -4981.769057 -279190.525269 -2.792794e+05\n",
            "11     5.527638    -245.776945    129.619126    715.854271 -1.504360e+06  -4811.197670 -275653.395071 -2.757823e+05\n",
            "12     6.030151    -185.670511    109.856999    940.477387 -1.492778e+06  -4640.626283 -272116.264873 -2.722849e+05\n",
            "13     6.532663    -135.114113     91.609985   1165.100503 -1.481197e+06  -4470.054896 -268579.134676 -2.687870e+05\n",
            "14     7.035176     -93.346387     74.878084   1389.723618 -1.469615e+06  -4299.483509 -265042.004478 -2.652888e+05\n",
            "15     7.537688     -59.605970     59.661296   1614.346734 -1.458034e+06  -4128.912123 -261504.874280 -2.617902e+05\n",
            "16     8.040201     -33.131497     45.959622   1838.969849 -1.446452e+06  -3958.340736 -257967.744082 -2.582911e+05\n",
            "17     8.542714     -13.161607     33.773061   2063.592965 -1.434871e+06  -3787.769349 -254430.613884 -2.547916e+05\n",
            "18     9.045226       1.065066     23.101614   2288.216080 -1.423290e+06  -3617.197962 -250893.483686 -2.512917e+05\n",
            "19     9.547739      10.309883     13.945279   2512.839196 -1.411708e+06  -3446.626576 -247356.353488 -2.477913e+05\n",
            "20    10.050251      15.334209      6.304058   2737.462312 -1.400127e+06  -3276.055189 -243819.223291 -2.442904e+05\n",
            "21    10.552764      16.899408      0.177950   2962.085427 -1.388545e+06  -3105.483802 -240282.093093 -2.407891e+05\n",
            "22    11.055276      15.766841     -4.433045   3186.708543 -1.376964e+06  -2934.912415 -236744.962895 -2.372873e+05\n",
            "23    11.557789      12.697874     -7.528926   3411.331658 -1.365383e+06  -2764.341029 -233207.832697 -2.337850e+05\n",
            "24    12.060302       8.453869     -9.109694   3635.954774 -1.353801e+06  -2593.769642 -229670.702499 -2.302822e+05\n",
            "25    12.562814       3.796190     -9.175349   3860.577889 -1.342220e+06  -2423.198255 -226133.572301 -2.267789e+05\n",
            "26    13.065327      -0.513799     -7.725891   4085.201005 -1.330638e+06  -2252.626868 -222596.442104 -2.232750e+05\n",
            "27    13.567839      -3.714736     -4.761319   4309.824121 -1.319057e+06  -2082.055481 -219059.311906 -2.197706e+05\n",
            "28    14.070352      -5.045257     -0.281634   4534.447236 -1.307476e+06  -1911.484095 -215522.181708 -2.162656e+05\n",
            "29    14.572864      -3.743998      5.713164   4759.070352 -1.295894e+06  -1740.912708 -211985.051510 -2.127600e+05\n",
            "30    15.075377       0.950404     13.223075   4983.693467 -1.284313e+06  -1570.341321 -208447.921312 -2.092538e+05\n",
            "31    15.577889       9.799313     22.248100   5208.316583 -1.272731e+06  -1399.769934 -204910.791114 -2.057470e+05\n",
            "32    16.080402      23.564091     32.788238   5432.939698 -1.261150e+06  -1229.198548 -201373.660917 -2.022396e+05\n",
            "33    16.582915      43.006103     44.843489   5657.562814 -1.249569e+06  -1058.627161 -197836.530719 -1.987315e+05\n",
            "34    17.085427      68.886712     58.413853   5882.185930 -1.237987e+06   -888.055774 -194299.400521 -1.952228e+05\n",
            "35    17.587940     101.967281     73.499331   6106.809045 -1.226406e+06   -717.484387 -190762.270323 -1.917133e+05\n",
            "36    18.090452     143.009174     90.099922   6331.432161 -1.214824e+06   -546.913001 -187225.140125 -1.882032e+05\n",
            "37    18.592965     192.773754    108.215626   6556.055276 -1.203243e+06   -376.341614 -183688.009927 -1.846923e+05\n",
            "38    19.095477     252.022385    127.846443   6780.678392 -1.191662e+06   -205.770227 -180150.879729 -1.811806e+05\n",
            "39    19.597990     321.516430    148.992374   7005.301508 -1.180080e+06    -35.198840 -176613.749532 -1.776682e+05\n",
            "40    20.100503     402.017252    171.653418   7229.924623 -1.168499e+06    135.372547 -173076.619334 -1.741550e+05\n",
            "41    20.603015     494.286215    195.829575   7454.547739 -1.156917e+06    305.943933 -169539.489136 -1.706410e+05\n",
            "42    21.105528     599.084683    221.520845   7679.170854 -1.145336e+06    476.515320 -166002.358938 -1.671261e+05\n",
            "43    21.608040     717.174019    248.727229   7903.793970 -1.133754e+06    647.086707 -162465.228740 -1.636103e+05\n",
            "44    22.110553     849.315586    277.448726   8128.417085 -1.122173e+06    817.658094 -158928.098542 -1.600937e+05\n",
            "45    22.613065     996.270747    307.685336   8353.040201 -1.110592e+06    988.229480 -155390.968345 -1.565760e+05\n",
            "46    23.115578    1158.800867    339.437060   8577.663317 -1.099010e+06   1158.800867 -151853.838147 -1.530575e+05\n",
            "47    23.618090    1337.667309    372.703896   8802.286432 -1.087429e+06   1329.372254 -148316.707949 -1.495379e+05\n",
            "48    24.120603    1533.631435    407.485846   9026.909548 -1.075847e+06   1499.943641 -144779.577751 -1.460173e+05\n",
            "49    24.623116    1747.454610    443.782910   9251.532663 -1.064266e+06   1670.515027 -141242.447553 -1.424957e+05\n",
            "50    25.125628    1979.898197    481.595086   9476.155779 -1.052685e+06   1841.086414 -137705.317355 -1.389729e+05\n",
            "51    25.628141    2231.723560    520.922376   9700.778894 -1.041103e+06   2011.657801 -134168.187157 -1.354490e+05\n",
            "52    26.130653    2503.692061    561.764779   9925.402010 -1.029522e+06   2182.229188 -130631.056960 -1.319239e+05\n",
            "53    26.633166    2796.565065    604.122295  10150.025126 -1.017940e+06   2352.800575 -127093.926762 -1.283977e+05\n",
            "54    27.135678    3111.103934    647.994924  10374.648241 -1.006359e+06   2523.371961 -123556.796564 -1.248701e+05\n",
            "55    27.638191    3448.070033    693.382667  10599.271357 -9.947776e+05   2693.943348 -120019.666366 -1.213413e+05\n",
            "56    28.140704    3808.224724    740.285523  10823.894472 -9.831962e+05   2864.514735 -116482.536168 -1.178110e+05\n",
            "57    28.643216    4192.329372    788.703492  11048.517588 -9.716148e+05   3035.086122 -112945.405970 -1.142794e+05\n",
            "58    29.145729    4601.145339    838.636575  11273.140704 -9.600334e+05   3205.657508 -109408.275773 -1.107464e+05\n",
            "59    29.648241    5035.433989    890.084771  11497.763819 -9.484520e+05   3376.228895 -105871.145575 -1.072118e+05\n",
            "60    30.150754    5495.956685    943.048080  11722.386935 -9.368706e+05   3546.800282 -102334.015377 -1.036756e+05\n",
            "61    30.653266    5983.474791    997.526502  11947.010050 -9.252892e+05   3717.371669  -98796.885179 -1.001378e+05\n",
            "62    31.155779    6498.749671   1053.520037  12171.633166 -9.137078e+05   3887.943055  -95259.754981 -9.659835e+04\n",
            "63    31.658291    7042.542687   1111.028686  12396.256281 -9.021264e+05   4058.514442  -91722.624783 -9.305711e+04\n",
            "64    32.160804    7615.615203   1170.052448  12620.879397 -8.905449e+05   4229.085829  -88185.494586 -8.951403e+04\n",
            "65    32.663317    8218.728583   1230.591323  12845.502513 -8.789635e+05   4399.657216  -84648.364388 -8.596905e+04\n",
            "66    33.165829    8852.644190   1292.645312  13070.125628 -8.673821e+05   4570.228603  -81111.234190 -8.242208e+04\n",
            "67    33.668342    9518.123388   1356.214414  13294.748744 -8.558007e+05   4740.799989  -77574.103992 -7.887303e+04\n",
            "68    34.170854   10215.927540   1421.298629  13519.371859 -8.442193e+05   4911.371376  -74036.973794 -7.532183e+04\n",
            "69    34.673367   10946.818009   1487.897957  13743.994975 -8.326379e+05   5081.942763  -70499.843596 -7.176838e+04\n",
            "70    35.175879   11711.556159   1556.012399  13968.618090 -8.210565e+05   5252.514150  -66962.713398 -6.821257e+04\n",
            "71    35.678392   12510.903353   1625.641953  14193.241206 -8.094751e+05   5423.085536  -63425.583201 -6.465431e+04\n",
            "72    36.180905   13345.620955   1696.786622  14417.864322 -7.978937e+05   5593.656923  -59888.453003 -6.109348e+04\n",
            "73    36.683417   14216.470329   1769.446403  14642.487437 -7.863123e+05   5764.228310  -56351.322805 -5.752997e+04\n",
            "74    37.185930   15124.212836   1843.621297  14867.110553 -7.747309e+05   5934.799697  -52814.192607 -5.396365e+04\n",
            "75    37.688442   16069.609842   1919.311305  15091.733668 -7.631495e+05   6105.371083  -49277.062409 -5.039438e+04\n",
            "76    38.190955   17053.422710   1996.516426  15316.356784 -7.515681e+05   6275.942470  -45739.932211 -4.682203e+04\n",
            "77    38.693467   18076.412803   2075.236661  15540.979899 -7.399867e+05   6446.513857  -42202.802014 -4.324644e+04\n",
            "78    39.195980   19139.341483   2155.472008  15765.603015 -7.284053e+05   6617.085244  -38665.671816 -3.966745e+04\n",
            "79    39.698492   20242.970116   2237.222469  15990.226131 -7.168238e+05   6787.656631  -35128.541618 -3.608490e+04\n",
            "80    40.201005   21388.060064   2320.488043  16214.849246 -7.052424e+05   6958.228017  -31591.411420 -3.249860e+04\n",
            "81    40.703518   22575.372691   2405.268731  16439.472362 -6.936610e+05   7128.799404  -28054.281222 -2.890835e+04\n",
            "82    41.206030   23805.669360   2491.564531  16664.095477 -6.820796e+05   7299.370791  -24517.151024 -2.531394e+04\n",
            "83    41.708543   25079.711435   2579.375445  16888.718593 -6.704982e+05   7469.942178  -20980.020826 -2.171514e+04\n",
            "84    42.211055   26398.260279   2668.701472  17113.341709 -6.589168e+05   7640.513564  -17442.890629 -1.811173e+04\n",
            "85    42.713568   27762.077255   2759.542613  17337.964824 -6.473354e+05   7811.084951  -13905.760431 -1.450342e+04\n",
            "86    43.216080   29171.923727   2851.898866  17562.587940 -6.357540e+05   7981.656338  -10368.630233 -1.088996e+04\n",
            "87    43.718593   30628.561059   2945.770233  17787.211055 -6.241726e+05   8152.227725   -6831.500035 -7.271020e+03\n",
            "88    44.221106   32132.750614   3041.156713  18011.834171 -6.125912e+05   8322.799111   -3294.369837 -3.646293e+03\n",
            "89    44.723618   33685.253755   3138.058307  18236.457286 -6.010098e+05   8493.370498     242.760361 -1.542219e+01\n",
            "90    45.226131   35286.831846   3236.475013  18461.080402 -5.894284e+05   8663.941885    3779.890558  3.621975e+03\n",
            "91    45.728643   36938.246249   3336.406833  18685.703518 -5.778470e+05   8834.513272    7317.020756  7.266310e+03\n",
            "92    46.231156   38640.258330   3437.853766  18910.326633 -5.662656e+05   9005.084659   10854.150954  1.091803e+04\n",
            "93    46.733668   40393.629451   3540.815813  19134.949749 -5.546841e+05   9175.656045   14391.281152  1.457763e+04\n",
            "94    47.236181   42199.120975   3645.292972  19359.572864 -5.431027e+05   9346.227432   17928.411350  1.824564e+04\n",
            "95    47.738693   44057.494266   3751.285245  19584.195980 -5.315213e+05   9516.798819   21465.541548  2.192264e+04\n",
            "96    48.241206   45969.510688   3858.792631  19808.819095 -5.199399e+05   9687.370206   25002.671746  2.560927e+04\n",
            "97    48.743719   47935.931603   3967.815131  20033.442211 -5.083585e+05   9857.941592   28539.801943  2.930622e+04\n",
            "98    49.246231   49957.518376   4078.352744  20258.065327 -4.967771e+05  10028.512979   32076.932141  3.301427e+04\n",
            "99    49.748744   52035.032369   4190.405470  20482.688442 -4.851957e+05  10199.084366   35614.062339  3.673425e+04\n",
            "100   50.251256   54169.234947   4303.973309  20707.311558 -4.736143e+05  10369.655753   39151.192537  4.046711e+04\n",
            "101   50.753769   56360.887473   4419.056261  20931.934673 -4.620329e+05  10540.227139   42688.322735  4.421387e+04\n",
            "102   51.256281   58610.751309   4535.654327  21156.557789 -4.504515e+05  10710.798526   46225.452933  4.797569e+04\n",
            "103   51.758794   60919.587820   4653.767506  21381.180905 -4.388701e+05  10881.369913   49762.583130  5.175384e+04\n",
            "104   52.261307   63288.158369   4773.395798  21605.804020 -4.272887e+05  11051.941300   53299.713328  5.554974e+04\n",
            "105   52.763819   65717.224319   4894.539204  21830.427136 -4.157073e+05  11222.512687   56836.843526  5.936500e+04\n",
            "106   53.266332   68207.547035   5017.197722  22055.050251 -4.041259e+05  11393.084073   60373.973724  6.320140e+04\n",
            "107   53.768844   70759.887878   5141.371354  22279.673367 -3.925444e+05  11563.655460   63911.103922  6.706097e+04\n",
            "108   54.271357   73375.008214   5267.060099  22504.296482 -3.809630e+05  11734.226847   67448.234120  7.094600e+04\n",
            "109   54.773869   76053.669404   5394.263958  22728.919598 -3.693816e+05  11904.798234   70985.364317  7.485909e+04\n",
            "110   55.276382   78796.632814   5522.982930  22953.542714 -3.578002e+05  12075.369620   74522.494515  7.880321e+04\n",
            "111   55.778894   81604.659805   5653.217015  23178.165829 -3.462188e+05  12245.941007   78059.624713  8.278176e+04\n",
            "112   56.281407   84478.511742   5784.966213  23402.788945 -3.346374e+05  12416.512394   81596.754911  8.679865e+04\n",
            "113   56.783920   87418.949988   5918.230524  23627.412060 -3.230560e+05  12587.083781   85133.885109  9.085843e+04\n",
            "114   57.286432   90426.735906   6053.009949  23852.035176 -3.114746e+05  12757.655167   88671.015307  9.496638e+04\n",
            "115   57.788945   93502.630860   6189.304487  24076.658291 -2.998932e+05  12928.226554   92208.145505  9.912867e+04\n",
            "116   58.291457   96647.396214   6327.114139  24301.281407 -2.883118e+05  13098.797941   95745.275702  1.033526e+05\n",
            "117   58.793970   99861.793330   6466.438903  24525.904523 -2.767304e+05  13269.369328   99282.405900  1.076468e+05\n",
            "118   59.296482  103146.583573   6607.278781  24750.527638 -2.651490e+05  13439.940715  102819.536098  1.120217e+05\n",
            "119   59.798995  106502.528305   6749.633772  24975.150754 -2.535676e+05  13610.512101  106356.666296  1.164898e+05\n",
            "120   60.301508  109930.388890   6893.503876  25199.773869 -2.419862e+05  13781.083488  109893.796494  1.210662e+05\n",
            "121   60.804020  113430.926692   7038.889094  25424.396985 -2.304047e+05  13951.654875  113430.926692  1.257697e+05\n",
            "122   61.306533  117004.903073   7185.789425  25649.020101 -2.188233e+05  14122.226262  116968.056889  1.306236e+05\n",
            "123   61.809045  120653.079399   7334.204869  25873.643216 -2.072419e+05  14292.797648  120505.187087  1.356572e+05\n",
            "124   62.311558  124376.217031   7484.135426  26098.266332 -1.956605e+05  14463.369035  124042.317285  1.409082e+05\n",
            "125   62.814070  128175.077333   7635.581096  26322.889447 -1.840791e+05  14633.940422  127579.447483  1.464253e+05\n",
            "126   63.316583  132050.421669   7788.541880  26547.512563 -1.724977e+05  14804.511809  131116.577681  1.522731e+05\n",
            "127   63.819095  136003.011402   7943.017777  26772.135678 -1.609163e+05  14975.083195  134653.707879  1.585388e+05\n",
            "128   64.321608  140033.607896   8099.008788  26996.758794 -1.493349e+05  15145.654582  138190.838077  1.653436e+05\n",
            "129   64.824121  144142.972515   8256.514911  27221.381910 -1.377535e+05  15316.225969  141727.968274  1.728601e+05\n",
            "130   65.326633  148331.866620   8415.536148  27446.005025 -1.261721e+05  15486.797356  145265.098472  1.813437e+05\n",
            "131   65.829146  152601.051577   8576.072498  27670.628141 -1.145907e+05  15657.368743  148802.228670  1.911883e+05\n",
            "132   66.331658  156951.288748   8738.123962  27895.251256 -1.030093e+05  15827.940129  152339.358868  2.030359e+05\n",
            "133   66.834171  161383.339497   8901.690538  28119.874372 -9.142786e+04  15998.511516  155876.489066  2.180069e+05\n",
            "134   67.336683  165897.965187   9066.772228  28344.497487 -7.984646e+04  16169.082903  159413.619264  2.382493e+05\n",
            "135   67.839196  170495.927182   9233.369031  28569.120603 -6.826505e+04  16339.654290  162950.749461  2.684666e+05\n",
            "136   68.341709  175177.986845   9401.480947  28793.743719 -5.668364e+04  16510.225676  166487.879659  3.213259e+05\n",
            "137   68.844221  179944.905540   9571.107977  29018.366834 -4.510224e+04  16680.797063  170025.009857  4.466872e+05\n",
            "138   69.346734  184797.444630   9742.250120  29242.989950 -3.352083e+04  16851.368450  173562.140055  1.244825e+06\n",
            "139   69.849246  189736.365479   9914.907376  29467.613065 -2.193942e+04  17021.939837  177099.270253 -4.494917e+05\n",
            "140   70.351759  194762.429449  10089.079745  29692.236181 -1.035802e+04  17192.511223  180636.400451 -7.037007e+04\n",
            "141   70.854271  199876.397905  10264.767228  29916.859296  1.223392e+03  17363.082610  184173.530648  2.391648e+04\n",
            "142   71.356784  205079.032210  10441.969824  30141.482412  1.280480e+04  17533.653997  187710.660846  6.827338e+04\n",
            "143   71.859296  210371.093727  10620.687533  30366.105528  2.438621e+04  17704.225384  191247.791044  9.499903e+04\n",
            "144   72.361809  215753.343820  10800.920356  30590.728643  3.596761e+04  17874.796771  194784.921242  1.134757e+05\n",
            "145   72.864322  221226.543852  10982.668291  30815.351759  4.754902e+04  18045.368157  198322.051440  1.274316e+05\n",
            "146   73.366834  226791.455187  11165.931340  31039.974874  5.913043e+04  18215.939544  201859.181638  1.386424e+05\n",
            "147   73.869347  232448.839188  11350.709502  31264.597990  7.071183e+04  18386.510931  205396.311836  1.480616e+05\n",
            "148   74.371859  238199.457218  11537.002778  31489.221106  8.229324e+04  18557.082318  208933.442033  1.562469e+05\n",
            "149   74.874372  244044.070642  11724.811166  31713.844221  9.387465e+04  18727.653704  212470.572231  1.635462e+05\n",
            "150   75.376884  249983.440822  11914.134668  31938.467337  1.054561e+05  18898.225091  216007.702429  1.701880e+05\n",
            "151   75.879397  256018.329121  12104.973284  32163.090452  1.170375e+05  19068.796478  219544.832627  1.763283e+05\n",
            "152   76.381910  262149.496904  12297.327012  32387.713568  1.286189e+05  19239.367865  223081.962825  1.820775e+05\n",
            "153   76.884422  268377.705534  12491.195854  32612.336683  1.402003e+05  19409.939251  226619.093023  1.875156e+05\n",
            "154   77.386935  274703.716374  12686.579809  32836.959799  1.517817e+05  19580.510638  230156.223220  1.927024e+05\n",
            "155   77.889447  281128.290788  12883.478877  33061.582915  1.633631e+05  19751.082025  233693.353418  1.976833e+05\n",
            "156   78.391960  287652.190139  13081.893058  33286.206030  1.749445e+05  19921.653412  237230.483616  2.024931e+05\n",
            "157   78.894472  294276.175790  13281.822353  33510.829146  1.865259e+05  20092.224799  240767.613814  2.071595e+05\n",
            "158   79.396985  301001.009105  13483.266761  33735.452261  1.981073e+05  20262.796185  244304.744012  2.117044e+05\n",
            "159   79.899497  307827.451448  13686.226282  33960.075377  2.096887e+05  20433.367572  247841.874210  2.161454e+05\n",
            "160   80.402010  314756.264182  13890.700917  34184.698492  2.212701e+05  20603.938959  251379.004408  2.204969e+05\n",
            "161   80.904523  321788.208670  14096.690664  34409.321608  2.328515e+05  20774.510346  254916.134605  2.247709e+05\n",
            "162   81.407035  328924.046276  14304.195525  34633.944724  2.444329e+05  20945.081732  258453.264803  2.289770e+05\n",
            "163   81.909548  336164.538363  14513.215500  34858.567839  2.560143e+05  21115.653119  261990.395001  2.331237e+05\n",
            "164   82.412060  343510.446294  14723.750587  35083.190955  2.675958e+05  21286.224506  265527.525199  2.372178e+05\n",
            "165   82.914573  350962.531434  14935.800788  35307.814070  2.791772e+05  21456.795893  269064.655397  2.412653e+05\n",
            "166   83.417085  358521.555145  15149.366102  35532.437186  2.907586e+05  21627.367279  272601.785595  2.452712e+05\n",
            "167   83.919598  366188.278791  15364.446529  35757.060302  3.023400e+05  21797.938666  276138.915792  2.492399e+05\n",
            "168   84.422111  373963.463736  15581.042070  35981.683417  3.139214e+05  21968.510053  279676.045990  2.531751e+05\n",
            "169   84.924623  381847.871343  15799.152723  36206.306533  3.255028e+05  22139.081440  283213.176188  2.570802e+05\n",
            "170   85.427136  389842.262975  16018.778490  36430.929648  3.370842e+05  22309.652827  286750.306386  2.609580e+05\n",
            "171   85.929648  397947.399995  16239.919371  36655.552764  3.486656e+05  22480.224213  290287.436584  2.648110e+05\n",
            "172   86.432161  406164.043768  16462.575364  36880.175879  3.602470e+05  22650.795600  293824.566782  2.686414e+05\n",
            "173   86.934673  414492.955657  16686.746471  37104.798995  3.718284e+05  22821.366987  297361.696980  2.724511e+05\n",
            "174   87.437186  422934.897024  16912.432691  37329.422111  3.834098e+05  22991.938374  300898.827177  2.762420e+05\n",
            "175   87.939698  431490.629235  17139.634024  37554.045226  3.949912e+05  23162.509760  304435.957375  2.800155e+05\n",
            "176   88.442211  440160.913651  17368.350471  37778.668342  4.065726e+05  23333.081147  307973.087573  2.837730e+05\n",
            "177   88.944724  448946.511636  17598.582031  38003.291457  4.181540e+05  23503.652534  311510.217771  2.875159e+05\n",
            "178   89.447236  457848.184555  17830.328704  38227.914573  4.297355e+05  23674.223921  315047.347969  2.912451e+05\n",
            "179   89.949749  466866.693770  18063.590490  38452.537688  4.413169e+05  23844.795307  318584.478167  2.949617e+05\n",
            "180   90.452261  476002.800644  18298.367390  38677.160804  4.528983e+05  24015.366694  322121.608364  2.986666e+05\n",
            "181   90.954774  485257.266542  18534.659403  38901.783920  4.644797e+05  24185.938081  325658.738562  3.023606e+05\n",
            "182   91.457286  494630.852827  18772.466529  39126.407035  4.760611e+05  24356.509468  329195.868760  3.060446e+05\n",
            "183   91.959799  504124.320861  19011.788768  39351.030151  4.876425e+05  24527.080855  332732.998958  3.097190e+05\n",
            "184   92.462312  513738.432009  19252.626121  39575.653266  4.992239e+05  24697.652241  336270.129156  3.133847e+05\n",
            "185   92.964824  523473.947635  19494.978586  39800.276382  5.108053e+05  24868.223628  339807.259354  3.170420e+05\n",
            "186   93.467337  533331.629100  19738.846166  40024.899497  5.223867e+05  25038.795015  343344.389551  3.206917e+05\n",
            "187   93.969849  543312.237770  19984.228858  40249.522613  5.339681e+05  25209.366402  346881.519749  3.243341e+05\n",
            "188   94.472362  553416.535006  20231.126663  40474.145729  5.455495e+05  25379.937788  350418.649947  3.279696e+05\n",
            "189   94.974874  563645.282174  20479.539582  40698.768844  5.571309e+05  25550.509175  353955.780145  3.315988e+05\n",
            "190   95.477387  573999.240636  20729.467614  40923.391960  5.687123e+05  25721.080562  357492.910343  3.352219e+05\n",
            "191   95.979899  584479.171755  20980.910760  41148.015075  5.802937e+05  25891.651949  361030.040541  3.388393e+05\n",
            "192   96.482412  595085.836896  21233.869018  41372.638191  5.918752e+05  26062.223335  364567.170739  3.424513e+05\n",
            "193   96.984925  605819.997421  21488.342390  41597.261307  6.034566e+05  26232.794722  368104.300936  3.460582e+05\n",
            "194   97.487437  616682.414694  21744.330875  41821.884422  6.150380e+05  26403.366109  371641.431134  3.496603e+05\n",
            "195   97.989950  627673.850079  22001.834474  42046.507538  6.266194e+05  26573.937496  375178.561332  3.532579e+05\n",
            "196   98.492462  638795.064938  22260.853186  42271.130653  6.382008e+05  26744.508883  378715.691530  3.568511e+05\n",
            "197   98.994975  650046.820636  22521.387010  42495.753769  6.497822e+05  26915.080269  382252.821728  3.604403e+05\n",
            "198   99.497487  661429.878535  22783.435949  42720.376884  6.613636e+05  27085.651656  385789.951926  3.640255e+05\n",
            "199  100.000000  672945.000000  23047.000000  42945.000000  6.729450e+05  27256.223043  389327.082123  3.676071e+05\n"
          ]
        }
      ]
    }
  ]
}