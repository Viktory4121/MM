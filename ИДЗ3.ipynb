{
  "nbformat": 4,
  "nbformat_minor": 0,
  "metadata": {
    "colab": {
      "name": "ИДЗ3.ipynb",
      "provenance": [],
      "authorship_tag": "ABX9TyNkr3ih5sF8nNIrRL2FioPl",
      "include_colab_link": true
    },
    "kernelspec": {
      "name": "python3",
      "display_name": "Python 3"
    },
    "language_info": {
      "name": "python"
    }
  },
  "cells": [
    {
      "cell_type": "markdown",
      "metadata": {
        "id": "view-in-github",
        "colab_type": "text"
      },
      "source": [
        "<a href=\"https://colab.research.google.com/github/Viktory4121/MM/blob/main/%D0%98%D0%94%D0%973.ipynb\" target=\"_parent\"><img src=\"https://colab.research.google.com/assets/colab-badge.svg\" alt=\"Open In Colab\"/></a>"
      ]
    },
    {
      "cell_type": "markdown",
      "source": [
        "###ИДЗ 3. Нечёткие модели.\n",
        "####Вариант 11."
      ],
      "metadata": {
        "id": "iGTLbtBtP-2r"
      }
    },
    {
      "cell_type": "code",
      "source": [
        "import numpy as np\n",
        "import pandas as pd\n",
        "import matplotlib.pyplot as plt\n",
        "import math\n",
        "from sklearn.metrics import r2_score\n",
        "from sklearn.metrics import mean_squared_error\n",
        "from matplotlib.animation import FuncAnimation\n",
        "import pylab\n",
        "%matplotlib inline"
      ],
      "metadata": {
        "id": "JUtS4nCPQ_md"
      },
      "execution_count": 2,
      "outputs": []
    },
    {
      "cell_type": "code",
      "execution_count": 3,
      "metadata": {
        "id": "fXkuH1sFP1lF"
      },
      "outputs": [],
      "source": [
        "def f(t):\n",
        "  return ((t - 9) * (t - 13) * (t - 15))"
      ]
    },
    {
      "cell_type": "code",
      "source": [
        "t = np.linspace(-100, 100, num = 200)\n",
        "f_t = f(t)\n",
        "plt.plot(t, f_t)"
      ],
      "metadata": {
        "id": "Lq0KLZlKRC8O",
        "outputId": "2dc34c6d-cd60-421e-c3e4-510f3fe52133",
        "colab": {
          "base_uri": "https://localhost:8080/",
          "height": 293
        }
      },
      "execution_count": 23,
      "outputs": [
        {
          "output_type": "execute_result",
          "data": {
            "text/plain": [
              "[<matplotlib.lines.Line2D at 0x7fa9dd80db50>]"
            ]
          },
          "metadata": {},
          "execution_count": 23
        },
        {
          "output_type": "display_data",
          "data": {
            "image/png": "[encoded data removed]",
            "text/plain": [
              "<Figure size 432x288 with 1 Axes>"
            ]
          },
          "metadata": {
            "needs_background": "light"
          }
        }
      ]
    },
    {
      "cell_type": "code",
      "source": [
        ""
      ],
      "metadata": {
        "id": "GEctgXBGRx8q"
      },
      "execution_count": 23,
      "outputs": []
    },
    {
      "cell_type": "code",
      "source": [
        ""
      ],
      "metadata": {
        "id": "C1Sor-9dTL-K"
      },
      "execution_count": null,
      "outputs": []
    }
  ]
}