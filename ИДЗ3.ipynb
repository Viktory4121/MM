{
  "nbformat": 4,
  "nbformat_minor": 0,
  "metadata": {
    "colab": {
      "name": "ИДЗ3.ipynb",
      "provenance": [],
      "authorship_tag": "ABX9TyMV9unRGmKeXE62Naw39s9G",
      "include_colab_link": true
    },
    "kernelspec": {
      "name": "python3",
      "display_name": "Python 3"
    },
    "language_info": {
      "name": "python"
    }
  },
  "cells": [
    {
      "cell_type": "markdown",
      "metadata": {
        "id": "view-in-github",
        "colab_type": "text"
      },
      "source": [
        "<a href=\"https://colab.research.google.com/github/Viktory4121/MM/blob/main/%D0%98%D0%94%D0%973.ipynb\" target=\"_parent\"><img src=\"https://colab.research.google.com/assets/colab-badge.svg\" alt=\"Open In Colab\"/></a>"
      ]
    },
    {
      "cell_type": "markdown",
      "source": [
        "###ИДЗ 3. Нечёткие модели.\n",
        "####Вариант 11."
      ],
      "metadata": {
        "id": "iGTLbtBtP-2r"
      }
    },
    {
      "cell_type": "code",
      "source": [
        "import numpy as np\n",
        "import pandas as pd\n",
        "import matplotlib.pyplot as plt\n",
        "import math\n",
        "from sklearn.metrics import r2_score\n",
        "from sklearn.metrics import mean_squared_error\n",
        "from matplotlib.animation import FuncAnimation\n",
        "import pylab\n",
        "%matplotlib inline\n",
        "\n",
        "pd.set_option('display.max_rows', None)\n",
        "pd.set_option('display.max_columns', None)\n",
        "pd.set_option('display.width', 500)"
      ],
      "metadata": {
        "id": "JUtS4nCPQ_md"
      },
      "execution_count": 40,
      "outputs": []
    },
    {
      "cell_type": "markdown",
      "source": [
        "**Задание функции**"
      ],
      "metadata": {
        "id": "8YjnopAIT8--"
      }
    },
    {
      "cell_type": "code",
      "execution_count": 41,
      "metadata": {
        "id": "fXkuH1sFP1lF"
      },
      "outputs": [],
      "source": [
        "#Вид функции: f(t) = (t**3) - 37 * (t**2) + 447 * t - 1755 = (t - 9) * (t - 13) * (t - 15)\n",
        "def f(t):\n",
        "  return ((t - 9) * (t - 13) * (t - 15))\n",
        "#Производная функции f(t)\n",
        "def df(t):\n",
        "  return (3 * (t**2) - 74 * t + 447)"
      ]
    },
    {
      "cell_type": "code",
      "source": [
        "t = np.linspace(9, 13, num = 50)\n",
        "f_t = f(t)\n",
        "df_t = df(t)\n",
        "print('Вид функции f(t)\\n')\n",
        "plt.plot(t, f_t)"
      ],
      "metadata": {
        "id": "Lq0KLZlKRC8O",
        "outputId": "26aa3a6a-1884-4e6d-b40d-be63e402ee96",
        "colab": {
          "base_uri": "https://localhost:8080/",
          "height": 318
        }
      },
      "execution_count": 42,
      "outputs": [
        {
          "output_type": "stream",
          "name": "stdout",
          "text": [
            "Вид функции f(t)\n",
            "\n"
          ]
        },
        {
          "output_type": "execute_result",
          "data": {
            "text/plain": [
              "[<matplotlib.lines.Line2D at 0x7fb26d1b3090>]"
            ]
          },
          "metadata": {},
          "execution_count": 42
        },
        {
          "output_type": "display_data",
          "data": {
            "image/png": "[encoded data removed]",
            "text/plain": [
              "<Figure size 432x288 with 1 Axes>"
            ]
          },
          "metadata": {
            "needs_background": "light"
          }
        }
      ]
    },
    {
      "cell_type": "markdown",
      "source": [
        "**Нахождение уравнений касательных**"
      ],
      "metadata": {
        "id": "F7_mZb5fT2YV"
      }
    },
    {
      "cell_type": "code",
      "source": [
        "#Для примера возьмём из нашей выборки точку под номером 5 и 47\n",
        "def finding_tangent_equation(num, t0):\n",
        "  print('Формула касательной имеет вид: y = a * t + b, где')\n",
        "  print(\"a = f'(t0)\\nb = f(t0) - t0 * f'(t0)\")\n",
        "  a = df(t0)\n",
        "  b = f(t0) - t0 * df(t0)\n",
        "  print('При:')\n",
        "  print(\"t0 = \" + str(round(t0, 4)))\n",
        "  print('f(t0) = ' + str(round(f(t0), 4)))\n",
        "  print(\"f'(t0) = \" + str(round(df(t0), 4)))\n",
        "  print(str(num) + '-е уравнение касательной имеет вид: y = ' + str(round(a, 4)) + ' * t + (' + str(round(b, 4)) + ')\\n')\n",
        "  return a, b\n",
        "\n",
        "a1, b1 = finding_tangent_equation(1, t[5 - 1])\n",
        "a2, b2 = finding_tangent_equation(2, t[47 - 1])"
      ],
      "metadata": {
        "id": "GEctgXBGRx8q",
        "colab": {
          "base_uri": "https://localhost:8080/"
        },
        "outputId": "1afea710-a68a-4d0e-eb43-59435ec14df7"
      },
      "execution_count": 43,
      "outputs": [
        {
          "output_type": "stream",
          "name": "stdout",
          "text": [
            "Формула касательной имеет вид: y = a * t + b, где\n",
            "a = f'(t0)\n",
            "b = f(t0) - t0 * f'(t0)\n",
            "При:\n",
            "t0 = 9.3265\n",
            "f(t0) = 6.8053\n",
            "f'(t0) = 17.7893\n",
            "1-е уравнение касательной имеет вид: y = 17.7893 * t + (-159.1067)\n",
            "\n",
            "Формула касательной имеет вид: y = a * t + b, где\n",
            "a = f'(t0)\n",
            "b = f(t0) - t0 * f'(t0)\n",
            "При:\n",
            "t0 = 12.7551\n",
            "f(t0) = 2.0644\n",
            "f'(t0) = -8.7997\n",
            "2-е уравнение касательной имеет вид: y = -8.7997 * t + (114.3051)\n",
            "\n"
          ]
        }
      ]
    },
    {
      "cell_type": "code",
      "source": [
        "#Функция касательных:\n",
        "def tangent(a, b, t):\n",
        "  return (a * t + b)\n",
        "\n",
        "y1 = tangent(a1, b1, t)\n",
        "y2 = tangent(a2, b2, t)\n",
        "\n",
        "plt.plot(t, f_t)\n",
        "plt.plot(t, y1)\n",
        "plt.plot(t, y2)"
      ],
      "metadata": {
        "id": "C1Sor-9dTL-K",
        "colab": {
          "base_uri": "https://localhost:8080/",
          "height": 283
        },
        "outputId": "59f95a14-f52e-4d73-e666-6712c05348a8"
      },
      "execution_count": 44,
      "outputs": [
        {
          "output_type": "execute_result",
          "data": {
            "text/plain": [
              "[<matplotlib.lines.Line2D at 0x7fb26d128b90>]"
            ]
          },
          "metadata": {},
          "execution_count": 44
        },
        {
          "output_type": "display_data",
          "data": {
            "image/png": "[encoded data removed]",
            "text/plain": [
              "<Figure size 432x288 with 1 Axes>"
            ]
          },
          "metadata": {
            "needs_background": "light"
          }
        }
      ]
    },
    {
      "cell_type": "markdown",
      "source": [
        "##**Фаззификация**"
      ],
      "metadata": {
        "id": "gXr38S6EBDus"
      }
    },
    {
      "cell_type": "markdown",
      "source": [
        "**Построение mu1 и mu2 (касательные по концам промежутков t и f(t)**"
      ],
      "metadata": {
        "id": "979zZQX9ZPVp"
      }
    },
    {
      "cell_type": "code",
      "source": [
        "#строится по концам интервалов t=[0,1] и f(t)=[f1,fn]\n",
        "plt.plot([t[0], t[0]], [0, 1])\n",
        "plt.plot([t[len(t) - 1], t[len(t) - 1]], [0, 1])\n",
        "#касательные:\n",
        "plt.plot([t[0], t[len(t) - 1]], [0, 1])\n",
        "plt.plot([t[0], t[len(t) - 1]], [1, 0])"
      ],
      "metadata": {
        "colab": {
          "base_uri": "https://localhost:8080/",
          "height": 283
        },
        "id": "MpWJkC2eTmRw",
        "outputId": "f6a632d1-f0e9-47a7-96d5-250bb6befe7e"
      },
      "execution_count": 45,
      "outputs": [
        {
          "output_type": "execute_result",
          "data": {
            "text/plain": [
              "[<matplotlib.lines.Line2D at 0x7fb26d0b04d0>]"
            ]
          },
          "metadata": {},
          "execution_count": 45
        },
        {
          "output_type": "display_data",
          "data": {
            "image/png": "[encoded data removed]",
            "text/plain": [
              "<Figure size 432x288 with 1 Axes>"
            ]
          },
          "metadata": {
            "needs_background": "light"
          }
        }
      ]
    },
    {
      "cell_type": "markdown",
      "source": [
        "**Найдём значения mu1 и mu2**"
      ],
      "metadata": {
        "id": "-ZzQGxvUbH7k"
      }
    },
    {
      "cell_type": "code",
      "source": [
        "mu1_a, mu1_b = finding_tangent_equation(1, t[0])\n",
        "mu2_a, mu2_b = finding_tangent_equation(2, t[len(t) - 1])"
      ],
      "metadata": {
        "id": "eJGuwJIGbMgV",
        "outputId": "be8363d9-8642-4b80-a0c5-9b133b642f80",
        "colab": {
          "base_uri": "https://localhost:8080/"
        }
      },
      "execution_count": 46,
      "outputs": [
        {
          "output_type": "stream",
          "name": "stdout",
          "text": [
            "Формула касательной имеет вид: y = a * t + b, где\n",
            "a = f'(t0)\n",
            "b = f(t0) - t0 * f'(t0)\n",
            "При:\n",
            "t0 = 9.0\n",
            "f(t0) = 0.0\n",
            "f'(t0) = 24.0\n",
            "1-е уравнение касательной имеет вид: y = 24.0 * t + (-216.0)\n",
            "\n",
            "Формула касательной имеет вид: y = a * t + b, где\n",
            "a = f'(t0)\n",
            "b = f(t0) - t0 * f'(t0)\n",
            "При:\n",
            "t0 = 13.0\n",
            "f(t0) = -0.0\n",
            "f'(t0) = -8.0\n",
            "2-е уравнение касательной имеет вид: y = -8.0 * t + (104.0)\n",
            "\n"
          ]
        }
      ]
    },
    {
      "cell_type": "code",
      "source": [
        "mu1 = tangent(mu1_a, mu1_b, t)\n",
        "mu2 = tangent(mu2_a, mu2_b, t)"
      ],
      "metadata": {
        "id": "HKaXHqNbec9n"
      },
      "execution_count": 47,
      "outputs": []
    },
    {
      "cell_type": "markdown",
      "source": [
        "##**Дефаззификация**"
      ],
      "metadata": {
        "id": "bnBgSVTWAMO3"
      }
    },
    {
      "cell_type": "markdown",
      "source": [
        "**Построим нечёткую модель y_ и изобразим эти значения вместе с функцией f(t) и двумя касательными**"
      ],
      "metadata": {
        "id": "tuv4eX5iVOc4"
      }
    },
    {
      "cell_type": "code",
      "source": [
        "def y_new(t, y1, y2, a1, a2, b1, b2, mu1, mu2):\n",
        "  return ((mu1 * (a1 * t + b1) + mu2 * (a2 * t + b2)) / (mu1 + mu2))\n",
        "\n",
        "y_ = y_new(t, y1, y2, a1, a2, b1, b2, mu1, mu2)\n",
        "plt.plot(t, y_)\n",
        "plt.plot(t, f_t)\n",
        "plt.plot(t, y1)\n",
        "plt.plot(t, y2)"
      ],
      "metadata": {
        "colab": {
          "base_uri": "https://localhost:8080/",
          "height": 283
        },
        "id": "wCguLK5oTVRf",
        "outputId": "d5b1c424-9b73-42fe-d295-87af7bc5b68d"
      },
      "execution_count": 48,
      "outputs": [
        {
          "output_type": "execute_result",
          "data": {
            "text/plain": [
              "[<matplotlib.lines.Line2D at 0x7fb26d030610>]"
            ]
          },
          "metadata": {},
          "execution_count": 48
        },
        {
          "output_type": "display_data",
          "data": {
            "image/png": "[encoded data removed]",
            "text/plain": [
              "<Figure size 432x288 with 1 Axes>"
            ]
          },
          "metadata": {
            "needs_background": "light"
          }
        }
      ]
    },
    {
      "cell_type": "markdown",
      "source": [
        "**Общая таблица**"
      ],
      "metadata": {
        "id": "1LkhmEaNgZl9"
      }
    },
    {
      "cell_type": "code",
      "source": [
        "data = list(zip(t, f_t, df_t, mu1, mu2, y1, y2, y_))\n",
        "print(pd.DataFrame(data, columns=[\"t\", \"f(t)\", \"f'(t)\", \"mu1\", \"mu2\", \"y_кас1\", \"y_кас2\", 'y_model']))"
      ],
      "metadata": {
        "id": "pZOZwdBZgZMI",
        "outputId": "5f45bbd1-5edb-481a-ec3b-f889c690faec",
        "colab": {
          "base_uri": "https://localhost:8080/"
        }
      },
      "execution_count": 49,
      "outputs": [
        {
          "output_type": "stream",
          "name": "stdout",
          "text": [
            "            t       f(t)      f'(t)        mu1        mu2     y_кас1     y_кас2    y_model\n",
            "0    9.000000   0.000000  24.000000   0.000000  32.000000   0.996592  35.108093  35.108093\n",
            "1    9.081633   1.893089  22.387339   1.959184  31.346939   2.448776  34.389753  32.510872\n",
            "2    9.163265   3.656164  20.814661   3.918367  30.693878   3.900960  33.671412  30.301172\n",
            "3    9.244898   5.292489  19.281966   5.877551  30.040816   5.353144  32.953072  28.436720\n",
            "4    9.326531   6.805328  17.789254   7.836735  29.387755   6.805328  32.234732  26.881173\n",
            "5    9.408163   8.197945  16.336526   9.795918  28.734694   8.257512  31.516392  25.603117\n",
            "6    9.489796   9.473604  14.923782  11.755102  28.081633   9.709696  30.798052  24.575258\n",
            "7    9.571429  10.635569  13.551020  13.714286  27.428571  11.161880  30.079712  23.773768\n",
            "8    9.653061  11.687103  12.218242  15.673469  26.775510  12.614064  29.361372  23.177750\n",
            "9    9.734694  12.631472  10.925448  17.632653  26.122449  14.066248  28.643031  22.768805\n",
            "10   9.816327  13.471938   9.672636  19.591837  25.469388  15.518432  27.924691  22.530665\n",
            "11   9.897959  14.211766   8.459808  21.551020  24.816327  16.970616  27.206351  22.448897\n",
            "12   9.979592  14.854219   7.286964  23.510204  24.163265  18.422800  26.488011  22.510647\n",
            "13  10.061224  15.402562   6.154102  25.469388  23.510204  19.874984  25.769671  22.704434\n",
            "14  10.142857  15.860058   5.061224  27.428571  22.857143  21.327168  25.051331  23.019969\n",
            "15  10.224490  16.229972   4.008330  29.387755  22.204082  22.779352  24.332991  23.448007\n",
            "16  10.306122  16.515567   2.995419  31.346939  21.551020  24.231536  23.614650  23.980212\n",
            "17  10.387755  16.720108   2.022491  33.306122  20.897959  25.683720  22.896310  24.609056\n",
            "18  10.469388  16.846858   1.089546  35.265306  20.244898  27.135904  22.177970  25.327716\n",
            "19  10.551020  16.899081   0.196585  37.224490  19.591837  28.588088  21.459630  26.129999\n",
            "20  10.632653  16.880041  -0.656393  39.183673  18.938776  30.040272  20.741290  27.010267\n",
            "21  10.714286  16.793003  -1.469388  41.142857  18.285714  31.492456  20.022950  27.963377\n",
            "22  10.795918  16.641229  -2.242399  43.102041  17.632653  32.944640  19.304609  28.984631\n",
            "23  10.877551  16.427985  -2.975427  45.061224  16.979592  34.396824  18.586269  30.069725\n",
            "24  10.959184  16.156533  -3.668471  47.020408  16.326531  35.849008  17.867929  31.214710\n",
            "25  11.040816  15.830139  -4.321533  48.979592  15.673469  37.301193  17.149589  32.415955\n",
            "26  11.122449  15.452065  -4.934611  50.938776  15.020408  38.753377  16.431249  33.670120\n",
            "27  11.204082  15.025576  -5.507705  52.897959  14.367347  40.205561  15.712909  34.974120\n",
            "28  11.285714  14.553936  -6.040816  54.857143  13.714286  41.657745  14.994569  36.325109\n",
            "29  11.367347  14.040408  -6.533944  56.816327  13.061224  43.109929  14.276228  37.720452\n",
            "30  11.448980  13.488257  -6.987089  58.775510  12.408163  44.562113  13.557888  39.157707\n",
            "31  11.530612  12.900747  -7.400250  60.734694  11.755102  46.014297  12.839548  40.634608\n",
            "32  11.612245  12.281141  -7.773428  62.693878  11.102041  47.466481  12.121208  42.149050\n",
            "33  11.693878  11.632704  -8.106622  64.653061  10.448980  48.918665  11.402868  43.699076\n",
            "34  11.775510  10.958699  -8.399833  66.612245   9.795918  50.370849  10.684528  45.282859\n",
            "35  11.857143  10.262391  -8.653061  68.571429   9.142857  51.823033   9.966188  46.898698\n",
            "36  11.938776   9.547042  -8.866306  70.530612   8.489796  53.275217   9.247847  48.545004\n",
            "37  12.020408   8.815919  -9.039567  72.489796   7.836735  54.727401   8.529507  50.220289\n",
            "38  12.102041   8.072283  -9.172845  74.448980   7.183673  56.179585   7.811167  51.923164\n",
            "39  12.183673   7.319399  -9.266139  76.408163   6.530612  57.631769   7.092827  53.652325\n",
            "40  12.265306   6.560532  -9.319450  78.367347   5.877551  59.083953   6.374487  55.406548\n",
            "41  12.346939   5.798944  -9.332778  80.326531   5.224490  60.536137   5.656147  57.184687\n",
            "42  12.428571   5.037901  -9.306122  82.285714   4.571429  61.988321   4.937807  58.985663\n",
            "43  12.510204   4.280665  -9.239484  84.244898   3.918367  63.440505   4.219466  60.808459\n",
            "44  12.591837   3.530502  -9.132861  86.204082   3.265306  64.892689   3.501126  62.652121\n",
            "45  12.673469   2.790674  -8.986256  88.163265   2.612245  66.344873   2.782786  64.515748\n",
            "46  12.755102   2.064446  -8.799667  90.122449   1.959184  67.797057   2.064446  66.398491\n",
            "47  12.836735   1.355082  -8.573095  92.081633   1.306122  69.249241   1.346106  68.299547\n",
            "48  12.918367   0.665845  -8.306539  94.040816   0.653061  70.701425   0.627766  70.218159\n",
            "49  13.000000  -0.000000  -8.000000  96.000000   0.000000  72.153609  -0.090575  72.153609\n"
          ]
        }
      ]
    }
  ]
}