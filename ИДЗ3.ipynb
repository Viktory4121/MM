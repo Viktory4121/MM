{
  "nbformat": 4,
  "nbformat_minor": 0,
  "metadata": {
    "colab": {
      "name": "ИДЗ3.ipynb",
      "provenance": [],
      "authorship_tag": "ABX9TyPhV65anu+CompZ9eNNDm+U",
      "include_colab_link": true
    },
    "kernelspec": {
      "name": "python3",
      "display_name": "Python 3"
    },
    "language_info": {
      "name": "python"
    }
  },
  "cells": [
    {
      "cell_type": "markdown",
      "metadata": {
        "id": "view-in-github",
        "colab_type": "text"
      },
      "source": [
        "<a href=\"https://colab.research.google.com/github/Viktory4121/MM/blob/main/%D0%98%D0%94%D0%973.ipynb\" target=\"_parent\"><img src=\"https://colab.research.google.com/assets/colab-badge.svg\" alt=\"Open In Colab\"/></a>"
      ]
    },
    {
      "cell_type": "markdown",
      "source": [
        "###ИДЗ 3. Нечёткие модели.\n",
        "####Вариант 11."
      ],
      "metadata": {
        "id": "iGTLbtBtP-2r"
      }
    },
    {
      "cell_type": "code",
      "source": [
        "import numpy as np\n",
        "import pandas as pd\n",
        "import matplotlib.pyplot as plt\n",
        "import math\n",
        "from sklearn.metrics import r2_score\n",
        "from sklearn.metrics import mean_squared_error\n",
        "from matplotlib.animation import FuncAnimation\n",
        "import pylab\n",
        "%matplotlib inline"
      ],
      "metadata": {
        "id": "JUtS4nCPQ_md"
      },
      "execution_count": 1,
      "outputs": []
    },
    {
      "cell_type": "code",
      "execution_count": 8,
      "metadata": {
        "id": "fXkuH1sFP1lF"
      },
      "outputs": [],
      "source": [
        "#Вид функции: f(t) = (t**3) - 37 * (t**2) + 447 * t - 1755 = (t - 9) * (t - 13) * (t - 15)\n",
        "def f(t):\n",
        "  return ((t - 9) * (t - 13) * (t - 15))\n",
        "#Производная функции f(t)\n",
        "def df(t):\n",
        "  return (3 * (t**2) - 74 * t + 447)"
      ]
    },
    {
      "cell_type": "code",
      "source": [
        "t = np.linspace(0, 100, num = 200)\n",
        "f_t = f(t)\n",
        "print('Вид функции f(t)\\n')\n",
        "plt.plot(t, f_t)"
      ],
      "metadata": {
        "id": "Lq0KLZlKRC8O",
        "outputId": "1d2c2dac-8d70-4f27-d034-ee9d74389e4f",
        "colab": {
          "base_uri": "https://localhost:8080/",
          "height": 319
        }
      },
      "execution_count": 15,
      "outputs": [
        {
          "output_type": "stream",
          "name": "stdout",
          "text": [
            "Вид функции f(t)\n",
            "\n"
          ]
        },
        {
          "output_type": "execute_result",
          "data": {
            "text/plain": [
              "[<matplotlib.lines.Line2D at 0x7f8fd3bfca90>]"
            ]
          },
          "metadata": {},
          "execution_count": 15
        },
        {
          "output_type": "display_data",
          "data": {
            "image/png": "[encoded data removed]",
            "text/plain": [
              "<Figure size 432x288 with 1 Axes>"
            ]
          },
          "metadata": {
            "needs_background": "light"
          }
        }
      ]
    },
    {
      "cell_type": "code",
      "source": [
        "df_t = df(t)\n",
        "print('Вид производной функции f(t)\\n')\n",
        "plt.plot(t, df_t)"
      ],
      "metadata": {
        "id": "L_ELmJVHLqGG",
        "outputId": "21ae1572-9b67-4532-8f3c-25b6893e92f9",
        "colab": {
          "base_uri": "https://localhost:8080/",
          "height": 317
        }
      },
      "execution_count": 16,
      "outputs": [
        {
          "output_type": "stream",
          "name": "stdout",
          "text": [
            "Вид производной функции f(t)\n",
            "\n"
          ]
        },
        {
          "output_type": "execute_result",
          "data": {
            "text/plain": [
              "[<matplotlib.lines.Line2D at 0x7f8fd3be8e90>]"
            ]
          },
          "metadata": {},
          "execution_count": 16
        },
        {
          "output_type": "display_data",
          "data": {
            "image/png": "[encoded data removed]",
            "text/plain": [
              "<Figure size 432x288 with 1 Axes>"
            ]
          },
          "metadata": {
            "needs_background": "light"
          }
        }
      ]
    },
    {
      "cell_type": "code",
      "source": [
        "#Нахождение уравнения касательной.\n",
        "#Для примера возьмём из нашей выборки точку под номером 47 и 122\n",
        "def finding_tangent_equation(num, t0):\n",
        "  #формула имеет вид: y = a*t+b, где\n",
        "  #a = f'(t0); b = f(t0) - t0 * f'(t0)\n",
        "  a = df(t0)\n",
        "  b = f(t0) - t0 * df(t0)\n",
        "  print(str(num) + '-е уравнение касательной имеет вид: y = ' + str(round(a, 4)) + ' * t + (' + str(round(b, 4)) + ')')\n",
        "  return a, b\n",
        "a1, b1 = finding_tangent_equation(1, t[47 - 1])\n",
        "a2, b2 = finding_tangent_equation(2, t[122 - 1])"
      ],
      "metadata": {
        "id": "GEctgXBGRx8q",
        "outputId": "a6890c37-333a-4785-c040-e8762fdc7bd1",
        "colab": {
          "base_uri": "https://localhost:8080/"
        }
      },
      "execution_count": 23,
      "outputs": [
        {
          "output_type": "stream",
          "name": "stdout",
          "text": [
            "1-е уравнение касательной имеет вид: y = 339.4371 * t + (-6687.4829)\n",
            "2-е уравнение касательной имеет вид: y = 7038.8891 * t + (-314561.8272)\n"
          ]
        }
      ]
    },
    {
      "cell_type": "code",
      "source": [
        "#Функция касательных:\n",
        "def tangent(a, b, t):\n",
        "  return (a * t + b)\n",
        "  \n",
        "y1 = tangent(a1, b1, t)\n",
        "y2 = tangent(a2, b2, t)"
      ],
      "metadata": {
        "id": "C1Sor-9dTL-K"
      },
      "execution_count": 27,
      "outputs": []
    },
    {
      "cell_type": "code",
      "source": [
        ""
      ],
      "metadata": {
        "id": "wCguLK5oTVRf"
      },
      "execution_count": 26,
      "outputs": []
    },
    {
      "cell_type": "code",
      "source": [
        ""
      ],
      "metadata": {
        "id": "MpWJkC2eTmRw"
      },
      "execution_count": null,
      "outputs": []
    }
  ]
}