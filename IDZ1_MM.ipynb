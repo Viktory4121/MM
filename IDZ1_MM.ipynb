{
  "nbformat": 4,
  "nbformat_minor": 0,
  "metadata": {
    "colab": {
      "name": "IDZ1_MM.ipynb",
      "provenance": [],
      "collapsed_sections": [],
      "authorship_tag": "ABX9TyOLD3Q61LPuonvP6VdjNk6n",
      "include_colab_link": true
    },
    "kernelspec": {
      "name": "python3",
      "display_name": "Python 3"
    },
    "language_info": {
      "name": "python"
    }
  },
  "cells": [
    {
      "cell_type": "markdown",
      "metadata": {
        "id": "view-in-github",
        "colab_type": "text"
      },
      "source": [
        "<a href=\"https://colab.research.google.com/github/Viktory4121/MM/blob/main/IDZ1_MM.ipynb\" target=\"_parent\"><img src=\"https://colab.research.google.com/assets/colab-badge.svg\" alt=\"Open In Colab\"/></a>"
      ]
    },
    {
      "cell_type": "markdown",
      "metadata": {
        "id": "b9apSi2mL3xq"
      },
      "source": [
        "### ИДЗ 1. Математическое моделирование.\n",
        "### Вариант 11.\n"
      ]
    },
    {
      "cell_type": "code",
      "metadata": {
        "id": "d-A5xFNtHoqF"
      },
      "source": [
        "import numpy as np\n",
        "import pandas as pd\n",
        "import matplotlib.pyplot as plt\n",
        "import math\n",
        "from sklearn.metrics import r2_score\n",
        "from sklearn.metrics import mean_squared_error"
      ],
      "execution_count": 1,
      "outputs": []
    },
    {
      "cell_type": "code",
      "metadata": {
        "id": "ECm-oX5WHrFe"
      },
      "source": [
        "t = [0.0, 0.1, 0.2, 0.3, 0.4, 0.5, 0.6, 0.7, 0.8, 0.9, 1.0]\n",
        "\n",
        "#x'(t) значения\n",
        "x_ = [7.136746784, 9.737908047, 13.72630457, 19.37279192, \n",
        "      27.85057529, 40.2175683, 59.13442703, 87.4633073, \n",
        "      130.1576377, 193.7794096, 289.4217596]\n",
        "m = 2.0\n",
        "n = 0.0\n",
        "p = 4.0\n",
        "q = 2.0\n",
        "r = 2.0"
      ],
      "execution_count": 2,
      "outputs": []
    },
    {
      "cell_type": "code",
      "metadata": {
        "colab": {
          "base_uri": "https://localhost:8080/",
          "height": 285
        },
        "id": "FOgzN4hSLT1s",
        "outputId": "415cf25a-7791-4c99-cf2e-af93de562ac6"
      },
      "source": [
        "#График значений x'\n",
        "plt.plot(t, x_)"
      ],
      "execution_count": 3,
      "outputs": [
        {
          "output_type": "execute_result",
          "data": {
            "text/plain": [
              "[<matplotlib.lines.Line2D at 0x7fc9481768d0>]"
            ]
          },
          "metadata": {},
          "execution_count": 3
        },
        {
          "output_type": "display_data",
          "data": {
            "image/png": "[encoded data removed]",
            "text/plain": [
              "<Figure size 432x288 with 1 Axes>"
            ]
          },
          "metadata": {
            "needs_background": "light"
          }
        }
      ]
    },
    {
      "cell_type": "code",
      "metadata": {
        "colab": {
          "base_uri": "https://localhost:8080/",
          "height": 283
        },
        "id": "l3dcWs4oOW9-",
        "outputId": "3ed194b3-01a3-4d93-a145-154a1e3aa35b"
      },
      "source": [
        "#Поиск значений функции f(t)\n",
        "def f(tt):\n",
        "  return (p * (tt**m) + q * (tt**n) + r)\n",
        "\n",
        "f_t = []\n",
        "for i in t:\n",
        "  f_t.append(f(i))\n",
        "\n",
        "plt.plot(t, f_t)"
      ],
      "execution_count": 4,
      "outputs": [
        {
          "output_type": "execute_result",
          "data": {
            "text/plain": [
              "[<matplotlib.lines.Line2D at 0x7fc947cd4f10>]"
            ]
          },
          "metadata": {},
          "execution_count": 4
        },
        {
          "output_type": "display_data",
          "data": {
            "image/png": "[encoded data removed]",
            "text/plain": [
              "<Figure size 432x288 with 1 Axes>"
            ]
          },
          "metadata": {
            "needs_background": "light"
          }
        }
      ]
    },
    {
      "cell_type": "code",
      "metadata": {
        "colab": {
          "base_uri": "https://localhost:8080/",
          "height": 283
        },
        "id": "CccUzc_WRa50",
        "outputId": "9913ba48-88df-4b44-b37a-4bc5cb5bc74f"
      },
      "source": [
        "#k(t) теоретическое\n",
        "k_t = []\n",
        "for i in range(len(t)):\n",
        "  k_t.append(x_[i]/f_t[i])\n",
        "\n",
        "plt.plot(t, k_t)"
      ],
      "execution_count": 5,
      "outputs": [
        {
          "output_type": "execute_result",
          "data": {
            "text/plain": [
              "[<matplotlib.lines.Line2D at 0x7fc947bdb350>]"
            ]
          },
          "metadata": {},
          "execution_count": 5
        },
        {
          "output_type": "display_data",
          "data": {
            "image/png": "[encoded data removed]",
            "text/plain": [
              "<Figure size 432x288 with 1 Axes>"
            ]
          },
          "metadata": {
            "needs_background": "light"
          }
        }
      ]
    },
    {
      "cell_type": "markdown",
      "metadata": {
        "id": "bCiBJyBMWd3B"
      },
      "source": [
        "### Предположим, что k(t) имеет вид функции k(t)=b*exp(a*t)"
      ]
    },
    {
      "cell_type": "code",
      "metadata": {
        "colab": {
          "base_uri": "https://localhost:8080/"
        },
        "id": "aIgq7UivWO-4",
        "outputId": "de494802-0432-4671-89fc-da430abd95e0"
      },
      "source": [
        "k_t_log = []\n",
        "for i in range(len(k_t)):\n",
        "  k_t_log.append(math.log(k_t[i]))\n",
        "\n",
        "#Эмпирические коэффициенты\n",
        "a = ((np.mean(np.array(k_t_log) * np.array(t))) - np.mean(np.array(k_t_log)) * np.mean(np.array(t)))/(np.mean(np.array(t)**2) * np.mean(np.array(t)**2))\n",
        "b = math.exp(np.mean(np.array(k_t_log)) - a * np.mean(np.array(t)))\n",
        "print(a, b)\n"
      ],
      "execution_count": 6,
      "outputs": [
        {
          "output_type": "stream",
          "name": "stdout",
          "text": [
            "2.4520921893672583 2.365292911899017\n"
          ]
        }
      ]
    },
    {
      "cell_type": "markdown",
      "metadata": {
        "id": "K6cFaVuij2Gy"
      },
      "source": [
        "### Получим эмпирическую функцию k(t) = b exp(at)"
      ]
    },
    {
      "cell_type": "code",
      "metadata": {
        "colab": {
          "base_uri": "https://localhost:8080/",
          "height": 283
        },
        "id": "Q6vd7U5ykQgm",
        "outputId": "6bbe9fd5-95b9-412c-8f9c-82779dc925ca"
      },
      "source": [
        "#k(t) эмпирическое\n",
        "k_t_empir = []\n",
        "for i in range(len(t)):\n",
        "  k_t_empir.append(b * math.exp(a * t[i]))\n",
        "\n",
        "plt.plot(t, k_t_empir)"
      ],
      "execution_count": 7,
      "outputs": [
        {
          "output_type": "execute_result",
          "data": {
            "text/plain": [
              "[<matplotlib.lines.Line2D at 0x7fc947b5f210>]"
            ]
          },
          "metadata": {},
          "execution_count": 7
        },
        {
          "output_type": "display_data",
          "data": {
            "image/png": "[encoded data removed]",
            "text/plain": [
              "<Figure size 432x288 with 1 Axes>"
            ]
          },
          "metadata": {
            "needs_background": "light"
          }
        }
      ]
    },
    {
      "cell_type": "code",
      "metadata": {
        "colab": {
          "base_uri": "https://localhost:8080/"
        },
        "id": "NeDMUo0pk213",
        "outputId": "f30a11ff-4f6d-49f4-f680-2d485177dd08"
      },
      "source": [
        "#Коэффициент детерминации\n",
        "#R2 = (sum(np.array(k_t_empir) - np.mean(np.array(k_t)))**2)/(sum(np.array(k_t) - np.mean(np.array(k_t)))**2)\n",
        "print(r2_score(k_t, k_t_empir))\n"
      ],
      "execution_count": 8,
      "outputs": [
        {
          "output_type": "stream",
          "name": "stdout",
          "text": [
            "0.9067975025259528\n"
          ]
        }
      ]
    },
    {
      "cell_type": "markdown",
      "metadata": {
        "id": "H1mIbyVZm17F"
      },
      "source": [
        "### Вернёмся к первоначальному уравнению x'=k(t)f(t)"
      ]
    },
    {
      "cell_type": "code",
      "metadata": {
        "id": "wgk2YdFqm1fa"
      },
      "source": [
        "#Если решать вручную:\n",
        "# dx/dt=k(t)*f(t)\n",
        "# dx=k(t)*f(t)*dt\n",
        "# dx=b*exp(at)*(p*(t**m)+q*(t**n)+r)*dt\n",
        "# dx=b*exp(at)*p*(t**m) + b*exp(at)*q*(t**n) + b*exp(at)*r\n",
        "#Два интеграла решаются по частям\n"
      ],
      "execution_count": 9,
      "outputs": []
    },
    {
      "cell_type": "markdown",
      "metadata": {
        "id": "Nv_4SNc8FDQA"
      },
      "source": [
        "### Получим аналитическим способом уравнение:\n",
        "### x(t)=bp exp(at) ((t^2)/a - 2t/a^2 + 2/a^3) + bq exp(at)/a + br exp(at) / a + CONST"
      ]
    },
    {
      "cell_type": "code",
      "metadata": {
        "id": "BGOEm3mSsLtV",
        "colab": {
          "base_uri": "https://localhost:8080/",
          "height": 283
        },
        "outputId": "41da0bfc-f95f-4fe6-df25-5a52b348868b"
      },
      "source": [
        "#Вычисление значений функции, найденной аналитическим путём x(t)\n",
        "x_t = []\n",
        "for i in range(len(t)):\n",
        "  x_t.append((b*p*math.exp(a*t[i]))*(((t[i]*t[i])/a) - ((m*t[i])/(a*a)) + (m/(a*a*a))) + ((b*q*math.exp(a*t[i]))/a) + ((b*r*math.exp(a*t[i]))/a))\n",
        "#В значениях x(t0) не хватает прибавить какую-нибудь константу\n",
        "plt.plot(t, x_t)"
      ],
      "execution_count": 10,
      "outputs": [
        {
          "output_type": "execute_result",
          "data": {
            "text/plain": [
              "[<matplotlib.lines.Line2D at 0x7fc947b4c510>]"
            ]
          },
          "metadata": {},
          "execution_count": 10
        },
        {
          "output_type": "display_data",
          "data": {
            "image/png": "[encoded data removed]",
            "text/plain": [
              "<Figure size 432x288 with 1 Axes>"
            ]
          },
          "metadata": {
            "needs_background": "light"
          }
        }
      ]
    },
    {
      "cell_type": "markdown",
      "metadata": {
        "id": "_PdTkAIOS3lF"
      },
      "source": [
        "### Поиск x(t) численным методом"
      ]
    },
    {
      "cell_type": "code",
      "metadata": {
        "id": "Sxx0FBhyPfQU"
      },
      "source": [
        "def fun(t0):\n",
        "  return (b*math.exp(a*t0) * (p*(t0**float(m)) + q*t0 + r))\n",
        "\n",
        "def gen_t(h):\n",
        "  xx = []\n",
        "  i = 0.0\n",
        "  while(i <= 1):\n",
        "    xx.append(i)\n",
        "    i += h\n",
        "  if(xx[len(xx) - 1] < 0.99999):\n",
        "     xx.append(1)\n",
        "  return xx\n",
        "\n",
        "def accuracy(x1, x2):\n",
        "  vv = []\n",
        "  max_ = -1.0\n",
        "  size_x = 0\n",
        "\n",
        "  if((2*len(x1)) > len(x2)):\n",
        "    size_x = len(x1) - 1\n",
        "  else:\n",
        "    size_x = len(x1)\n",
        "\n",
        "  for i in range(size_x):\n",
        "    vv.append(abs(x1[i] - x2[2 * i]))\n",
        "    if(max_ < vv[i]):\n",
        "      max_ = vv[i]\n",
        "  vv = []\n",
        "  return max_\n",
        "\n",
        "def Eiler(x):\n",
        "  x1 = []\n",
        "  x2 = []\n",
        "  t1 = []\n",
        "  t2 = []\n",
        "  h0 = 0.1\n",
        "  n = 10\n",
        "  eps = 0.01\n",
        "\n",
        "  t1 = gen_t(h0)\n",
        "  x1.append(x[0])\n",
        "\n",
        "  for i in range(1,11):\n",
        "    x1.append(x1[i - 1] + h0 * fun(t1[i - 1]))\n",
        "\n",
        "  while(1):\n",
        "    n *= 2.0\n",
        "    h0 = 1.0 / n\n",
        "\n",
        "    t2 = gen_t(h0)\n",
        "    x2.append(x[0])\n",
        "    for i in range(1, len(t2)):\n",
        "      x2.append(x2[i - 1] + h0 * fun(t2[i - 1]))\n",
        "\n",
        "    acc = accuracy(x1, x2)\n",
        "    if(eps > acc):\n",
        "      return h0, x2\n",
        "    \n",
        "    x1 = []\n",
        "    t1 = []\n",
        "    x1 = x2\n",
        "    t1 = t2\n",
        "    x2 = []\n",
        "    t2 = []"
      ],
      "execution_count": 33,
      "outputs": []
    },
    {
      "cell_type": "code",
      "metadata": {
        "colab": {
          "base_uri": "https://localhost:8080/"
        },
        "id": "nobJm26uVBhN",
        "outputId": "780b0fd2-60ee-48aa-c178-602942b75c7c"
      },
      "source": [
        "h_num, x_num = Eiler(x_t)"
      ],
      "execution_count": 34,
      "outputs": [
        {
          "output_type": "stream",
          "name": "stdout",
          "text": [
            "11 \n",
            " 11 \n",
            " 21 \n",
            " 21\n",
            "21 \n",
            " 21 \n",
            " 41 \n",
            " 41\n",
            "41 \n",
            " 41 \n",
            " 81 \n",
            " 81\n",
            "81 \n",
            " 81 \n",
            " 161 \n",
            " 161\n",
            "161 \n",
            " 161 \n",
            " 321 \n",
            " 321\n",
            "321 \n",
            " 321 \n",
            " 641 \n",
            " 641\n",
            "641 \n",
            " 641 \n",
            " 1281 \n",
            " 1281\n",
            "1281 \n",
            " 1281 \n",
            " 2561 \n",
            " 2561\n",
            "2561 \n",
            " 2561 \n",
            " 5121 \n",
            " 5121\n",
            "5121 \n",
            " 5121 \n",
            " 10241 \n",
            " 10241\n",
            "10241 \n",
            " 10241 \n",
            " 20481 \n",
            " 20481\n"
          ]
        }
      ]
    }
  ]
}