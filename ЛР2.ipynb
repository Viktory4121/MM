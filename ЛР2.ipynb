{
  "nbformat": 4,
  "nbformat_minor": 0,
  "metadata": {
    "colab": {
      "name": "ЛР2.ipynb",
      "provenance": [],
      "collapsed_sections": [],
      "authorship_tag": "ABX9TyPnp5h4fW4Y8hjYEzVjQycV",
      "include_colab_link": true
    },
    "kernelspec": {
      "name": "python3",
      "display_name": "Python 3"
    },
    "language_info": {
      "name": "python"
    }
  },
  "cells": [
    {
      "cell_type": "markdown",
      "metadata": {
        "id": "view-in-github",
        "colab_type": "text"
      },
      "source": [
        "<a href=\"https://colab.research.google.com/github/Viktory4121/MM/blob/main/%D0%9B%D0%A02.ipynb\" target=\"_parent\"><img src=\"https://colab.research.google.com/assets/colab-badge.svg\" alt=\"Open In Colab\"/></a>"
      ]
    },
    {
      "cell_type": "markdown",
      "source": [
        "### Лабораторная работа №2.\n",
        "#### Вероятностные конечные автоматы.\n",
        "##### Вариант 11."
      ],
      "metadata": {
        "id": "_CNa1Es5a5UD"
      }
    },
    {
      "cell_type": "code",
      "execution_count": 12,
      "metadata": {
        "id": "nny0rpEfaYaw"
      },
      "outputs": [],
      "source": [
        "import numpy as np\n",
        "import pandas as pd\n",
        "import random\n",
        "import copy\n",
        "import math\n",
        "from prettytable import PrettyTable"
      ]
    },
    {
      "cell_type": "markdown",
      "source": [
        "#### Входные параметры:"
      ],
      "metadata": {
        "id": "JfDDTEGYboPu"
      }
    },
    {
      "cell_type": "code",
      "source": [
        "#начальные состояния:\n",
        "P0_ksi1 = 0.3\n",
        "P0_ksi2 = 0.5\n",
        "P0_ksi3 = 0.1\n",
        "P0_ksi4 = 0.1\n",
        "print('Требование равенства единице по всем начальным состояниям: ' + str((P0_ksi1+P0_ksi2+P0_ksi3+P0_ksi4) == 1))\n",
        "\n",
        "t = [i for i in range(1, 11)]"
      ],
      "metadata": {
        "colab": {
          "base_uri": "https://localhost:8080/"
        },
        "id": "vFqCnRJmajpQ",
        "outputId": "3665b810-8ea1-4dfe-e6d2-580c3e4ff291"
      },
      "execution_count": 13,
      "outputs": [
        {
          "output_type": "stream",
          "name": "stdout",
          "text": [
            "Требование равенства единице по всем начальным состояниям: True\n"
          ]
        }
      ]
    },
    {
      "cell_type": "markdown",
      "source": [
        ""
      ],
      "metadata": {
        "id": "l_I935lpcVVE"
      }
    },
    {
      "cell_type": "code",
      "source": [
        "#f11 = t\n",
        "#f12 = math.sqrt(abs(1-(t*t)))\n",
        "#f13 = ((t**3)+2)**(1/5)\n",
        "#f14 = math.sqrt(t*t+1)\n",
        "#f21 = t**4\n",
        "#f22 = math.sqrt(4+t**3)\n",
        "#f23 = t**3\n",
        "#f24 = math.aqrt((t**4)+10)\n",
        "#f31 = 6*t-5\n",
        "#f32 = 2*math.sqrt(3*t*t-5*t+6)\n",
        "#f33 = t\n",
        "#f34 = math.sqrt(t*t-1)\n",
        "#f41 = abs(sin(t)**3)\n",
        "#f42 = cos(t)\n",
        "#f43 = abs(sin(t))\n",
        "#f44 = cos(t)**2"
      ],
      "metadata": {
        "id": "W9Dj3YqLcVrU"
      },
      "execution_count": null,
      "outputs": []
    }
  ]
}